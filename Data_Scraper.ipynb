{
 "cells": [
  {
   "cell_type": "code",
   "execution_count": 1,
   "id": "adverse-minneapolis",
   "metadata": {},
   "outputs": [
    {
     "name": "stdout",
     "output_type": "stream",
     "text": [
      "Libraries imported\n"
     ]
    }
   ],
   "source": [
    "#Import libraries\n",
    "from scraper import get_all_urls, get_car_features, get_one_page_urls\n",
    "import pandas as pd\n",
    "import pickle\n",
    "import time, os\n",
    "\n",
    "from bs4 import BeautifulSoup\n",
    "import requests\n",
    "\n",
    "import re\n",
    "\n",
    "import random\n",
    "\n",
    "print('Libraries imported')"
   ]
  },
  {
   "cell_type": "code",
   "execution_count": 2,
   "id": "consolidated-gravity",
   "metadata": {},
   "outputs": [],
   "source": [
    "#chrome_driver_path = \"C:\\Metis_Bootcamp\\Regression_project\\chromedriver.exe\"\n",
    "\n",
    "#This header is to bypass CAPCHA\n",
    "header = {\n",
    "    \"User-Agent\": \"Mozilla/5.0 (Macintosh; Intel Mac OS X 10_15_5) AppleWebKit/537.36 (KHTML, like Gecko) Chrome/84.0.4147.125 Safari/537.36\",\n",
    "    \"Accept-Language\": \"en-GB,en-US;q=0.9,en;q=0.8\"\n",
    "}\n",
    "\n",
    "#Dataframe headers\n",
    "df_headers = [\"Name\", \"Mileage\", \"Address\", \"Rating\", \"Fuel Type\", \"City MPG\", \n",
    "               \"Highway MPG\", \"Drivetrain\", \"Engine\", \"Exterior Color\", \"Interior Color\", \n",
    "              \"Transmission\", \"Entertainment\", \"Safety\", \"Price\"]\n",
    "\n"
   ]
  },
  {
   "cell_type": "code",
   "execution_count": 7,
   "id": "metropolitan-barbados",
   "metadata": {
    "scrolled": true
   },
   "outputs": [
    {
     "name": "stdout",
     "output_type": "stream",
     "text": [
      "..\n",
      "..\n",
      "Done for page 1 to page 10\n",
      "Done for page 11 to page 20\n",
      "..\n",
      "..\n",
      "..\n",
      "Done for page 21 to page 30\n",
      "..\n",
      "..\n",
      "Done for page 31 to page 40\n",
      "..\n",
      "Done for page 41 to page 50\n",
      "Done for page 51 to page 60\n"
     ]
    }
   ],
   "source": [
    "start_page = 1\n",
    "\n",
    "seattle_zipcode = 98125\n",
    "tacoma_zipcode = 98409 \n",
    "portland_zipcode = 97214\n",
    "garden_grove_zipcode = 92840\n",
    "san_jose_zipcode = 95113\n",
    "chicago_zipcode = 60602\n",
    "ny_zipcode = 11213\n",
    "dallas_zipcode = 75201\n",
    "houston_zipcode = 77004\n",
    "phoenix_zipcode = 85034\n",
    "kansas_zipcode = 64108\n",
    "philly_zipcode = 19130\n",
    "salt_lake_zipcode = 84119\n",
    "sacto_zipcode = 95608\n",
    "denver_zipcode = 80202\n",
    "indianapolis_zipcode = 46202\n",
    "detroit_zipcode = 48067\n",
    "pittsbutgh_zipcode = 15232\n",
    "baltimore_zipcode = 21201\n",
    "colorado_springs_zipcode = 80909\n",
    "olympia_zipcode = 98512\n",
    "santa_rosa_zipcode = 95401\n",
    "la_zipcode = 93065\n",
    "san_diego_zipcode = 92025\n",
    "alberquerque_zipcode = 87107\n",
    "san_antonio_zipcode = 78212\n",
    "oklahoma_zipcode = 73159\n",
    "tulsa_zipcode = 74145\n",
    "nebraska_zipcode = 68107\n",
    "minneapolis_zipcode = 55403\n",
    "green_bay_wisconson_zipcode = 54304\n",
    "milwaukee_zipcode = 53233\n",
    "desmoines_iowa_zipcode = 50311\n",
    "st_louis_zipcode = 63103\n",
    "cincinnati_zipcode = 45202\n",
    "louisville_zipcode = 40205\n",
    "nashville_zipcode = 37203\n",
    "atlanta_zipcode = 30313\n",
    "\n",
    "\n",
    "for i in range(6): \n",
    "    \n",
    "    list_of_url = get_all_urls(start_page=start_page, num_of_pages=10, radius=50, zipcode=atlanta_zipcode)\n",
    "    \n",
    "    cars_list = []\n",
    "\n",
    "    for url in list_of_url:\n",
    "        try:\n",
    "            get_car_features(url)\n",
    "        except:\n",
    "            print('..')\n",
    "\n",
    "    df = pd.DataFrame(cars_list)\n",
    "    \n",
    "    df.to_csv('data/df_1000_{}_p{}_p{}.csv'.format(atlanta_zipcode, start_page, start_page+9))\n",
    "    \n",
    "    print(\"Done for page {} to page {}\".format(start_page, start_page+9))\n",
    "    \n",
    "    start_page += 10\n",
    "    \n",
    "    time.sleep(60)"
   ]
  }
 ],
 "metadata": {
  "kernelspec": {
   "display_name": "Python [conda env:metis] *",
   "language": "python",
   "name": "conda-env-metis-py"
  },
  "language_info": {
   "codemirror_mode": {
    "name": "ipython",
    "version": 3
   },
   "file_extension": ".py",
   "mimetype": "text/x-python",
   "name": "python",
   "nbconvert_exporter": "python",
   "pygments_lexer": "ipython3",
   "version": "3.8.8"
  }
 },
 "nbformat": 4,
 "nbformat_minor": 5
}

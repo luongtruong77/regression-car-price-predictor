{
 "cells": [
  {
   "cell_type": "code",
   "execution_count": 1,
   "id": "coordinated-firewall",
   "metadata": {},
   "outputs": [
    {
     "name": "stdout",
     "output_type": "stream",
     "text": [
      "Libraries imported\n"
     ]
    }
   ],
   "source": [
    "# Necessary imports\n",
    "import warnings\n",
    "warnings.filterwarnings(\"ignore\")\n",
    "import pandas as pd\n",
    "import numpy as np\n",
    "import statsmodels.api as sm\n",
    "import statsmodels.formula.api as smf\n",
    "import patsy\n",
    "import glob\n",
    "import re\n",
    "\n",
    "import seaborn as sns\n",
    "import matplotlib.pyplot as plt\n",
    "\n",
    "%matplotlib inline\n",
    "\n",
    "print('Libraries imported')"
   ]
  },
  {
   "cell_type": "code",
   "execution_count": 2,
   "id": "ancient-climb",
   "metadata": {},
   "outputs": [
    {
     "name": "stdout",
     "output_type": "stream",
     "text": [
      "(187168, 15)\n"
     ]
    },
    {
     "data": {
      "text/html": [
       "<div>\n",
       "<style scoped>\n",
       "    .dataframe tbody tr th:only-of-type {\n",
       "        vertical-align: middle;\n",
       "    }\n",
       "\n",
       "    .dataframe tbody tr th {\n",
       "        vertical-align: top;\n",
       "    }\n",
       "\n",
       "    .dataframe thead th {\n",
       "        text-align: right;\n",
       "    }\n",
       "</style>\n",
       "<table border=\"1\" class=\"dataframe\">\n",
       "  <thead>\n",
       "    <tr style=\"text-align: right;\">\n",
       "      <th></th>\n",
       "      <th>Name</th>\n",
       "      <th>Mileage</th>\n",
       "      <th>Address</th>\n",
       "      <th>Rating</th>\n",
       "      <th>Fuel Type</th>\n",
       "      <th>City MPG</th>\n",
       "      <th>Highway MPG</th>\n",
       "      <th>Drivetrain</th>\n",
       "      <th>Engine</th>\n",
       "      <th>Exterior Color</th>\n",
       "      <th>Interior Color</th>\n",
       "      <th>Transmission</th>\n",
       "      <th>Entertainment</th>\n",
       "      <th>Safety</th>\n",
       "      <th>Price</th>\n",
       "    </tr>\n",
       "  </thead>\n",
       "  <tbody>\n",
       "    <tr>\n",
       "      <th>0</th>\n",
       "      <td>2020 BMW 330 i xDrive</td>\n",
       "      <td>24,371</td>\n",
       "      <td>Brooklyn, NY 11203</td>\n",
       "      <td>3.5</td>\n",
       "      <td>Gasoline</td>\n",
       "      <td>25</td>\n",
       "      <td>34</td>\n",
       "      <td>AWD</td>\n",
       "      <td>2.0L I4 16V GDI DOHC Turbo</td>\n",
       "      <td>Jet Black</td>\n",
       "      <td>Black</td>\n",
       "      <td>8-Speed Automatic</td>\n",
       "      <td>['Bluetooth', 'Apple CarPlay/Android Auto']</td>\n",
       "      <td>['Backup Camera', 'Brake Assist', 'Stability C...</td>\n",
       "      <td>$29,893</td>\n",
       "    </tr>\n",
       "    <tr>\n",
       "      <th>1</th>\n",
       "      <td>2015 Audi A6 2.0T Premium Plus</td>\n",
       "      <td>89,351</td>\n",
       "      <td>Brooklyn, NY 11207</td>\n",
       "      <td>2.2</td>\n",
       "      <td>Gasoline</td>\n",
       "      <td>20</td>\n",
       "      <td>29</td>\n",
       "      <td>AWD</td>\n",
       "      <td>2.0L I4 16V GDI DOHC Turbo</td>\n",
       "      <td>Gray</td>\n",
       "      <td>-1</td>\n",
       "      <td>8-Speed Automatic</td>\n",
       "      <td>['Bluetooth', 'Premium Sound System']</td>\n",
       "      <td>['Brake Assist', 'Stability Control']</td>\n",
       "      <td>$16,995</td>\n",
       "    </tr>\n",
       "    <tr>\n",
       "      <th>2</th>\n",
       "      <td>2018 Toyota RAV4 Limited</td>\n",
       "      <td>11,863</td>\n",
       "      <td>Brooklyn, NY 11210</td>\n",
       "      <td>3.5</td>\n",
       "      <td>Gasoline</td>\n",
       "      <td>22</td>\n",
       "      <td>28</td>\n",
       "      <td>AWD</td>\n",
       "      <td>2.5L I4 16V MPFI DOHC</td>\n",
       "      <td>Black</td>\n",
       "      <td>Black</td>\n",
       "      <td>6-Speed Automatic</td>\n",
       "      <td>['Bluetooth', 'Premium Sound System']</td>\n",
       "      <td>['Backup Camera', 'Brake Assist', 'Stability C...</td>\n",
       "      <td>$26,225</td>\n",
       "    </tr>\n",
       "    <tr>\n",
       "      <th>3</th>\n",
       "      <td>2018 Toyota RAV4 Limited</td>\n",
       "      <td>17,501</td>\n",
       "      <td>Brooklyn, NY 11210</td>\n",
       "      <td>3.5</td>\n",
       "      <td>Gasoline</td>\n",
       "      <td>22</td>\n",
       "      <td>28</td>\n",
       "      <td>AWD</td>\n",
       "      <td>2.5L I4 16V MPFI DOHC</td>\n",
       "      <td>Gray</td>\n",
       "      <td>-1</td>\n",
       "      <td>6-Speed Automatic</td>\n",
       "      <td>['Bluetooth', 'Premium Sound System']</td>\n",
       "      <td>['Backup Camera', 'Brake Assist', 'Stability C...</td>\n",
       "      <td>$25,903</td>\n",
       "    </tr>\n",
       "    <tr>\n",
       "      <th>4</th>\n",
       "      <td>2019 Honda CR-V EX-L</td>\n",
       "      <td>19,241</td>\n",
       "      <td>Brooklyn, NY 11210</td>\n",
       "      <td>3.5</td>\n",
       "      <td>Gasoline</td>\n",
       "      <td>27</td>\n",
       "      <td>33</td>\n",
       "      <td>AWD</td>\n",
       "      <td>1.5L I4 16V GDI DOHC Turbo</td>\n",
       "      <td>Gray</td>\n",
       "      <td>-1</td>\n",
       "      <td>Automatic CVT</td>\n",
       "      <td>['Bluetooth', 'Apple CarPlay/Android Auto']</td>\n",
       "      <td>['Backup Camera', 'Brake Assist', 'Stability C...</td>\n",
       "      <td>$28,145</td>\n",
       "    </tr>\n",
       "  </tbody>\n",
       "</table>\n",
       "</div>"
      ],
      "text/plain": [
       "                              Name Mileage             Address  Rating  \\\n",
       "0            2020 BMW 330 i xDrive  24,371  Brooklyn, NY 11203     3.5   \n",
       "1   2015 Audi A6 2.0T Premium Plus  89,351  Brooklyn, NY 11207     2.2   \n",
       "2         2018 Toyota RAV4 Limited  11,863  Brooklyn, NY 11210     3.5   \n",
       "3         2018 Toyota RAV4 Limited  17,501  Brooklyn, NY 11210     3.5   \n",
       "4             2019 Honda CR-V EX-L  19,241  Brooklyn, NY 11210     3.5   \n",
       "\n",
       "   Fuel Type  City MPG  Highway MPG Drivetrain                       Engine  \\\n",
       "0   Gasoline        25           34        AWD   2.0L I4 16V GDI DOHC Turbo   \n",
       "1   Gasoline        20           29        AWD   2.0L I4 16V GDI DOHC Turbo   \n",
       "2   Gasoline        22           28        AWD        2.5L I4 16V MPFI DOHC   \n",
       "3   Gasoline        22           28        AWD        2.5L I4 16V MPFI DOHC   \n",
       "4   Gasoline        27           33        AWD   1.5L I4 16V GDI DOHC Turbo   \n",
       "\n",
       "  Exterior Color Interior Color        Transmission  \\\n",
       "0      Jet Black          Black   8-Speed Automatic   \n",
       "1           Gray             -1   8-Speed Automatic   \n",
       "2          Black          Black   6-Speed Automatic   \n",
       "3           Gray             -1   6-Speed Automatic   \n",
       "4           Gray             -1       Automatic CVT   \n",
       "\n",
       "                                 Entertainment  \\\n",
       "0  ['Bluetooth', 'Apple CarPlay/Android Auto']   \n",
       "1        ['Bluetooth', 'Premium Sound System']   \n",
       "2        ['Bluetooth', 'Premium Sound System']   \n",
       "3        ['Bluetooth', 'Premium Sound System']   \n",
       "4  ['Bluetooth', 'Apple CarPlay/Android Auto']   \n",
       "\n",
       "                                              Safety    Price  \n",
       "0  ['Backup Camera', 'Brake Assist', 'Stability C...  $29,893  \n",
       "1              ['Brake Assist', 'Stability Control']  $16,995  \n",
       "2  ['Backup Camera', 'Brake Assist', 'Stability C...  $26,225  \n",
       "3  ['Backup Camera', 'Brake Assist', 'Stability C...  $25,903  \n",
       "4  ['Backup Camera', 'Brake Assist', 'Stability C...  $28,145  "
      ]
     },
     "execution_count": 2,
     "metadata": {},
     "output_type": "execute_result"
    }
   ],
   "source": [
    "path = r'C:/Metis_Bootcamp/Regression_project/data/joined-full-data//' # data path\n",
    "all_files = glob.glob(path + \"/*.csv\")\n",
    "\n",
    "li = []\n",
    "\n",
    "for filename in all_files:\n",
    "    data = pd.read_csv(filename, index_col=0, header=0)\n",
    "    li.append(data)\n",
    "\n",
    "df = pd.concat(li, axis=0, ignore_index=True)\n",
    "\n",
    "print(df.shape)\n",
    "\n",
    "df.head()"
   ]
  },
  {
   "cell_type": "code",
   "execution_count": 3,
   "id": "encouraging-centre",
   "metadata": {},
   "outputs": [
    {
     "data": {
      "text/plain": [
       "Name                          Certified 2018 INFINITI Q60 3.0t LUXE\n",
       "Mileage                                                      18,719\n",
       "Address                                              Troy, MI 48084\n",
       "Rating                                                          4.4\n",
       "Fuel Type                                                  Gasoline\n",
       "City MPG                                                         19\n",
       "Highway MPG                                                      27\n",
       "Drivetrain                                                      AWD\n",
       "Engine                              3.0L V6 24V GDI DOHC Twin Turbo\n",
       "Exterior Color                                       Black Obsidian\n",
       "Interior Color                                        Gallery White\n",
       "Transmission                                      7-Speed Automatic\n",
       "Entertainment                 ['Bluetooth', 'Premium Sound System']\n",
       "Safety            ['Backup Camera', 'Brake Assist', 'Stability C...\n",
       "Price                                                       $32,500\n",
       "Name: 43283, dtype: object"
      ]
     },
     "execution_count": 3,
     "metadata": {},
     "output_type": "execute_result"
    }
   ],
   "source": [
    "df.iloc[43283]"
   ]
  },
  {
   "cell_type": "code",
   "execution_count": 4,
   "id": "impossible-decision",
   "metadata": {},
   "outputs": [],
   "source": [
    "def model_year_extractor(name):\n",
    "    \n",
    "    name_year = name.replace('Certified ','').strip()\n",
    "    \n",
    "    year = int(name_year.split(' ')[0])\n",
    "    \n",
    "    return year"
   ]
  },
  {
   "cell_type": "code",
   "execution_count": 5,
   "id": "essential-proxy",
   "metadata": {},
   "outputs": [],
   "source": [
    "df['Model Year'] = df['Name'].apply(model_year_extractor)"
   ]
  },
  {
   "cell_type": "code",
   "execution_count": 6,
   "id": "acute-notebook",
   "metadata": {
    "scrolled": true
   },
   "outputs": [
    {
     "data": {
      "text/plain": [
       "2001      156\n",
       "2002      237\n",
       "2003      300\n",
       "2004      397\n",
       "2005      529\n",
       "2006      740\n",
       "2007     1023\n",
       "2008     1159\n",
       "2009      920\n",
       "2010     1331\n",
       "2011     2032\n",
       "2012     2998\n",
       "2013     4957\n",
       "2014     5927\n",
       "2015     8105\n",
       "2016     9634\n",
       "2017    23562\n",
       "2018    50953\n",
       "2019    24521\n",
       "2020    25652\n",
       "2021    21333\n",
       "2022       58\n",
       "Name: Model Year, dtype: int64"
      ]
     },
     "execution_count": 6,
     "metadata": {},
     "output_type": "execute_result"
    }
   ],
   "source": [
    "df = df[df['Model Year'] > 2000]\n",
    "df['Model Year'].value_counts().sort_index()"
   ]
  },
  {
   "cell_type": "code",
   "execution_count": 7,
   "id": "representative-obligation",
   "metadata": {},
   "outputs": [
    {
     "data": {
      "text/plain": [
       "(186524, 16)"
      ]
     },
     "execution_count": 7,
     "metadata": {},
     "output_type": "execute_result"
    }
   ],
   "source": [
    "df.shape"
   ]
  },
  {
   "cell_type": "code",
   "execution_count": 8,
   "id": "statewide-subcommittee",
   "metadata": {},
   "outputs": [],
   "source": [
    "def make_extractor(name):\n",
    "    \n",
    "    if 'Land' in name:\n",
    "        return 'Land Rover'\n",
    "    \n",
    "    elif 'Alfa' in name:\n",
    "        return 'Alfa Romeo'\n",
    "    \n",
    "    elif 'MINI' in name:\n",
    "        return 'MINI Cooper'\n",
    "    \n",
    "    elif 'Aston' in name:\n",
    "        return 'Aston Martin'\n",
    "    \n",
    "    else:\n",
    "        return name.split(' ')[2]"
   ]
  },
  {
   "cell_type": "code",
   "execution_count": 9,
   "id": "center-wedding",
   "metadata": {},
   "outputs": [],
   "source": [
    "def car_model_extractor(name):\n",
    "    try:\n",
    "        return name.split(' ')[3]\n",
    "    except:\n",
    "        return name.split(' ')[2]"
   ]
  },
  {
   "cell_type": "code",
   "execution_count": 10,
   "id": "proper-flour",
   "metadata": {},
   "outputs": [],
   "source": [
    "df['Car Model'] = df['Name'].apply(car_model_extractor)"
   ]
  },
  {
   "cell_type": "code",
   "execution_count": 11,
   "id": "funded-seattle",
   "metadata": {},
   "outputs": [
    {
     "data": {
      "text/plain": [
       "F-150         5231\n",
       "Grand         4384\n",
       "Silverado     3960\n",
       "1500          3331\n",
       "Rogue         2897\n",
       "Wrangler      2791\n",
       "RAV4          2743\n",
       "Explorer      2718\n",
       "Camry         2696\n",
       "Escape        2657\n",
       "Rover         2491\n",
       "Equinox       2413\n",
       "CR-V          2388\n",
       "Highlander    2284\n",
       "Cherokee      2275\n",
       "Accord        2221\n",
       "Civic         2053\n",
       "Sierra        1940\n",
       "Corolla       1806\n",
       "Altima        1755\n",
       "Name: Car Model, dtype: int64"
      ]
     },
     "execution_count": 11,
     "metadata": {},
     "output_type": "execute_result"
    }
   ],
   "source": [
    "df['Car Model'].value_counts().head(20)"
   ]
  },
  {
   "cell_type": "code",
   "execution_count": 12,
   "id": "round-lighting",
   "metadata": {},
   "outputs": [
    {
     "data": {
      "text/plain": [
       "F-150          5231\n",
       "Grand          4384\n",
       "Silverado      3960\n",
       "1500           3331\n",
       "Rogue          2897\n",
       "               ... \n",
       "Utility           6\n",
       "SL550             6\n",
       "Mountaineer       6\n",
       "Crossfire         6\n",
       "NSX               6\n",
       "Name: Car Model, Length: 499, dtype: int64"
      ]
     },
     "execution_count": 12,
     "metadata": {},
     "output_type": "execute_result"
    }
   ],
   "source": [
    "other_model = df['Car Model'].value_counts()[df['Car Model'].value_counts() <= 5].index\n",
    "df['Car Model'] = df['Car Model'].replace(other_model, 'Other')\n",
    "df['Car Model'].value_counts()"
   ]
  },
  {
   "cell_type": "code",
   "execution_count": 13,
   "id": "precise-shareware",
   "metadata": {},
   "outputs": [],
   "source": [
    "df['Make'] = df['Name'].apply(make_extractor)"
   ]
  },
  {
   "cell_type": "code",
   "execution_count": 14,
   "id": "healthy-profit",
   "metadata": {
    "scrolled": true
   },
   "outputs": [
    {
     "data": {
      "text/plain": [
       "Ford             20284\n",
       "Chevrolet        16322\n",
       "Toyota           15950\n",
       "Jeep             12347\n",
       "Nissan           10651\n",
       "BMW              10083\n",
       "Honda            10074\n",
       "Mercedes-Benz     9675\n",
       "Hyundai           6941\n",
       "Lexus             6651\n",
       "GMC               6067\n",
       "Audi              5833\n",
       "Volkswagen        5452\n",
       "Kia               4881\n",
       "Dodge             4740\n",
       "RAM               4209\n",
       "Subaru            3977\n",
       "Acura             3662\n",
       "INFINITI          3578\n",
       "Cadillac          3544\n",
       "Mazda             3393\n",
       "Land Rover        2532\n",
       "Buick             2339\n",
       "Lincoln           2107\n",
       "Volvo             2062\n",
       "Chrysler          1715\n",
       "Porsche           1453\n",
       "Alfa Romeo         932\n",
       "Jaguar             901\n",
       "MINI Cooper        885\n",
       "Mitsubishi         675\n",
       "Tesla              645\n",
       "Genesis            521\n",
       "Maserati           423\n",
       "FIAT               233\n",
       "Scion              150\n",
       "Bentley            111\n",
       "Pontiac             95\n",
       "Ferrari             81\n",
       "Lamborghini         52\n",
       "Saturn              51\n",
       "Aston Martin        49\n",
       "Rolls-Royce         48\n",
       "Hummer              38\n",
       "McLaren             29\n",
       "smart               27\n",
       "Mercury             23\n",
       "Suzuki              15\n",
       "Saab                10\n",
       "Lotus                3\n",
       "Oldsmobile           2\n",
       "Isuzu                2\n",
       "Karma                1\n",
       "Name: Make, dtype: int64"
      ]
     },
     "execution_count": 14,
     "metadata": {},
     "output_type": "execute_result"
    }
   ],
   "source": [
    "df['Make'].value_counts()"
   ]
  },
  {
   "cell_type": "code",
   "execution_count": 15,
   "id": "arabic-hormone",
   "metadata": {
    "scrolled": true
   },
   "outputs": [
    {
     "data": {
      "text/plain": [
       "Ford             20284\n",
       "Chevrolet        16322\n",
       "Toyota           15950\n",
       "Jeep             12347\n",
       "Nissan           10651\n",
       "BMW              10083\n",
       "Honda            10074\n",
       "Mercedes-Benz     9675\n",
       "Hyundai           6941\n",
       "Lexus             6651\n",
       "GMC               6067\n",
       "Audi              5833\n",
       "Volkswagen        5452\n",
       "Kia               4881\n",
       "Dodge             4740\n",
       "RAM               4209\n",
       "Subaru            3977\n",
       "Acura             3662\n",
       "INFINITI          3578\n",
       "Cadillac          3544\n",
       "Mazda             3393\n",
       "Land Rover        2532\n",
       "Buick             2339\n",
       "Lincoln           2107\n",
       "Volvo             2062\n",
       "Chrysler          1715\n",
       "Porsche           1453\n",
       "Alfa Romeo         932\n",
       "Jaguar             901\n",
       "MINI Cooper        885\n",
       "Mitsubishi         675\n",
       "Tesla              645\n",
       "Genesis            521\n",
       "Maserati           423\n",
       "FIAT               233\n",
       "Scion              150\n",
       "Bentley            111\n",
       "Pontiac             95\n",
       "Ferrari             81\n",
       "Lamborghini         52\n",
       "Saturn              51\n",
       "Aston Martin        49\n",
       "Rolls-Royce         48\n",
       "Hummer              38\n",
       "Other               33\n",
       "McLaren             29\n",
       "smart               27\n",
       "Mercury             23\n",
       "Name: Make, dtype: int64"
      ]
     },
     "execution_count": 15,
     "metadata": {},
     "output_type": "execute_result"
    }
   ],
   "source": [
    "other_make = df['Make'].value_counts()[df['Make'].value_counts() <= 20].index\n",
    "df['Make'] = df['Make'].replace(other_make, 'Other')\n",
    "df['Make'].value_counts()"
   ]
  },
  {
   "cell_type": "code",
   "execution_count": null,
   "id": "moral-albert",
   "metadata": {},
   "outputs": [],
   "source": [
    "\n",
    "    "
   ]
  },
  {
   "cell_type": "code",
   "execution_count": 16,
   "id": "trying-physiology",
   "metadata": {},
   "outputs": [],
   "source": [
    "def mileage_to_int(mileage):\n",
    "    \n",
    "    return int(mileage.replace(',',''))\n",
    "\n",
    "def price_to_int(price):\n",
    "    \n",
    "    return int(price.replace('$','').replace(',',''))"
   ]
  },
  {
   "cell_type": "code",
   "execution_count": 17,
   "id": "presidential-belief",
   "metadata": {
    "scrolled": true
   },
   "outputs": [
    {
     "name": "stdout",
     "output_type": "stream",
     "text": [
      "<class 'pandas.core.frame.DataFrame'>\n",
      "Int64Index: 186524 entries, 0 to 187167\n",
      "Data columns (total 18 columns):\n",
      " #   Column          Non-Null Count   Dtype  \n",
      "---  ------          --------------   -----  \n",
      " 0   Name            186524 non-null  object \n",
      " 1   Mileage         186524 non-null  int64  \n",
      " 2   Address         186524 non-null  object \n",
      " 3   Rating          186423 non-null  float64\n",
      " 4   Fuel Type       186524 non-null  object \n",
      " 5   City MPG        186524 non-null  int64  \n",
      " 6   Highway MPG     186524 non-null  int64  \n",
      " 7   Drivetrain      186524 non-null  object \n",
      " 8   Engine          186524 non-null  object \n",
      " 9   Exterior Color  186524 non-null  object \n",
      " 10  Interior Color  186524 non-null  object \n",
      " 11  Transmission    186524 non-null  object \n",
      " 12  Entertainment   186524 non-null  object \n",
      " 13  Safety          186524 non-null  object \n",
      " 14  Price           186524 non-null  int64  \n",
      " 15  Model Year      186524 non-null  int64  \n",
      " 16  Car Model       186524 non-null  object \n",
      " 17  Make            186524 non-null  object \n",
      "dtypes: float64(1), int64(5), object(12)\n",
      "memory usage: 27.0+ MB\n"
     ]
    }
   ],
   "source": [
    "#Converse mileage and price to int\n",
    "\n",
    "df['Mileage'] = df['Mileage'].apply(mileage_to_int)\n",
    "\n",
    "df['Price'] = df['Price'].apply(price_to_int)\n",
    "\n",
    "df.info()"
   ]
  },
  {
   "cell_type": "code",
   "execution_count": 18,
   "id": "focal-advertiser",
   "metadata": {},
   "outputs": [
    {
     "data": {
      "text/plain": [
       "0"
      ]
     },
     "execution_count": 18,
     "metadata": {},
     "output_type": "execute_result"
    }
   ],
   "source": [
    "df.Price.isna().sum()"
   ]
  },
  {
   "cell_type": "code",
   "execution_count": 19,
   "id": "brief-husband",
   "metadata": {},
   "outputs": [
    {
     "data": {
      "text/plain": [
       "count    1.865240e+05\n",
       "mean     2.992095e+04\n",
       "std      1.843230e+04\n",
       "min      1.000000e+03\n",
       "25%      1.985000e+04\n",
       "50%      2.699900e+04\n",
       "75%      3.659000e+04\n",
       "max      1.450000e+06\n",
       "Name: Price, dtype: float64"
      ]
     },
     "execution_count": 19,
     "metadata": {},
     "output_type": "execute_result"
    }
   ],
   "source": [
    "df.Price.describe()"
   ]
  },
  {
   "cell_type": "code",
   "execution_count": 20,
   "id": "lesser-porcelain",
   "metadata": {},
   "outputs": [],
   "source": [
    "def num_ent_fea(entertainment):\n",
    "    \n",
    "    if '-1' in entertainment.lower():\n",
    "        return None\n",
    "    else:\n",
    "        return len(entertainment.split(','))\n",
    "\n",
    "def num_safe_fea(safety):\n",
    "    \n",
    "    if '-1' in safety.lower():\n",
    "        return None\n",
    "    else:\n",
    "        return len(safety.split(','))"
   ]
  },
  {
   "cell_type": "code",
   "execution_count": 21,
   "id": "invalid-recognition",
   "metadata": {},
   "outputs": [],
   "source": [
    "df['Entertainment'] = df['Entertainment'].apply(num_ent_fea)\n",
    "df['Safety'] = df['Safety'].apply(num_safe_fea)"
   ]
  },
  {
   "cell_type": "code",
   "execution_count": 22,
   "id": "reverse-mongolia",
   "metadata": {},
   "outputs": [],
   "source": [
    "df.rename(columns={'Entertainment': 'Num_ent_features', 'Safety': 'Num_safe_features'}, inplace=True)"
   ]
  },
  {
   "cell_type": "code",
   "execution_count": 23,
   "id": "outer-vessel",
   "metadata": {},
   "outputs": [
    {
     "name": "stdout",
     "output_type": "stream",
     "text": [
      "<class 'pandas.core.frame.DataFrame'>\n",
      "Int64Index: 186524 entries, 0 to 187167\n",
      "Data columns (total 18 columns):\n",
      " #   Column             Non-Null Count   Dtype  \n",
      "---  ------             --------------   -----  \n",
      " 0   Name               186524 non-null  object \n",
      " 1   Mileage            186524 non-null  int64  \n",
      " 2   Address            186524 non-null  object \n",
      " 3   Rating             186423 non-null  float64\n",
      " 4   Fuel Type          186524 non-null  object \n",
      " 5   City MPG           186524 non-null  int64  \n",
      " 6   Highway MPG        186524 non-null  int64  \n",
      " 7   Drivetrain         186524 non-null  object \n",
      " 8   Engine             186524 non-null  object \n",
      " 9   Exterior Color     186524 non-null  object \n",
      " 10  Interior Color     186524 non-null  object \n",
      " 11  Transmission       186524 non-null  object \n",
      " 12  Num_ent_features   175714 non-null  float64\n",
      " 13  Num_safe_features  182501 non-null  float64\n",
      " 14  Price              186524 non-null  int64  \n",
      " 15  Model Year         186524 non-null  int64  \n",
      " 16  Car Model          186524 non-null  object \n",
      " 17  Make               186524 non-null  object \n",
      "dtypes: float64(3), int64(5), object(10)\n",
      "memory usage: 27.0+ MB\n"
     ]
    }
   ],
   "source": [
    "df.info()"
   ]
  },
  {
   "cell_type": "code",
   "execution_count": 24,
   "id": "internal-singapore",
   "metadata": {},
   "outputs": [
    {
     "data": {
      "text/html": [
       "<div>\n",
       "<style scoped>\n",
       "    .dataframe tbody tr th:only-of-type {\n",
       "        vertical-align: middle;\n",
       "    }\n",
       "\n",
       "    .dataframe tbody tr th {\n",
       "        vertical-align: top;\n",
       "    }\n",
       "\n",
       "    .dataframe thead th {\n",
       "        text-align: right;\n",
       "    }\n",
       "</style>\n",
       "<table border=\"1\" class=\"dataframe\">\n",
       "  <thead>\n",
       "    <tr style=\"text-align: right;\">\n",
       "      <th></th>\n",
       "      <th>Name</th>\n",
       "      <th>Mileage</th>\n",
       "      <th>Address</th>\n",
       "      <th>Rating</th>\n",
       "      <th>Fuel Type</th>\n",
       "      <th>City MPG</th>\n",
       "      <th>Highway MPG</th>\n",
       "      <th>Drivetrain</th>\n",
       "      <th>Engine</th>\n",
       "      <th>Exterior Color</th>\n",
       "      <th>Interior Color</th>\n",
       "      <th>Transmission</th>\n",
       "      <th>Num_ent_features</th>\n",
       "      <th>Num_safe_features</th>\n",
       "      <th>Price</th>\n",
       "      <th>Model Year</th>\n",
       "      <th>Car Model</th>\n",
       "      <th>Make</th>\n",
       "    </tr>\n",
       "  </thead>\n",
       "  <tbody>\n",
       "    <tr>\n",
       "      <th>0</th>\n",
       "      <td>2020 BMW 330 i xDrive</td>\n",
       "      <td>24371</td>\n",
       "      <td>Brooklyn, NY 11203</td>\n",
       "      <td>3.5</td>\n",
       "      <td>Gasoline</td>\n",
       "      <td>25</td>\n",
       "      <td>34</td>\n",
       "      <td>AWD</td>\n",
       "      <td>2.0L I4 16V GDI DOHC Turbo</td>\n",
       "      <td>Jet Black</td>\n",
       "      <td>Black</td>\n",
       "      <td>8-Speed Automatic</td>\n",
       "      <td>2.0</td>\n",
       "      <td>5.0</td>\n",
       "      <td>29893</td>\n",
       "      <td>2020</td>\n",
       "      <td>330</td>\n",
       "      <td>BMW</td>\n",
       "    </tr>\n",
       "    <tr>\n",
       "      <th>1</th>\n",
       "      <td>2015 Audi A6 2.0T Premium Plus</td>\n",
       "      <td>89351</td>\n",
       "      <td>Brooklyn, NY 11207</td>\n",
       "      <td>2.2</td>\n",
       "      <td>Gasoline</td>\n",
       "      <td>20</td>\n",
       "      <td>29</td>\n",
       "      <td>AWD</td>\n",
       "      <td>2.0L I4 16V GDI DOHC Turbo</td>\n",
       "      <td>Gray</td>\n",
       "      <td>-1</td>\n",
       "      <td>8-Speed Automatic</td>\n",
       "      <td>2.0</td>\n",
       "      <td>2.0</td>\n",
       "      <td>16995</td>\n",
       "      <td>2015</td>\n",
       "      <td>A6</td>\n",
       "      <td>Audi</td>\n",
       "    </tr>\n",
       "    <tr>\n",
       "      <th>2</th>\n",
       "      <td>2018 Toyota RAV4 Limited</td>\n",
       "      <td>11863</td>\n",
       "      <td>Brooklyn, NY 11210</td>\n",
       "      <td>3.5</td>\n",
       "      <td>Gasoline</td>\n",
       "      <td>22</td>\n",
       "      <td>28</td>\n",
       "      <td>AWD</td>\n",
       "      <td>2.5L I4 16V MPFI DOHC</td>\n",
       "      <td>Black</td>\n",
       "      <td>Black</td>\n",
       "      <td>6-Speed Automatic</td>\n",
       "      <td>2.0</td>\n",
       "      <td>6.0</td>\n",
       "      <td>26225</td>\n",
       "      <td>2018</td>\n",
       "      <td>RAV4</td>\n",
       "      <td>Toyota</td>\n",
       "    </tr>\n",
       "    <tr>\n",
       "      <th>3</th>\n",
       "      <td>2018 Toyota RAV4 Limited</td>\n",
       "      <td>17501</td>\n",
       "      <td>Brooklyn, NY 11210</td>\n",
       "      <td>3.5</td>\n",
       "      <td>Gasoline</td>\n",
       "      <td>22</td>\n",
       "      <td>28</td>\n",
       "      <td>AWD</td>\n",
       "      <td>2.5L I4 16V MPFI DOHC</td>\n",
       "      <td>Gray</td>\n",
       "      <td>-1</td>\n",
       "      <td>6-Speed Automatic</td>\n",
       "      <td>2.0</td>\n",
       "      <td>6.0</td>\n",
       "      <td>25903</td>\n",
       "      <td>2018</td>\n",
       "      <td>RAV4</td>\n",
       "      <td>Toyota</td>\n",
       "    </tr>\n",
       "    <tr>\n",
       "      <th>4</th>\n",
       "      <td>2019 Honda CR-V EX-L</td>\n",
       "      <td>19241</td>\n",
       "      <td>Brooklyn, NY 11210</td>\n",
       "      <td>3.5</td>\n",
       "      <td>Gasoline</td>\n",
       "      <td>27</td>\n",
       "      <td>33</td>\n",
       "      <td>AWD</td>\n",
       "      <td>1.5L I4 16V GDI DOHC Turbo</td>\n",
       "      <td>Gray</td>\n",
       "      <td>-1</td>\n",
       "      <td>Automatic CVT</td>\n",
       "      <td>2.0</td>\n",
       "      <td>6.0</td>\n",
       "      <td>28145</td>\n",
       "      <td>2019</td>\n",
       "      <td>CR-V</td>\n",
       "      <td>Honda</td>\n",
       "    </tr>\n",
       "  </tbody>\n",
       "</table>\n",
       "</div>"
      ],
      "text/plain": [
       "                              Name  Mileage             Address  Rating  \\\n",
       "0            2020 BMW 330 i xDrive    24371  Brooklyn, NY 11203     3.5   \n",
       "1   2015 Audi A6 2.0T Premium Plus    89351  Brooklyn, NY 11207     2.2   \n",
       "2         2018 Toyota RAV4 Limited    11863  Brooklyn, NY 11210     3.5   \n",
       "3         2018 Toyota RAV4 Limited    17501  Brooklyn, NY 11210     3.5   \n",
       "4             2019 Honda CR-V EX-L    19241  Brooklyn, NY 11210     3.5   \n",
       "\n",
       "   Fuel Type  City MPG  Highway MPG Drivetrain                       Engine  \\\n",
       "0   Gasoline        25           34        AWD   2.0L I4 16V GDI DOHC Turbo   \n",
       "1   Gasoline        20           29        AWD   2.0L I4 16V GDI DOHC Turbo   \n",
       "2   Gasoline        22           28        AWD        2.5L I4 16V MPFI DOHC   \n",
       "3   Gasoline        22           28        AWD        2.5L I4 16V MPFI DOHC   \n",
       "4   Gasoline        27           33        AWD   1.5L I4 16V GDI DOHC Turbo   \n",
       "\n",
       "  Exterior Color Interior Color        Transmission  Num_ent_features  \\\n",
       "0      Jet Black          Black   8-Speed Automatic               2.0   \n",
       "1           Gray             -1   8-Speed Automatic               2.0   \n",
       "2          Black          Black   6-Speed Automatic               2.0   \n",
       "3           Gray             -1   6-Speed Automatic               2.0   \n",
       "4           Gray             -1       Automatic CVT               2.0   \n",
       "\n",
       "   Num_safe_features  Price  Model Year Car Model    Make  \n",
       "0                5.0  29893        2020       330     BMW  \n",
       "1                2.0  16995        2015        A6    Audi  \n",
       "2                6.0  26225        2018      RAV4  Toyota  \n",
       "3                6.0  25903        2018      RAV4  Toyota  \n",
       "4                6.0  28145        2019      CR-V   Honda  "
      ]
     },
     "execution_count": 24,
     "metadata": {},
     "output_type": "execute_result"
    }
   ],
   "source": [
    "df.head()"
   ]
  },
  {
   "cell_type": "code",
   "execution_count": 25,
   "id": "confident-pound",
   "metadata": {},
   "outputs": [
    {
     "data": {
      "text/html": [
       "<div>\n",
       "<style scoped>\n",
       "    .dataframe tbody tr th:only-of-type {\n",
       "        vertical-align: middle;\n",
       "    }\n",
       "\n",
       "    .dataframe tbody tr th {\n",
       "        vertical-align: top;\n",
       "    }\n",
       "\n",
       "    .dataframe thead th {\n",
       "        text-align: right;\n",
       "    }\n",
       "</style>\n",
       "<table border=\"1\" class=\"dataframe\">\n",
       "  <thead>\n",
       "    <tr style=\"text-align: right;\">\n",
       "      <th></th>\n",
       "      <th>Mileage</th>\n",
       "      <th>Rating</th>\n",
       "      <th>City MPG</th>\n",
       "      <th>Highway MPG</th>\n",
       "      <th>Num_ent_features</th>\n",
       "      <th>Num_safe_features</th>\n",
       "      <th>Price</th>\n",
       "      <th>Model Year</th>\n",
       "    </tr>\n",
       "  </thead>\n",
       "  <tbody>\n",
       "    <tr>\n",
       "      <th>count</th>\n",
       "      <td>186524.00000</td>\n",
       "      <td>186423.000000</td>\n",
       "      <td>186524.000000</td>\n",
       "      <td>186524.000000</td>\n",
       "      <td>175714.000000</td>\n",
       "      <td>182501.000000</td>\n",
       "      <td>1.865240e+05</td>\n",
       "      <td>186524.000000</td>\n",
       "    </tr>\n",
       "    <tr>\n",
       "      <th>mean</th>\n",
       "      <td>39286.68040</td>\n",
       "      <td>4.286570</td>\n",
       "      <td>21.248011</td>\n",
       "      <td>29.569787</td>\n",
       "      <td>1.833980</td>\n",
       "      <td>3.688172</td>\n",
       "      <td>2.992095e+04</td>\n",
       "      <td>2017.561322</td>\n",
       "    </tr>\n",
       "    <tr>\n",
       "      <th>std</th>\n",
       "      <td>37515.42747</td>\n",
       "      <td>0.705744</td>\n",
       "      <td>12.292071</td>\n",
       "      <td>25.175016</td>\n",
       "      <td>0.712568</td>\n",
       "      <td>1.403610</td>\n",
       "      <td>1.843230e+04</td>\n",
       "      <td>3.011740</td>\n",
       "    </tr>\n",
       "    <tr>\n",
       "      <th>min</th>\n",
       "      <td>1.00000</td>\n",
       "      <td>1.000000</td>\n",
       "      <td>-1.000000</td>\n",
       "      <td>-1.000000</td>\n",
       "      <td>1.000000</td>\n",
       "      <td>1.000000</td>\n",
       "      <td>1.000000e+03</td>\n",
       "      <td>2001.000000</td>\n",
       "    </tr>\n",
       "    <tr>\n",
       "      <th>25%</th>\n",
       "      <td>14692.00000</td>\n",
       "      <td>4.100000</td>\n",
       "      <td>17.000000</td>\n",
       "      <td>24.000000</td>\n",
       "      <td>1.000000</td>\n",
       "      <td>3.000000</td>\n",
       "      <td>1.985000e+04</td>\n",
       "      <td>2017.000000</td>\n",
       "    </tr>\n",
       "    <tr>\n",
       "      <th>50%</th>\n",
       "      <td>30020.00000</td>\n",
       "      <td>4.500000</td>\n",
       "      <td>20.000000</td>\n",
       "      <td>28.000000</td>\n",
       "      <td>2.000000</td>\n",
       "      <td>3.000000</td>\n",
       "      <td>2.699900e+04</td>\n",
       "      <td>2018.000000</td>\n",
       "    </tr>\n",
       "    <tr>\n",
       "      <th>75%</th>\n",
       "      <td>50299.00000</td>\n",
       "      <td>4.800000</td>\n",
       "      <td>24.000000</td>\n",
       "      <td>32.000000</td>\n",
       "      <td>2.000000</td>\n",
       "      <td>5.000000</td>\n",
       "      <td>3.659000e+04</td>\n",
       "      <td>2020.000000</td>\n",
       "    </tr>\n",
       "    <tr>\n",
       "      <th>max</th>\n",
       "      <td>999999.00000</td>\n",
       "      <td>5.000000</td>\n",
       "      <td>264.000000</td>\n",
       "      <td>684.000000</td>\n",
       "      <td>4.000000</td>\n",
       "      <td>7.000000</td>\n",
       "      <td>1.450000e+06</td>\n",
       "      <td>2022.000000</td>\n",
       "    </tr>\n",
       "  </tbody>\n",
       "</table>\n",
       "</div>"
      ],
      "text/plain": [
       "            Mileage         Rating       City MPG    Highway MPG  \\\n",
       "count  186524.00000  186423.000000  186524.000000  186524.000000   \n",
       "mean    39286.68040       4.286570      21.248011      29.569787   \n",
       "std     37515.42747       0.705744      12.292071      25.175016   \n",
       "min         1.00000       1.000000      -1.000000      -1.000000   \n",
       "25%     14692.00000       4.100000      17.000000      24.000000   \n",
       "50%     30020.00000       4.500000      20.000000      28.000000   \n",
       "75%     50299.00000       4.800000      24.000000      32.000000   \n",
       "max    999999.00000       5.000000     264.000000     684.000000   \n",
       "\n",
       "       Num_ent_features  Num_safe_features         Price     Model Year  \n",
       "count     175714.000000      182501.000000  1.865240e+05  186524.000000  \n",
       "mean           1.833980           3.688172  2.992095e+04    2017.561322  \n",
       "std            0.712568           1.403610  1.843230e+04       3.011740  \n",
       "min            1.000000           1.000000  1.000000e+03    2001.000000  \n",
       "25%            1.000000           3.000000  1.985000e+04    2017.000000  \n",
       "50%            2.000000           3.000000  2.699900e+04    2018.000000  \n",
       "75%            2.000000           5.000000  3.659000e+04    2020.000000  \n",
       "max            4.000000           7.000000  1.450000e+06    2022.000000  "
      ]
     },
     "execution_count": 25,
     "metadata": {},
     "output_type": "execute_result"
    }
   ],
   "source": [
    "df.describe()"
   ]
  },
  {
   "cell_type": "code",
   "execution_count": 26,
   "id": "digital-prerequisite",
   "metadata": {},
   "outputs": [],
   "source": [
    "def define_transmission(transmission):\n",
    "    \n",
    "    if 'automatic' in transmission.lower():\n",
    "        return 'Automatic'\n",
    "    \n",
    "    elif 'manual' in transmission.lower():\n",
    "        return 'Manual'\n",
    "    \n",
    "    else:\n",
    "        return None"
   ]
  },
  {
   "cell_type": "code",
   "execution_count": 27,
   "id": "greek-mortality",
   "metadata": {},
   "outputs": [],
   "source": [
    "df['Transmission'] = df['Transmission'].apply(define_transmission)"
   ]
  },
  {
   "cell_type": "code",
   "execution_count": 28,
   "id": "revised-tower",
   "metadata": {},
   "outputs": [
    {
     "data": {
      "text/plain": [
       "Automatic    180246\n",
       "Manual         3535\n",
       "Name: Transmission, dtype: int64"
      ]
     },
     "execution_count": 28,
     "metadata": {},
     "output_type": "execute_result"
    }
   ],
   "source": [
    "df['Transmission'].value_counts()"
   ]
  },
  {
   "cell_type": "code",
   "execution_count": 29,
   "id": "specified-journalism",
   "metadata": {},
   "outputs": [
    {
     "data": {
      "text/plain": [
       "2743"
      ]
     },
     "execution_count": 29,
     "metadata": {},
     "output_type": "execute_result"
    }
   ],
   "source": [
    "df['Transmission'].isna().sum()"
   ]
  },
  {
   "cell_type": "code",
   "execution_count": 30,
   "id": "charming-tongue",
   "metadata": {},
   "outputs": [
    {
     "data": {
      "text/html": [
       "<div>\n",
       "<style scoped>\n",
       "    .dataframe tbody tr th:only-of-type {\n",
       "        vertical-align: middle;\n",
       "    }\n",
       "\n",
       "    .dataframe tbody tr th {\n",
       "        vertical-align: top;\n",
       "    }\n",
       "\n",
       "    .dataframe thead th {\n",
       "        text-align: right;\n",
       "    }\n",
       "</style>\n",
       "<table border=\"1\" class=\"dataframe\">\n",
       "  <thead>\n",
       "    <tr style=\"text-align: right;\">\n",
       "      <th></th>\n",
       "      <th>Name</th>\n",
       "      <th>Mileage</th>\n",
       "      <th>Address</th>\n",
       "      <th>Rating</th>\n",
       "      <th>Fuel Type</th>\n",
       "      <th>City MPG</th>\n",
       "      <th>Highway MPG</th>\n",
       "      <th>Drivetrain</th>\n",
       "      <th>Engine</th>\n",
       "      <th>Exterior Color</th>\n",
       "      <th>Interior Color</th>\n",
       "      <th>Transmission</th>\n",
       "      <th>Num_ent_features</th>\n",
       "      <th>Num_safe_features</th>\n",
       "      <th>Price</th>\n",
       "      <th>Model Year</th>\n",
       "      <th>Car Model</th>\n",
       "      <th>Make</th>\n",
       "    </tr>\n",
       "  </thead>\n",
       "  <tbody>\n",
       "    <tr>\n",
       "      <th>0</th>\n",
       "      <td>2020 BMW 330 i xDrive</td>\n",
       "      <td>24371</td>\n",
       "      <td>Brooklyn, NY 11203</td>\n",
       "      <td>3.5</td>\n",
       "      <td>Gasoline</td>\n",
       "      <td>25</td>\n",
       "      <td>34</td>\n",
       "      <td>AWD</td>\n",
       "      <td>2.0L I4 16V GDI DOHC Turbo</td>\n",
       "      <td>Jet Black</td>\n",
       "      <td>Black</td>\n",
       "      <td>Automatic</td>\n",
       "      <td>2.0</td>\n",
       "      <td>5.0</td>\n",
       "      <td>29893</td>\n",
       "      <td>2020</td>\n",
       "      <td>330</td>\n",
       "      <td>BMW</td>\n",
       "    </tr>\n",
       "    <tr>\n",
       "      <th>1</th>\n",
       "      <td>2015 Audi A6 2.0T Premium Plus</td>\n",
       "      <td>89351</td>\n",
       "      <td>Brooklyn, NY 11207</td>\n",
       "      <td>2.2</td>\n",
       "      <td>Gasoline</td>\n",
       "      <td>20</td>\n",
       "      <td>29</td>\n",
       "      <td>AWD</td>\n",
       "      <td>2.0L I4 16V GDI DOHC Turbo</td>\n",
       "      <td>Gray</td>\n",
       "      <td>-1</td>\n",
       "      <td>Automatic</td>\n",
       "      <td>2.0</td>\n",
       "      <td>2.0</td>\n",
       "      <td>16995</td>\n",
       "      <td>2015</td>\n",
       "      <td>A6</td>\n",
       "      <td>Audi</td>\n",
       "    </tr>\n",
       "    <tr>\n",
       "      <th>2</th>\n",
       "      <td>2018 Toyota RAV4 Limited</td>\n",
       "      <td>11863</td>\n",
       "      <td>Brooklyn, NY 11210</td>\n",
       "      <td>3.5</td>\n",
       "      <td>Gasoline</td>\n",
       "      <td>22</td>\n",
       "      <td>28</td>\n",
       "      <td>AWD</td>\n",
       "      <td>2.5L I4 16V MPFI DOHC</td>\n",
       "      <td>Black</td>\n",
       "      <td>Black</td>\n",
       "      <td>Automatic</td>\n",
       "      <td>2.0</td>\n",
       "      <td>6.0</td>\n",
       "      <td>26225</td>\n",
       "      <td>2018</td>\n",
       "      <td>RAV4</td>\n",
       "      <td>Toyota</td>\n",
       "    </tr>\n",
       "    <tr>\n",
       "      <th>3</th>\n",
       "      <td>2018 Toyota RAV4 Limited</td>\n",
       "      <td>17501</td>\n",
       "      <td>Brooklyn, NY 11210</td>\n",
       "      <td>3.5</td>\n",
       "      <td>Gasoline</td>\n",
       "      <td>22</td>\n",
       "      <td>28</td>\n",
       "      <td>AWD</td>\n",
       "      <td>2.5L I4 16V MPFI DOHC</td>\n",
       "      <td>Gray</td>\n",
       "      <td>-1</td>\n",
       "      <td>Automatic</td>\n",
       "      <td>2.0</td>\n",
       "      <td>6.0</td>\n",
       "      <td>25903</td>\n",
       "      <td>2018</td>\n",
       "      <td>RAV4</td>\n",
       "      <td>Toyota</td>\n",
       "    </tr>\n",
       "    <tr>\n",
       "      <th>4</th>\n",
       "      <td>2019 Honda CR-V EX-L</td>\n",
       "      <td>19241</td>\n",
       "      <td>Brooklyn, NY 11210</td>\n",
       "      <td>3.5</td>\n",
       "      <td>Gasoline</td>\n",
       "      <td>27</td>\n",
       "      <td>33</td>\n",
       "      <td>AWD</td>\n",
       "      <td>1.5L I4 16V GDI DOHC Turbo</td>\n",
       "      <td>Gray</td>\n",
       "      <td>-1</td>\n",
       "      <td>Automatic</td>\n",
       "      <td>2.0</td>\n",
       "      <td>6.0</td>\n",
       "      <td>28145</td>\n",
       "      <td>2019</td>\n",
       "      <td>CR-V</td>\n",
       "      <td>Honda</td>\n",
       "    </tr>\n",
       "  </tbody>\n",
       "</table>\n",
       "</div>"
      ],
      "text/plain": [
       "                              Name  Mileage             Address  Rating  \\\n",
       "0            2020 BMW 330 i xDrive    24371  Brooklyn, NY 11203     3.5   \n",
       "1   2015 Audi A6 2.0T Premium Plus    89351  Brooklyn, NY 11207     2.2   \n",
       "2         2018 Toyota RAV4 Limited    11863  Brooklyn, NY 11210     3.5   \n",
       "3         2018 Toyota RAV4 Limited    17501  Brooklyn, NY 11210     3.5   \n",
       "4             2019 Honda CR-V EX-L    19241  Brooklyn, NY 11210     3.5   \n",
       "\n",
       "   Fuel Type  City MPG  Highway MPG Drivetrain                       Engine  \\\n",
       "0   Gasoline        25           34        AWD   2.0L I4 16V GDI DOHC Turbo   \n",
       "1   Gasoline        20           29        AWD   2.0L I4 16V GDI DOHC Turbo   \n",
       "2   Gasoline        22           28        AWD        2.5L I4 16V MPFI DOHC   \n",
       "3   Gasoline        22           28        AWD        2.5L I4 16V MPFI DOHC   \n",
       "4   Gasoline        27           33        AWD   1.5L I4 16V GDI DOHC Turbo   \n",
       "\n",
       "  Exterior Color Interior Color Transmission  Num_ent_features  \\\n",
       "0      Jet Black          Black    Automatic               2.0   \n",
       "1           Gray             -1    Automatic               2.0   \n",
       "2          Black          Black    Automatic               2.0   \n",
       "3           Gray             -1    Automatic               2.0   \n",
       "4           Gray             -1    Automatic               2.0   \n",
       "\n",
       "   Num_safe_features  Price  Model Year Car Model    Make  \n",
       "0                5.0  29893        2020       330     BMW  \n",
       "1                2.0  16995        2015        A6    Audi  \n",
       "2                6.0  26225        2018      RAV4  Toyota  \n",
       "3                6.0  25903        2018      RAV4  Toyota  \n",
       "4                6.0  28145        2019      CR-V   Honda  "
      ]
     },
     "execution_count": 30,
     "metadata": {},
     "output_type": "execute_result"
    }
   ],
   "source": [
    "df.head()"
   ]
  },
  {
   "cell_type": "code",
   "execution_count": 31,
   "id": "orange-height",
   "metadata": {},
   "outputs": [
    {
     "data": {
      "text/plain": [
       " 2.0L I4 16V GDI DOHC Turbo                          21635\n",
       " 3.6L V6 24V MPFI DOHC                                8033\n",
       " 1.5L I4 16V GDI DOHC Turbo                           7637\n",
       " 3.6L V6 24V GDI DOHC                                 6400\n",
       " 3.5L V6 24V MPFI DOHC                                5470\n",
       " 5.3L V8 16V GDI OHV                                  5245\n",
       " 2.4L I4 16V GDI DOHC                                 5204\n",
       " 2.5L I4 16V MPFI DOHC                                4816\n",
       " 2.0L I4 16V MPFI DOHC                                4470\n",
       " 2.5L I4 16V GDI DOHC                                 3594\n",
       " 2.4L I4 16V MPFI SOHC                                3499\n",
       " 3.5L V6 24V PDI DOHC                                 3477\n",
       " 3.5L V6 24V GDI DOHC                                 3277\n",
       " 5.7L V8 16V MPFI OHV                                 3195\n",
       " 3.5L V6 24V GDI SOHC                                 3130\n",
       " 3.0L V6 24V GDI DOHC Twin Turbo                      2878\n",
       " 2.5L I4 16V PDI DOHC                                 2795\n",
       " 2.0L I4 16V GDI DOHC                                 2783\n",
       " 1.8L I4 16V MPFI DOHC                                2562\n",
       " 3.0L I6 24V GDI DOHC Turbo                           2304\n",
       " Electric                                             2092\n",
       " Intercooled Turbo Premium Unleaded I-4 2.0 L/122     2060\n",
       " 3.5L V6 24V GDI DOHC Twin Turbo                      1784\n",
       " 6.2L V8 16V GDI OHV                                  1784\n",
       " Intercooled Turbo Premium Unleaded I-4 2.0 L/121     1632\n",
       " 2.0L I4 16V PDI DOHC Turbo                           1598\n",
       " 1.6L I4 16V GDI DOHC Turbo                           1560\n",
       " 1.4L I4 16V MPFI DOHC Turbo                          1560\n",
       " 1.4L I4 16V GDI DOHC Turbo                           1513\n",
       " 5.6L V8 32V GDI DOHC                                 1489\n",
       " 3.0L V6 24V GDI DOHC Supercharged                    1465\n",
       " 2.3L I4 16V GDI DOHC Turbo                           1452\n",
       " 2.4L I4 16V MPFI DOHC                                1414\n",
       " 3.5L V6 24V MPFI SOHC                                1340\n",
       " 4.0L V6 24V MPFI DOHC                                1305\n",
       " Regular Unleaded V-6 3.6 L/220                       1253\n",
       " 2.5L H4 16V MPFI DOHC                                1253\n",
       " 3.5L V6 24V PDI DOHC Twin Turbo                      1224\n",
       " 1.6L I4 16V MPFI DOHC                                1181\n",
       " 3.7L V6 24V MPFI DOHC                                1159\n",
       " 3.6L V6 24V MPFI DOHC Flexible Fuel                  1069\n",
       " 2.7L V6 24V PDI DOHC Twin Turbo                       986\n",
       " 5.0L V8 32V PDI DOHC                                  986\n",
       " 5.7L V8 32V MPFI DOHC                                 941\n",
       " 3.2L V6 24V MPFI DOHC                                 937\n",
       " 1.8L I4 16V MPFI DOHC Hybrid                          874\n",
       " 3.0L V6 24V GDI DOHC Turbo                            837\n",
       " 2.0L H4 16V GDI DOHC                                  808\n",
       " 6.7L V8 32V DDI OHV Turbo Diesel                      785\n",
       " 1.8L I4 16V MPFI SOHC                                 758\n",
       "Name: Engine, dtype: int64"
      ]
     },
     "execution_count": 31,
     "metadata": {},
     "output_type": "execute_result"
    }
   ],
   "source": [
    "df.Engine.value_counts().head(50)"
   ]
  },
  {
   "cell_type": "code",
   "execution_count": 32,
   "id": "finite-least",
   "metadata": {},
   "outputs": [],
   "source": [
    "def define_engine(engine):\n",
    "    \n",
    "    if '-1' in engine.lower():\n",
    "        return None\n",
    "    \n",
    "    elif 'intercooled' in engine.lower() or 'regular' in engine.lower() or 'electric' in engine.lower():\n",
    "        return engine.strip()\n",
    "    \n",
    "    else:\n",
    "        return engine.strip().split(' ')[0]"
   ]
  },
  {
   "cell_type": "code",
   "execution_count": 33,
   "id": "black-sugar",
   "metadata": {},
   "outputs": [],
   "source": [
    "df['Engine'] = df['Engine'].apply(define_engine)"
   ]
  },
  {
   "cell_type": "code",
   "execution_count": 34,
   "id": "interior-kitty",
   "metadata": {
    "scrolled": true
   },
   "outputs": [
    {
     "data": {
      "text/plain": [
       "2.0L                                                       35890\n",
       "3.5L                                                       20890\n",
       "3.6L                                                       16299\n",
       "2.5L                                                       16235\n",
       "2.4L                                                       10698\n",
       "1.5L                                                        9346\n",
       "3.0L                                                        9252\n",
       "Other                                                       5957\n",
       "5.3L                                                        5943\n",
       "1.8L                                                        4725\n",
       "5.7L                                                        4208\n",
       "1.6L                                                        3593\n",
       "1.4L                                                        3494\n",
       "6.2L                                                        2576\n",
       "5.0L                                                        2142\n",
       "Electric                                                    2092\n",
       "4.0L                                                        2086\n",
       "Intercooled Turbo Premium Unleaded I-4 2.0 L/122            2060\n",
       "2.7L                                                        2038\n",
       "Intercooled Turbo Premium Unleaded I-4 2.0 L/121            1632\n",
       "2.3L                                                        1573\n",
       "5.6L                                                        1557\n",
       "Gas                                                         1549\n",
       "3.7L                                                        1525\n",
       "6.7L                                                        1309\n",
       "Regular Unleaded V-6 3.6 L/220                              1253\n",
       "3.3L                                                        1089\n",
       "3.2L                                                        1080\n",
       "Premium                                                     1048\n",
       "4.6L                                                        1021\n",
       "3.8L                                                        1015\n",
       "Twin                                                         856\n",
       "6.6L                                                         782\n",
       "4.7L                                                         733\n",
       "4.4L                                                         709\n",
       "Regular Unleaded I-4 2.5 L/152                               689\n",
       "6.4L                                                         653\n",
       "Regular Unleaded V-6 3.5 L/211                               651\n",
       "6.0L                                                         556\n",
       "I4                                                           529\n",
       "Intercooled Supercharger Premium Unleaded V-6 3.0 L/183      505\n",
       "Turbocharged                                                 475\n",
       "Intercooled Turbo Premium Unleaded I-6 3.0 L/183             455\n",
       "Regular Unleaded V-8 5.7 L/345                               440\n",
       "4.3L                                                         408\n",
       "Regular Unleaded I-4 2.4 L/144                               369\n",
       "1.3L                                                         369\n",
       "V6                                                           298\n",
       "Gas/Ethanol                                                  298\n",
       "5.4L                                                         282\n",
       "Regular Unleaded V-6 3.5 L/212                               266\n",
       "5.5L                                                         238\n",
       "1.2L                                                         220\n",
       "Intercooled Turbo Regular Unleaded I-4 1.5 L/91              214\n",
       "1.0L                                                         200\n",
       "Name: Engine, dtype: int64"
      ]
     },
     "execution_count": 34,
     "metadata": {},
     "output_type": "execute_result"
    }
   ],
   "source": [
    "other_engine = df['Engine'].value_counts()[df['Engine'].value_counts() <= df.shape[0]*0.001].index\n",
    "df['Engine'] = df['Engine'].replace(other_engine, 'Other')\n",
    "df['Engine'].value_counts()"
   ]
  },
  {
   "cell_type": "code",
   "execution_count": 35,
   "id": "split-round",
   "metadata": {},
   "outputs": [
    {
     "data": {
      "text/plain": [
       "154"
      ]
     },
     "execution_count": 35,
     "metadata": {},
     "output_type": "execute_result"
    }
   ],
   "source": [
    "df.Engine.isna().sum()"
   ]
  },
  {
   "cell_type": "code",
   "execution_count": 36,
   "id": "double-radiation",
   "metadata": {
    "scrolled": false
   },
   "outputs": [
    {
     "data": {
      "text/plain": [
       " Black                                 16329\n",
       " White                                 11815\n",
       " Gray                                   7471\n",
       " Silver                                 5737\n",
       " Blue                                   3878\n",
       " Summit White                           3871\n",
       " Red                                    2851\n",
       " Bright White Clearcoat                 2682\n",
       " Gun Metallic                           2127\n",
       " Granite Crystal Clearcoat Metallic     2118\n",
       " Oxford White                           2041\n",
       " Silver Ice Metallic                    1782\n",
       "-1                                      1635\n",
       " Diamond Black                          1611\n",
       " Crystal Black Pearl                    1587\n",
       " Shadow Black                           1506\n",
       " Super White                            1415\n",
       " Alpine White                           1415\n",
       " Billet Silver Metallic Clearcoat       1381\n",
       " Polar White                            1256\n",
       " Modern Steel Metallic                  1253\n",
       " Pure White                             1151\n",
       " Black Sapphire Metallic                1107\n",
       " Magnetic Metallic                      1072\n",
       " Black Clearcoat                        1041\n",
       " Midnight Black Metallic                1035\n",
       " Mosaic Black Metallic                  1007\n",
       " Magnetic Gray Metallic                  956\n",
       " Jet Black                               909\n",
       " Deep Black Pearl Effect                 907\n",
       "Name: Exterior Color, dtype: int64"
      ]
     },
     "execution_count": 36,
     "metadata": {},
     "output_type": "execute_result"
    }
   ],
   "source": [
    "df['Exterior Color'].value_counts().head(30)"
   ]
  },
  {
   "cell_type": "code",
   "execution_count": 37,
   "id": "lesser-nutrition",
   "metadata": {},
   "outputs": [],
   "source": [
    "def define_exterior_color(exterior_color):\n",
    "    \n",
    "    if 'black' in exterior_color.lower():\n",
    "        return 'Black'\n",
    "    \n",
    "    elif 'white' in exterior_color.lower():\n",
    "        return 'White'\n",
    "    \n",
    "    elif 'gray' in exterior_color.lower():\n",
    "        return 'Gray'\n",
    "    \n",
    "    elif 'silver' in exterior_color.lower():\n",
    "        return 'Silver'\n",
    "    \n",
    "    elif 'blue' in exterior_color.lower():\n",
    "        return 'Blue'\n",
    "    \n",
    "    elif 'red' in exterior_color.lower():\n",
    "        return 'Red'\n",
    "    \n",
    "    elif 'metallic' in exterior_color.lower():\n",
    "        return 'Metallic'\n",
    "    \n",
    "    elif '-1' in exterior_color.lower():\n",
    "        return np.nan\n",
    "    \n",
    "    else:\n",
    "        return 'Other'"
   ]
  },
  {
   "cell_type": "code",
   "execution_count": 38,
   "id": "reliable-hayes",
   "metadata": {},
   "outputs": [],
   "source": [
    "df['Exterior Color'] = df['Exterior Color'].apply(define_exterior_color)"
   ]
  },
  {
   "cell_type": "code",
   "execution_count": 39,
   "id": "moving-spice",
   "metadata": {},
   "outputs": [
    {
     "data": {
      "text/plain": [
       "Black       43177\n",
       "White       41015\n",
       "Silver      23038\n",
       "Gray        18955\n",
       "Blue        16331\n",
       "Other       15105\n",
       "Metallic    14682\n",
       "Red         12586\n",
       "Name: Exterior Color, dtype: int64"
      ]
     },
     "execution_count": 39,
     "metadata": {},
     "output_type": "execute_result"
    }
   ],
   "source": [
    "df['Exterior Color'].value_counts()"
   ]
  },
  {
   "cell_type": "code",
   "execution_count": 40,
   "id": "accurate-cassette",
   "metadata": {},
   "outputs": [
    {
     "data": {
      "text/plain": [
       "1635"
      ]
     },
     "execution_count": 40,
     "metadata": {},
     "output_type": "execute_result"
    }
   ],
   "source": [
    "df['Exterior Color'].isna().sum()"
   ]
  },
  {
   "cell_type": "code",
   "execution_count": 41,
   "id": "japanese-flavor",
   "metadata": {},
   "outputs": [
    {
     "data": {
      "text/plain": [
       " Black                  68446\n",
       "-1                      22683\n",
       " Jet Black              11426\n",
       " Gray                   10947\n",
       " Ebony                   8703\n",
       " Charcoal                6631\n",
       " Beige                   4042\n",
       " Graphite                3631\n",
       " Titan Black             2371\n",
       " Charcoal Black          2280\n",
       " Ash                     1595\n",
       " Tan                     1184\n",
       " Parchment               1163\n",
       " Ivory                   1163\n",
       " Ebony Black             1117\n",
       " Medium Earth Gray       1082\n",
       " Brown                    996\n",
       " Red                      837\n",
       " Sport                    786\n",
       " Diesel Gray / Black      725\n",
       " Light Gray               703\n",
       " Medium Light Stone       593\n",
       " Medium Ash Gray          576\n",
       " Dark Gray                547\n",
       " Wheat                    512\n",
       " Mocha                    484\n",
       " Cocoa / Dune             477\n",
       " Carbon Black             474\n",
       " Ebony / Ebony            466\n",
       " Almond                   459\n",
       "Name: Interior Color, dtype: int64"
      ]
     },
     "execution_count": 41,
     "metadata": {},
     "output_type": "execute_result"
    }
   ],
   "source": [
    "df['Interior Color'].value_counts().head(30)"
   ]
  },
  {
   "cell_type": "code",
   "execution_count": 42,
   "id": "stuck-conference",
   "metadata": {},
   "outputs": [],
   "source": [
    "def define_interior_color(interior_color):\n",
    "\n",
    "    if 'ebony' in interior_color.lower() or 'ebony black' in interior_color.lower():\n",
    "        return 'Ebony'\n",
    "    \n",
    "    elif 'black' in interior_color.lower():\n",
    "        return 'Black'\n",
    "    \n",
    "    elif 'gray' in interior_color.lower():\n",
    "        return 'Gray'\n",
    "    \n",
    "    elif 'charcoal' in interior_color.lower():\n",
    "        return 'Charcoal'\n",
    "    \n",
    "    elif 'graphite' in interior_color.lower():\n",
    "        return 'Graphite'\n",
    "    \n",
    "    elif '-1' in interior_color.lower():\n",
    "        return np.nan\n",
    "    \n",
    "    else:\n",
    "        return 'Other'"
   ]
  },
  {
   "cell_type": "code",
   "execution_count": 43,
   "id": "touched-argument",
   "metadata": {},
   "outputs": [],
   "source": [
    "df['Interior Color'] = df['Interior Color'].apply(define_interior_color)"
   ]
  },
  {
   "cell_type": "code",
   "execution_count": 44,
   "id": "static-ranking",
   "metadata": {},
   "outputs": [
    {
     "data": {
      "text/plain": [
       "Black       92714\n",
       "Other       32040\n",
       "Gray        17262\n",
       "Ebony       11214\n",
       "Charcoal     6814\n",
       "Graphite     3797\n",
       "Name: Interior Color, dtype: int64"
      ]
     },
     "execution_count": 44,
     "metadata": {},
     "output_type": "execute_result"
    }
   ],
   "source": [
    "df['Interior Color'].value_counts()"
   ]
  },
  {
   "cell_type": "code",
   "execution_count": 45,
   "id": "prescription-proceeding",
   "metadata": {},
   "outputs": [],
   "source": [
    "def define_drivetrain(drivetrain):\n",
    "    \n",
    "    if 'fwd' in drivetrain.lower() or 'front wheel drive' in drivetrain.lower() or 'front-wheel drive' in drivetrain.lower():\n",
    "        return 'FWD'\n",
    "    \n",
    "    elif 'awd' in drivetrain.lower() or 'all wheel drive' in drivetrain.lower() or 'all-wheel drive' in drivetrain.lower():\n",
    "        return 'AWD'\n",
    "    \n",
    "    elif '4wd' in drivetrain.lower() or 'four wheel drive' in drivetrain.lower() or 'four-wheel drive' in drivetrain.lower():\n",
    "        return '4WD'\n",
    "    \n",
    "    elif 'rwd' in drivetrain.lower() or 'rear wheel drive' in drivetrain.lower() or 'rear-wheel drive' in drivetrain.lower():\n",
    "        return 'RWD'\n",
    "    \n",
    "    else:\n",
    "        return np.nan"
   ]
  },
  {
   "cell_type": "code",
   "execution_count": 46,
   "id": "closed-architecture",
   "metadata": {},
   "outputs": [],
   "source": [
    "df['Drivetrain'] = df['Drivetrain'].apply(define_drivetrain)"
   ]
  },
  {
   "cell_type": "code",
   "execution_count": 47,
   "id": "bizarre-projector",
   "metadata": {},
   "outputs": [
    {
     "data": {
      "text/plain": [
       "FWD    64156\n",
       "AWD    60924\n",
       "4WD    38904\n",
       "RWD    21899\n",
       "Name: Drivetrain, dtype: int64"
      ]
     },
     "execution_count": 47,
     "metadata": {},
     "output_type": "execute_result"
    }
   ],
   "source": [
    "df['Drivetrain'].value_counts()"
   ]
  },
  {
   "cell_type": "code",
   "execution_count": 48,
   "id": "experimental-integral",
   "metadata": {},
   "outputs": [],
   "source": [
    "      \n",
    "df['City MPG'] = df['City MPG'].apply(lambda x: np.nan if x == -1 else x)\n",
    "\n",
    "df['City MPG'].fillna(df['City MPG'].median(), inplace=True)\n",
    "\n",
    "df['Highway MPG'] = df['Highway MPG'].apply(lambda x: np.nan if x == -1 else x)\n",
    "\n",
    "df['Highway MPG'].fillna(df['Highway MPG'].median(), inplace=True)"
   ]
  },
  {
   "cell_type": "code",
   "execution_count": 49,
   "id": "aquatic-terry",
   "metadata": {},
   "outputs": [
    {
     "data": {
      "text/plain": [
       "Name                     0\n",
       "Mileage                  0\n",
       "Address                  0\n",
       "Rating                 101\n",
       "Fuel Type                0\n",
       "City MPG                 0\n",
       "Highway MPG              0\n",
       "Drivetrain             641\n",
       "Engine                 154\n",
       "Exterior Color        1635\n",
       "Interior Color       22683\n",
       "Transmission          2743\n",
       "Num_ent_features     10810\n",
       "Num_safe_features     4023\n",
       "Price                    0\n",
       "Model Year               0\n",
       "Car Model                0\n",
       "Make                     0\n",
       "dtype: int64"
      ]
     },
     "execution_count": 49,
     "metadata": {},
     "output_type": "execute_result"
    }
   ],
   "source": [
    "df.isna().sum()"
   ]
  },
  {
   "cell_type": "code",
   "execution_count": 50,
   "id": "retired-hudson",
   "metadata": {},
   "outputs": [
    {
     "name": "stdout",
     "output_type": "stream",
     "text": [
      "Shape of dataframe before dropping rows that contain null values: 186524\n",
      "Shape of dataframe after dropping rows that contain null values: 152018\n"
     ]
    }
   ],
   "source": [
    "print('Shape of dataframe before dropping rows that contain null values: {}'.format(df.shape[0]))\n",
    "df.dropna(inplace=True)\n",
    "print('Shape of dataframe after dropping rows that contain null values: {}'.format(df.shape[0]))"
   ]
  },
  {
   "cell_type": "code",
   "execution_count": 51,
   "id": "professional-pharmacology",
   "metadata": {},
   "outputs": [
    {
     "data": {
      "text/html": [
       "<div>\n",
       "<style scoped>\n",
       "    .dataframe tbody tr th:only-of-type {\n",
       "        vertical-align: middle;\n",
       "    }\n",
       "\n",
       "    .dataframe tbody tr th {\n",
       "        vertical-align: top;\n",
       "    }\n",
       "\n",
       "    .dataframe thead th {\n",
       "        text-align: right;\n",
       "    }\n",
       "</style>\n",
       "<table border=\"1\" class=\"dataframe\">\n",
       "  <thead>\n",
       "    <tr style=\"text-align: right;\">\n",
       "      <th></th>\n",
       "      <th>Mileage</th>\n",
       "      <th>Rating</th>\n",
       "      <th>City MPG</th>\n",
       "      <th>Highway MPG</th>\n",
       "      <th>Num_ent_features</th>\n",
       "      <th>Num_safe_features</th>\n",
       "      <th>Price</th>\n",
       "      <th>Model Year</th>\n",
       "    </tr>\n",
       "  </thead>\n",
       "  <tbody>\n",
       "    <tr>\n",
       "      <th>count</th>\n",
       "      <td>152018.000000</td>\n",
       "      <td>152018.00000</td>\n",
       "      <td>152018.000000</td>\n",
       "      <td>152018.000000</td>\n",
       "      <td>152018.000000</td>\n",
       "      <td>152018.000000</td>\n",
       "      <td>1.520180e+05</td>\n",
       "      <td>152018.000000</td>\n",
       "    </tr>\n",
       "    <tr>\n",
       "      <th>mean</th>\n",
       "      <td>35460.939132</td>\n",
       "      <td>4.32535</td>\n",
       "      <td>22.455486</td>\n",
       "      <td>30.657718</td>\n",
       "      <td>1.860201</td>\n",
       "      <td>3.782815</td>\n",
       "      <td>3.071276e+04</td>\n",
       "      <td>2017.952979</td>\n",
       "    </tr>\n",
       "    <tr>\n",
       "      <th>std</th>\n",
       "      <td>32756.609619</td>\n",
       "      <td>0.67556</td>\n",
       "      <td>10.941336</td>\n",
       "      <td>21.931450</td>\n",
       "      <td>0.714034</td>\n",
       "      <td>1.374101</td>\n",
       "      <td>1.894775e+04</td>\n",
       "      <td>2.440061</td>\n",
       "    </tr>\n",
       "    <tr>\n",
       "      <th>min</th>\n",
       "      <td>1.000000</td>\n",
       "      <td>1.00000</td>\n",
       "      <td>0.000000</td>\n",
       "      <td>0.000000</td>\n",
       "      <td>1.000000</td>\n",
       "      <td>1.000000</td>\n",
       "      <td>1.500000e+03</td>\n",
       "      <td>2001.000000</td>\n",
       "    </tr>\n",
       "    <tr>\n",
       "      <th>25%</th>\n",
       "      <td>13009.000000</td>\n",
       "      <td>4.20000</td>\n",
       "      <td>18.000000</td>\n",
       "      <td>25.000000</td>\n",
       "      <td>1.000000</td>\n",
       "      <td>3.000000</td>\n",
       "      <td>2.000900e+04</td>\n",
       "      <td>2017.000000</td>\n",
       "    </tr>\n",
       "    <tr>\n",
       "      <th>50%</th>\n",
       "      <td>28687.000000</td>\n",
       "      <td>4.50000</td>\n",
       "      <td>21.000000</td>\n",
       "      <td>28.000000</td>\n",
       "      <td>2.000000</td>\n",
       "      <td>3.000000</td>\n",
       "      <td>2.752600e+04</td>\n",
       "      <td>2018.000000</td>\n",
       "    </tr>\n",
       "    <tr>\n",
       "      <th>75%</th>\n",
       "      <td>46288.500000</td>\n",
       "      <td>4.80000</td>\n",
       "      <td>24.000000</td>\n",
       "      <td>32.000000</td>\n",
       "      <td>2.000000</td>\n",
       "      <td>5.000000</td>\n",
       "      <td>3.700000e+04</td>\n",
       "      <td>2020.000000</td>\n",
       "    </tr>\n",
       "    <tr>\n",
       "      <th>max</th>\n",
       "      <td>492592.000000</td>\n",
       "      <td>5.00000</td>\n",
       "      <td>204.000000</td>\n",
       "      <td>684.000000</td>\n",
       "      <td>4.000000</td>\n",
       "      <td>7.000000</td>\n",
       "      <td>1.450000e+06</td>\n",
       "      <td>2022.000000</td>\n",
       "    </tr>\n",
       "  </tbody>\n",
       "</table>\n",
       "</div>"
      ],
      "text/plain": [
       "             Mileage        Rating       City MPG    Highway MPG  \\\n",
       "count  152018.000000  152018.00000  152018.000000  152018.000000   \n",
       "mean    35460.939132       4.32535      22.455486      30.657718   \n",
       "std     32756.609619       0.67556      10.941336      21.931450   \n",
       "min         1.000000       1.00000       0.000000       0.000000   \n",
       "25%     13009.000000       4.20000      18.000000      25.000000   \n",
       "50%     28687.000000       4.50000      21.000000      28.000000   \n",
       "75%     46288.500000       4.80000      24.000000      32.000000   \n",
       "max    492592.000000       5.00000     204.000000     684.000000   \n",
       "\n",
       "       Num_ent_features  Num_safe_features         Price     Model Year  \n",
       "count     152018.000000      152018.000000  1.520180e+05  152018.000000  \n",
       "mean           1.860201           3.782815  3.071276e+04    2017.952979  \n",
       "std            0.714034           1.374101  1.894775e+04       2.440061  \n",
       "min            1.000000           1.000000  1.500000e+03    2001.000000  \n",
       "25%            1.000000           3.000000  2.000900e+04    2017.000000  \n",
       "50%            2.000000           3.000000  2.752600e+04    2018.000000  \n",
       "75%            2.000000           5.000000  3.700000e+04    2020.000000  \n",
       "max            4.000000           7.000000  1.450000e+06    2022.000000  "
      ]
     },
     "execution_count": 51,
     "metadata": {},
     "output_type": "execute_result"
    }
   ],
   "source": [
    "df.describe()"
   ]
  },
  {
   "cell_type": "code",
   "execution_count": 52,
   "id": "according-sheriff",
   "metadata": {},
   "outputs": [
    {
     "name": "stdout",
     "output_type": "stream",
     "text": [
      "<class 'pandas.core.frame.DataFrame'>\n",
      "Int64Index: 152018 entries, 0 to 187167\n",
      "Data columns (total 18 columns):\n",
      " #   Column             Non-Null Count   Dtype  \n",
      "---  ------             --------------   -----  \n",
      " 0   Name               152018 non-null  object \n",
      " 1   Mileage            152018 non-null  int64  \n",
      " 2   Address            152018 non-null  object \n",
      " 3   Rating             152018 non-null  float64\n",
      " 4   Fuel Type          152018 non-null  object \n",
      " 5   City MPG           152018 non-null  float64\n",
      " 6   Highway MPG        152018 non-null  float64\n",
      " 7   Drivetrain         152018 non-null  object \n",
      " 8   Engine             152018 non-null  object \n",
      " 9   Exterior Color     152018 non-null  object \n",
      " 10  Interior Color     152018 non-null  object \n",
      " 11  Transmission       152018 non-null  object \n",
      " 12  Num_ent_features   152018 non-null  float64\n",
      " 13  Num_safe_features  152018 non-null  float64\n",
      " 14  Price              152018 non-null  int64  \n",
      " 15  Model Year         152018 non-null  int64  \n",
      " 16  Car Model          152018 non-null  object \n",
      " 17  Make               152018 non-null  object \n",
      "dtypes: float64(5), int64(3), object(10)\n",
      "memory usage: 22.0+ MB\n"
     ]
    }
   ],
   "source": [
    "df.info()"
   ]
  },
  {
   "cell_type": "code",
   "execution_count": 53,
   "id": "union-seeking",
   "metadata": {},
   "outputs": [
    {
     "data": {
      "text/plain": [
       "<AxesSubplot:xlabel='Price', ylabel='Density'>"
      ]
     },
     "execution_count": 53,
     "metadata": {},
     "output_type": "execute_result"
    },
    {
     "data": {
      "image/png": "[encoded data removed]",
      "text/plain": [
       "<Figure size 432x288 with 1 Axes>"
      ]
     },
     "metadata": {
      "needs_background": "light"
     },
     "output_type": "display_data"
    }
   ],
   "source": [
    "#Check price distribution\n",
    "sns.distplot(df.Price)"
   ]
  },
  {
   "cell_type": "code",
   "execution_count": 54,
   "id": "announced-elevation",
   "metadata": {},
   "outputs": [],
   "source": [
    "df = df[df.Price <= (df.Price.mean() + 3 * df.Price.std())]"
   ]
  },
  {
   "cell_type": "code",
   "execution_count": 55,
   "id": "animal-nothing",
   "metadata": {},
   "outputs": [
    {
     "data": {
      "text/plain": [
       "(150825, 18)"
      ]
     },
     "execution_count": 55,
     "metadata": {},
     "output_type": "execute_result"
    }
   ],
   "source": [
    "df.shape"
   ]
  },
  {
   "cell_type": "code",
   "execution_count": 56,
   "id": "governing-covering",
   "metadata": {},
   "outputs": [
    {
     "data": {
      "text/plain": [
       "<AxesSubplot:xlabel='Price', ylabel='Density'>"
      ]
     },
     "execution_count": 56,
     "metadata": {},
     "output_type": "execute_result"
    },
    {
     "data": {
      "image/png": "[encoded data removed]",
      "text/plain": [
       "<Figure size 432x288 with 1 Axes>"
      ]
     },
     "metadata": {
      "needs_background": "light"
     },
     "output_type": "display_data"
    }
   ],
   "source": [
    "sns.distplot(df.Price)"
   ]
  },
  {
   "cell_type": "code",
   "execution_count": 57,
   "id": "unavailable-correspondence",
   "metadata": {},
   "outputs": [
    {
     "data": {
      "text/html": [
       "<div>\n",
       "<style scoped>\n",
       "    .dataframe tbody tr th:only-of-type {\n",
       "        vertical-align: middle;\n",
       "    }\n",
       "\n",
       "    .dataframe tbody tr th {\n",
       "        vertical-align: top;\n",
       "    }\n",
       "\n",
       "    .dataframe thead th {\n",
       "        text-align: right;\n",
       "    }\n",
       "</style>\n",
       "<table border=\"1\" class=\"dataframe\">\n",
       "  <thead>\n",
       "    <tr style=\"text-align: right;\">\n",
       "      <th></th>\n",
       "      <th>Mileage</th>\n",
       "      <th>Rating</th>\n",
       "      <th>City MPG</th>\n",
       "      <th>Highway MPG</th>\n",
       "      <th>Num_ent_features</th>\n",
       "      <th>Num_safe_features</th>\n",
       "      <th>Price</th>\n",
       "      <th>Model Year</th>\n",
       "    </tr>\n",
       "  </thead>\n",
       "  <tbody>\n",
       "    <tr>\n",
       "      <th>count</th>\n",
       "      <td>150825.000000</td>\n",
       "      <td>150825.000000</td>\n",
       "      <td>150825.000000</td>\n",
       "      <td>150825.000000</td>\n",
       "      <td>150825.000000</td>\n",
       "      <td>150825.000000</td>\n",
       "      <td>150825.000000</td>\n",
       "      <td>150825.000000</td>\n",
       "    </tr>\n",
       "    <tr>\n",
       "      <th>mean</th>\n",
       "      <td>35660.030917</td>\n",
       "      <td>4.324981</td>\n",
       "      <td>22.500255</td>\n",
       "      <td>30.548974</td>\n",
       "      <td>1.856423</td>\n",
       "      <td>3.787151</td>\n",
       "      <td>29765.636678</td>\n",
       "      <td>2017.947595</td>\n",
       "    </tr>\n",
       "    <tr>\n",
       "      <th>std</th>\n",
       "      <td>32791.703513</td>\n",
       "      <td>0.674811</td>\n",
       "      <td>10.935878</td>\n",
       "      <td>21.286401</td>\n",
       "      <td>0.712803</td>\n",
       "      <td>1.374576</td>\n",
       "      <td>13268.822894</td>\n",
       "      <td>2.439940</td>\n",
       "    </tr>\n",
       "    <tr>\n",
       "      <th>min</th>\n",
       "      <td>1.000000</td>\n",
       "      <td>1.000000</td>\n",
       "      <td>0.000000</td>\n",
       "      <td>0.000000</td>\n",
       "      <td>1.000000</td>\n",
       "      <td>1.000000</td>\n",
       "      <td>1500.000000</td>\n",
       "      <td>2001.000000</td>\n",
       "    </tr>\n",
       "    <tr>\n",
       "      <th>25%</th>\n",
       "      <td>13281.000000</td>\n",
       "      <td>4.200000</td>\n",
       "      <td>18.000000</td>\n",
       "      <td>25.000000</td>\n",
       "      <td>1.000000</td>\n",
       "      <td>3.000000</td>\n",
       "      <td>19999.000000</td>\n",
       "      <td>2017.000000</td>\n",
       "    </tr>\n",
       "    <tr>\n",
       "      <th>50%</th>\n",
       "      <td>28851.000000</td>\n",
       "      <td>4.500000</td>\n",
       "      <td>21.000000</td>\n",
       "      <td>28.000000</td>\n",
       "      <td>2.000000</td>\n",
       "      <td>3.000000</td>\n",
       "      <td>27440.000000</td>\n",
       "      <td>2018.000000</td>\n",
       "    </tr>\n",
       "    <tr>\n",
       "      <th>75%</th>\n",
       "      <td>46542.000000</td>\n",
       "      <td>4.800000</td>\n",
       "      <td>24.000000</td>\n",
       "      <td>32.000000</td>\n",
       "      <td>2.000000</td>\n",
       "      <td>5.000000</td>\n",
       "      <td>36982.000000</td>\n",
       "      <td>2020.000000</td>\n",
       "    </tr>\n",
       "    <tr>\n",
       "      <th>max</th>\n",
       "      <td>492592.000000</td>\n",
       "      <td>5.000000</td>\n",
       "      <td>204.000000</td>\n",
       "      <td>414.000000</td>\n",
       "      <td>4.000000</td>\n",
       "      <td>7.000000</td>\n",
       "      <td>87488.000000</td>\n",
       "      <td>2022.000000</td>\n",
       "    </tr>\n",
       "  </tbody>\n",
       "</table>\n",
       "</div>"
      ],
      "text/plain": [
       "             Mileage         Rating       City MPG    Highway MPG  \\\n",
       "count  150825.000000  150825.000000  150825.000000  150825.000000   \n",
       "mean    35660.030917       4.324981      22.500255      30.548974   \n",
       "std     32791.703513       0.674811      10.935878      21.286401   \n",
       "min         1.000000       1.000000       0.000000       0.000000   \n",
       "25%     13281.000000       4.200000      18.000000      25.000000   \n",
       "50%     28851.000000       4.500000      21.000000      28.000000   \n",
       "75%     46542.000000       4.800000      24.000000      32.000000   \n",
       "max    492592.000000       5.000000     204.000000     414.000000   \n",
       "\n",
       "       Num_ent_features  Num_safe_features          Price     Model Year  \n",
       "count     150825.000000      150825.000000  150825.000000  150825.000000  \n",
       "mean           1.856423           3.787151   29765.636678    2017.947595  \n",
       "std            0.712803           1.374576   13268.822894       2.439940  \n",
       "min            1.000000           1.000000    1500.000000    2001.000000  \n",
       "25%            1.000000           3.000000   19999.000000    2017.000000  \n",
       "50%            2.000000           3.000000   27440.000000    2018.000000  \n",
       "75%            2.000000           5.000000   36982.000000    2020.000000  \n",
       "max            4.000000           7.000000   87488.000000    2022.000000  "
      ]
     },
     "execution_count": 57,
     "metadata": {},
     "output_type": "execute_result"
    }
   ],
   "source": [
    "df.describe()"
   ]
  },
  {
   "cell_type": "code",
   "execution_count": 58,
   "id": "communist-gossip",
   "metadata": {},
   "outputs": [
    {
     "data": {
      "text/plain": [
       "28285"
      ]
     },
     "execution_count": 58,
     "metadata": {},
     "output_type": "execute_result"
    }
   ],
   "source": [
    "df.duplicated().sum()"
   ]
  },
  {
   "cell_type": "code",
   "execution_count": 59,
   "id": "spread-decrease",
   "metadata": {},
   "outputs": [],
   "source": [
    "df.drop_duplicates(inplace=True)"
   ]
  },
  {
   "cell_type": "code",
   "execution_count": null,
   "id": "disturbed-klein",
   "metadata": {},
   "outputs": [],
   "source": []
  },
  {
   "cell_type": "code",
   "execution_count": 60,
   "id": "mysterious-disney",
   "metadata": {},
   "outputs": [
    {
     "name": "stdout",
     "output_type": "stream",
     "text": [
      "<class 'pandas.core.frame.DataFrame'>\n",
      "Int64Index: 122540 entries, 0 to 187167\n",
      "Data columns (total 18 columns):\n",
      " #   Column             Non-Null Count   Dtype  \n",
      "---  ------             --------------   -----  \n",
      " 0   Name               122540 non-null  object \n",
      " 1   Mileage            122540 non-null  int64  \n",
      " 2   Address            122540 non-null  object \n",
      " 3   Rating             122540 non-null  float64\n",
      " 4   Fuel Type          122540 non-null  object \n",
      " 5   City MPG           122540 non-null  float64\n",
      " 6   Highway MPG        122540 non-null  float64\n",
      " 7   Drivetrain         122540 non-null  object \n",
      " 8   Engine             122540 non-null  object \n",
      " 9   Exterior Color     122540 non-null  object \n",
      " 10  Interior Color     122540 non-null  object \n",
      " 11  Transmission       122540 non-null  object \n",
      " 12  Num_ent_features   122540 non-null  float64\n",
      " 13  Num_safe_features  122540 non-null  float64\n",
      " 14  Price              122540 non-null  int64  \n",
      " 15  Model Year         122540 non-null  int64  \n",
      " 16  Car Model          122540 non-null  object \n",
      " 17  Make               122540 non-null  object \n",
      "dtypes: float64(5), int64(3), object(10)\n",
      "memory usage: 17.8+ MB\n"
     ]
    }
   ],
   "source": [
    "df.info()"
   ]
  },
  {
   "cell_type": "code",
   "execution_count": 61,
   "id": "finite-punishment",
   "metadata": {},
   "outputs": [
    {
     "data": {
      "text/plain": [
       "(122540, 18)"
      ]
     },
     "execution_count": 61,
     "metadata": {},
     "output_type": "execute_result"
    }
   ],
   "source": [
    "df.shape"
   ]
  },
  {
   "cell_type": "code",
   "execution_count": 62,
   "id": "written-saturday",
   "metadata": {},
   "outputs": [
    {
     "data": {
      "text/plain": [
       "<AxesSubplot:xlabel='Mileage', ylabel='Density'>"
      ]
     },
     "execution_count": 62,
     "metadata": {},
     "output_type": "execute_result"
    },
    {
     "data": {
      "image/png": "[encoded data removed]",
      "text/plain": [
       "<Figure size 432x288 with 1 Axes>"
      ]
     },
     "metadata": {
      "needs_background": "light"
     },
     "output_type": "display_data"
    }
   ],
   "source": [
    "sns.distplot(df.Mileage)"
   ]
  },
  {
   "cell_type": "code",
   "execution_count": 63,
   "id": "boring-looking",
   "metadata": {},
   "outputs": [
    {
     "data": {
      "text/plain": [
       "(122540, 18)"
      ]
     },
     "execution_count": 63,
     "metadata": {},
     "output_type": "execute_result"
    }
   ],
   "source": [
    "df.shape"
   ]
  },
  {
   "cell_type": "code",
   "execution_count": 64,
   "id": "important-dryer",
   "metadata": {},
   "outputs": [
    {
     "data": {
      "text/plain": [
       "(122351, 18)"
      ]
     },
     "execution_count": 64,
     "metadata": {},
     "output_type": "execute_result"
    }
   ],
   "source": [
    "df = df[df.Mileage <= 200000]\n",
    "df.shape"
   ]
  },
  {
   "cell_type": "code",
   "execution_count": 65,
   "id": "legislative-atlas",
   "metadata": {},
   "outputs": [
    {
     "data": {
      "text/plain": [
       "0          24371\n",
       "2          11863\n",
       "7          10422\n",
       "8          24351\n",
       "10         23152\n",
       "           ...  \n",
       "187150     34911\n",
       "187152     46105\n",
       "187159     51170\n",
       "187165    127717\n",
       "187167     76590\n",
       "Name: Mileage, Length: 122351, dtype: int64"
      ]
     },
     "execution_count": 65,
     "metadata": {},
     "output_type": "execute_result"
    }
   ],
   "source": [
    "df.Mileage"
   ]
  },
  {
   "cell_type": "code",
   "execution_count": 66,
   "id": "monetary-denial",
   "metadata": {},
   "outputs": [],
   "source": [
    "df['Fuel Type'] = df['Fuel Type'].apply(lambda x: x.strip())"
   ]
  },
  {
   "cell_type": "code",
   "execution_count": 67,
   "id": "boring-roller",
   "metadata": {},
   "outputs": [
    {
     "data": {
      "text/plain": [
       "array(['Gasoline', 'Gasoline', 'Gasoline', ..., 'Gasoline', 'Gasoline',\n",
       "       'Gasoline'], dtype=object)"
      ]
     },
     "execution_count": 67,
     "metadata": {},
     "output_type": "execute_result"
    }
   ],
   "source": [
    "df['Fuel Type'].values"
   ]
  },
  {
   "cell_type": "code",
   "execution_count": 68,
   "id": "orange-radiation",
   "metadata": {},
   "outputs": [],
   "source": [
    "df.to_csv('cleaned_full_data.csv')"
   ]
  },
  {
   "cell_type": "code",
   "execution_count": 72,
   "id": "textile-response",
   "metadata": {},
   "outputs": [
    {
     "data": {
      "text/html": [
       "<div>\n",
       "<style scoped>\n",
       "    .dataframe tbody tr th:only-of-type {\n",
       "        vertical-align: middle;\n",
       "    }\n",
       "\n",
       "    .dataframe tbody tr th {\n",
       "        vertical-align: top;\n",
       "    }\n",
       "\n",
       "    .dataframe thead th {\n",
       "        text-align: right;\n",
       "    }\n",
       "</style>\n",
       "<table border=\"1\" class=\"dataframe\">\n",
       "  <thead>\n",
       "    <tr style=\"text-align: right;\">\n",
       "      <th></th>\n",
       "      <th>Name</th>\n",
       "      <th>Mileage</th>\n",
       "      <th>Address</th>\n",
       "      <th>Rating</th>\n",
       "      <th>Fuel Type</th>\n",
       "      <th>City MPG</th>\n",
       "      <th>Highway MPG</th>\n",
       "      <th>Drivetrain</th>\n",
       "      <th>Engine</th>\n",
       "      <th>Exterior Color</th>\n",
       "      <th>Interior Color</th>\n",
       "      <th>Transmission</th>\n",
       "      <th>Num_ent_features</th>\n",
       "      <th>Num_safe_features</th>\n",
       "      <th>Price</th>\n",
       "      <th>Model Year</th>\n",
       "      <th>Car Model</th>\n",
       "      <th>Make</th>\n",
       "    </tr>\n",
       "  </thead>\n",
       "  <tbody>\n",
       "    <tr>\n",
       "      <th>48276</th>\n",
       "      <td>2018 Tesla Model 3 Long Range</td>\n",
       "      <td>47497</td>\n",
       "      <td>Clive, IA 50325</td>\n",
       "      <td>4.9</td>\n",
       "      <td>Electric</td>\n",
       "      <td>136.0</td>\n",
       "      <td>123.0</td>\n",
       "      <td>RWD</td>\n",
       "      <td>Electric</td>\n",
       "      <td>Red</td>\n",
       "      <td>Black</td>\n",
       "      <td>Automatic</td>\n",
       "      <td>2.0</td>\n",
       "      <td>6.0</td>\n",
       "      <td>36992</td>\n",
       "      <td>2018</td>\n",
       "      <td>Model</td>\n",
       "      <td>Tesla</td>\n",
       "    </tr>\n",
       "    <tr>\n",
       "      <th>26960</th>\n",
       "      <td>2015 Tesla Model S 70D</td>\n",
       "      <td>53556</td>\n",
       "      <td>Madison, TN 37115</td>\n",
       "      <td>4.8</td>\n",
       "      <td>Electric</td>\n",
       "      <td>101.0</td>\n",
       "      <td>102.0</td>\n",
       "      <td>AWD</td>\n",
       "      <td>Electric</td>\n",
       "      <td>Gray</td>\n",
       "      <td>Black</td>\n",
       "      <td>Automatic</td>\n",
       "      <td>1.0</td>\n",
       "      <td>6.0</td>\n",
       "      <td>36995</td>\n",
       "      <td>2015</td>\n",
       "      <td>Model</td>\n",
       "      <td>Tesla</td>\n",
       "    </tr>\n",
       "    <tr>\n",
       "      <th>18313</th>\n",
       "      <td>2017 Tesla Model S 75</td>\n",
       "      <td>48909</td>\n",
       "      <td>Roswell, GA 30075</td>\n",
       "      <td>4.4</td>\n",
       "      <td>Electric</td>\n",
       "      <td>97.0</td>\n",
       "      <td>100.0</td>\n",
       "      <td>RWD</td>\n",
       "      <td>Electric</td>\n",
       "      <td>Red</td>\n",
       "      <td>Other</td>\n",
       "      <td>Automatic</td>\n",
       "      <td>2.0</td>\n",
       "      <td>4.0</td>\n",
       "      <td>42999</td>\n",
       "      <td>2017</td>\n",
       "      <td>Model</td>\n",
       "      <td>Tesla</td>\n",
       "    </tr>\n",
       "    <tr>\n",
       "      <th>52443</th>\n",
       "      <td>2015 Tesla Model S 85D</td>\n",
       "      <td>64196</td>\n",
       "      <td>Milwaukee, WI 53221</td>\n",
       "      <td>4.9</td>\n",
       "      <td>Electric</td>\n",
       "      <td>21.0</td>\n",
       "      <td>28.0</td>\n",
       "      <td>AWD</td>\n",
       "      <td>Electric</td>\n",
       "      <td>Black</td>\n",
       "      <td>Other</td>\n",
       "      <td>Automatic</td>\n",
       "      <td>1.0</td>\n",
       "      <td>5.0</td>\n",
       "      <td>39600</td>\n",
       "      <td>2015</td>\n",
       "      <td>Model</td>\n",
       "      <td>Tesla</td>\n",
       "    </tr>\n",
       "    <tr>\n",
       "      <th>143722</th>\n",
       "      <td>2018 Tesla Model 3 Performance</td>\n",
       "      <td>33143</td>\n",
       "      <td>Whittier, CA 90602</td>\n",
       "      <td>4.0</td>\n",
       "      <td>Electric</td>\n",
       "      <td>120.0</td>\n",
       "      <td>112.0</td>\n",
       "      <td>AWD</td>\n",
       "      <td>Electric</td>\n",
       "      <td>Silver</td>\n",
       "      <td>Other</td>\n",
       "      <td>Automatic</td>\n",
       "      <td>1.0</td>\n",
       "      <td>4.0</td>\n",
       "      <td>47300</td>\n",
       "      <td>2018</td>\n",
       "      <td>Model</td>\n",
       "      <td>Tesla</td>\n",
       "    </tr>\n",
       "    <tr>\n",
       "      <th>153979</th>\n",
       "      <td>2016 Tesla Model X 60D</td>\n",
       "      <td>35152</td>\n",
       "      <td>San Francisco, CA 94080</td>\n",
       "      <td>3.8</td>\n",
       "      <td>Electric</td>\n",
       "      <td>91.0</td>\n",
       "      <td>94.0</td>\n",
       "      <td>AWD</td>\n",
       "      <td>Electric</td>\n",
       "      <td>White</td>\n",
       "      <td>Black</td>\n",
       "      <td>Automatic</td>\n",
       "      <td>1.0</td>\n",
       "      <td>4.0</td>\n",
       "      <td>54000</td>\n",
       "      <td>2016</td>\n",
       "      <td>Model</td>\n",
       "      <td>Tesla</td>\n",
       "    </tr>\n",
       "    <tr>\n",
       "      <th>128462</th>\n",
       "      <td>2017 Tesla Model S 100D</td>\n",
       "      <td>34902</td>\n",
       "      <td>Phoenix, AZ 85022</td>\n",
       "      <td>4.4</td>\n",
       "      <td>Electric</td>\n",
       "      <td>101.0</td>\n",
       "      <td>102.0</td>\n",
       "      <td>AWD</td>\n",
       "      <td>Electric</td>\n",
       "      <td>Silver</td>\n",
       "      <td>Black</td>\n",
       "      <td>Automatic</td>\n",
       "      <td>1.0</td>\n",
       "      <td>4.0</td>\n",
       "      <td>58999</td>\n",
       "      <td>2017</td>\n",
       "      <td>Model</td>\n",
       "      <td>Tesla</td>\n",
       "    </tr>\n",
       "    <tr>\n",
       "      <th>308</th>\n",
       "      <td>2019 Tesla Model 3 Mid Range</td>\n",
       "      <td>49135</td>\n",
       "      <td>Long Island City, NY 11101</td>\n",
       "      <td>4.3</td>\n",
       "      <td>Electric</td>\n",
       "      <td>128.0</td>\n",
       "      <td>117.0</td>\n",
       "      <td>RWD</td>\n",
       "      <td>Electric</td>\n",
       "      <td>Black</td>\n",
       "      <td>Black</td>\n",
       "      <td>Automatic</td>\n",
       "      <td>1.0</td>\n",
       "      <td>4.0</td>\n",
       "      <td>35995</td>\n",
       "      <td>2019</td>\n",
       "      <td>Model</td>\n",
       "      <td>Tesla</td>\n",
       "    </tr>\n",
       "    <tr>\n",
       "      <th>19117</th>\n",
       "      <td>2016 Tesla Model X 75D</td>\n",
       "      <td>26969</td>\n",
       "      <td>Lilburn, GA 30047</td>\n",
       "      <td>4.0</td>\n",
       "      <td>Electric</td>\n",
       "      <td>91.0</td>\n",
       "      <td>95.0</td>\n",
       "      <td>AWD</td>\n",
       "      <td>Electric</td>\n",
       "      <td>Metallic</td>\n",
       "      <td>Black</td>\n",
       "      <td>Automatic</td>\n",
       "      <td>1.0</td>\n",
       "      <td>4.0</td>\n",
       "      <td>59888</td>\n",
       "      <td>2016</td>\n",
       "      <td>Model</td>\n",
       "      <td>Tesla</td>\n",
       "    </tr>\n",
       "    <tr>\n",
       "      <th>15162</th>\n",
       "      <td>2019 Tesla Model 3 Standard Range Plus</td>\n",
       "      <td>11085</td>\n",
       "      <td>Washington, VA 22015</td>\n",
       "      <td>4.2</td>\n",
       "      <td>Electric</td>\n",
       "      <td>140.0</td>\n",
       "      <td>124.0</td>\n",
       "      <td>RWD</td>\n",
       "      <td>Electric</td>\n",
       "      <td>Black</td>\n",
       "      <td>Black</td>\n",
       "      <td>Automatic</td>\n",
       "      <td>1.0</td>\n",
       "      <td>4.0</td>\n",
       "      <td>37590</td>\n",
       "      <td>2019</td>\n",
       "      <td>Model</td>\n",
       "      <td>Tesla</td>\n",
       "    </tr>\n",
       "  </tbody>\n",
       "</table>\n",
       "</div>"
      ],
      "text/plain": [
       "                                           Name  Mileage  \\\n",
       "48276             2018 Tesla Model 3 Long Range    47497   \n",
       "26960                    2015 Tesla Model S 70D    53556   \n",
       "18313                     2017 Tesla Model S 75    48909   \n",
       "52443                    2015 Tesla Model S 85D    64196   \n",
       "143722           2018 Tesla Model 3 Performance    33143   \n",
       "153979                   2016 Tesla Model X 60D    35152   \n",
       "128462                  2017 Tesla Model S 100D    34902   \n",
       "308                2019 Tesla Model 3 Mid Range    49135   \n",
       "19117                    2016 Tesla Model X 75D    26969   \n",
       "15162    2019 Tesla Model 3 Standard Range Plus    11085   \n",
       "\n",
       "                           Address  Rating Fuel Type  City MPG  Highway MPG  \\\n",
       "48276              Clive, IA 50325     4.9  Electric     136.0        123.0   \n",
       "26960            Madison, TN 37115     4.8  Electric     101.0        102.0   \n",
       "18313            Roswell, GA 30075     4.4  Electric      97.0        100.0   \n",
       "52443          Milwaukee, WI 53221     4.9  Electric      21.0         28.0   \n",
       "143722          Whittier, CA 90602     4.0  Electric     120.0        112.0   \n",
       "153979     San Francisco, CA 94080     3.8  Electric      91.0         94.0   \n",
       "128462           Phoenix, AZ 85022     4.4  Electric     101.0        102.0   \n",
       "308     Long Island City, NY 11101     4.3  Electric     128.0        117.0   \n",
       "19117            Lilburn, GA 30047     4.0  Electric      91.0         95.0   \n",
       "15162         Washington, VA 22015     4.2  Electric     140.0        124.0   \n",
       "\n",
       "       Drivetrain    Engine Exterior Color Interior Color Transmission  \\\n",
       "48276         RWD  Electric            Red          Black    Automatic   \n",
       "26960         AWD  Electric           Gray          Black    Automatic   \n",
       "18313         RWD  Electric            Red          Other    Automatic   \n",
       "52443         AWD  Electric          Black          Other    Automatic   \n",
       "143722        AWD  Electric         Silver          Other    Automatic   \n",
       "153979        AWD  Electric          White          Black    Automatic   \n",
       "128462        AWD  Electric         Silver          Black    Automatic   \n",
       "308           RWD  Electric          Black          Black    Automatic   \n",
       "19117         AWD  Electric       Metallic          Black    Automatic   \n",
       "15162         RWD  Electric          Black          Black    Automatic   \n",
       "\n",
       "        Num_ent_features  Num_safe_features  Price  Model Year Car Model  \\\n",
       "48276                2.0                6.0  36992        2018     Model   \n",
       "26960                1.0                6.0  36995        2015     Model   \n",
       "18313                2.0                4.0  42999        2017     Model   \n",
       "52443                1.0                5.0  39600        2015     Model   \n",
       "143722               1.0                4.0  47300        2018     Model   \n",
       "153979               1.0                4.0  54000        2016     Model   \n",
       "128462               1.0                4.0  58999        2017     Model   \n",
       "308                  1.0                4.0  35995        2019     Model   \n",
       "19117                1.0                4.0  59888        2016     Model   \n",
       "15162                1.0                4.0  37590        2019     Model   \n",
       "\n",
       "         Make  \n",
       "48276   Tesla  \n",
       "26960   Tesla  \n",
       "18313   Tesla  \n",
       "52443   Tesla  \n",
       "143722  Tesla  \n",
       "153979  Tesla  \n",
       "128462  Tesla  \n",
       "308     Tesla  \n",
       "19117   Tesla  \n",
       "15162   Tesla  "
      ]
     },
     "execution_count": 72,
     "metadata": {},
     "output_type": "execute_result"
    }
   ],
   "source": [
    "df[df.Make == 'Tesla'].sample(10)"
   ]
  },
  {
   "cell_type": "code",
   "execution_count": null,
   "id": "generous-instrumentation",
   "metadata": {},
   "outputs": [],
   "source": []
  }
 ],
 "metadata": {
  "kernelspec": {
   "display_name": "Python [conda env:metis] *",
   "language": "python",
   "name": "conda-env-metis-py"
  },
  "language_info": {
   "codemirror_mode": {
    "name": "ipython",
    "version": 3
   },
   "file_extension": ".py",
   "mimetype": "text/x-python",
   "name": "python",
   "nbconvert_exporter": "python",
   "pygments_lexer": "ipython3",
   "version": "3.8.8"
  }
 },
 "nbformat": 4,
 "nbformat_minor": 5
}

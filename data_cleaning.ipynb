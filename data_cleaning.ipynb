{
 "cells": [
  {
   "cell_type": "code",
   "execution_count": 1,
   "id": "coordinated-firewall",
   "metadata": {},
   "outputs": [
    {
     "name": "stdout",
     "output_type": "stream",
     "text": [
      "Libraries imported\n"
     ]
    }
   ],
   "source": [
    "# Necessary imports\n",
    "import warnings\n",
    "warnings.filterwarnings(\"ignore\")\n",
    "import pandas as pd\n",
    "import numpy as np\n",
    "import statsmodels.api as sm\n",
    "import statsmodels.formula.api as smf\n",
    "import patsy\n",
    "import glob\n",
    "import re\n",
    "\n",
    "import seaborn as sns\n",
    "import matplotlib.pyplot as plt\n",
    "\n",
    "%matplotlib inline\n",
    "\n",
    "print('Libraries imported')"
   ]
  },
  {
   "cell_type": "code",
   "execution_count": 2,
   "id": "ancient-climb",
   "metadata": {},
   "outputs": [
    {
     "name": "stdout",
     "output_type": "stream",
     "text": [
      "(125034, 15)\n"
     ]
    },
    {
     "data": {
      "text/html": [
       "<div>\n",
       "<style scoped>\n",
       "    .dataframe tbody tr th:only-of-type {\n",
       "        vertical-align: middle;\n",
       "    }\n",
       "\n",
       "    .dataframe tbody tr th {\n",
       "        vertical-align: top;\n",
       "    }\n",
       "\n",
       "    .dataframe thead th {\n",
       "        text-align: right;\n",
       "    }\n",
       "</style>\n",
       "<table border=\"1\" class=\"dataframe\">\n",
       "  <thead>\n",
       "    <tr style=\"text-align: right;\">\n",
       "      <th></th>\n",
       "      <th>Name</th>\n",
       "      <th>Mileage</th>\n",
       "      <th>Address</th>\n",
       "      <th>Rating</th>\n",
       "      <th>Fuel Type</th>\n",
       "      <th>City MPG</th>\n",
       "      <th>Highway MPG</th>\n",
       "      <th>Drivetrain</th>\n",
       "      <th>Engine</th>\n",
       "      <th>Exterior Color</th>\n",
       "      <th>Interior Color</th>\n",
       "      <th>Transmission</th>\n",
       "      <th>Entertainment</th>\n",
       "      <th>Safety</th>\n",
       "      <th>Price</th>\n",
       "    </tr>\n",
       "  </thead>\n",
       "  <tbody>\n",
       "    <tr>\n",
       "      <th>0</th>\n",
       "      <td>2020 BMW 330 i xDrive</td>\n",
       "      <td>24,371</td>\n",
       "      <td>Brooklyn, NY 11203</td>\n",
       "      <td>3.5</td>\n",
       "      <td>Gasoline</td>\n",
       "      <td>25</td>\n",
       "      <td>34</td>\n",
       "      <td>AWD</td>\n",
       "      <td>2.0L I4 16V GDI DOHC Turbo</td>\n",
       "      <td>Jet Black</td>\n",
       "      <td>Black</td>\n",
       "      <td>8-Speed Automatic</td>\n",
       "      <td>['Bluetooth', 'Apple CarPlay/Android Auto']</td>\n",
       "      <td>['Backup Camera', 'Brake Assist', 'Stability C...</td>\n",
       "      <td>$29,893</td>\n",
       "    </tr>\n",
       "    <tr>\n",
       "      <th>1</th>\n",
       "      <td>2015 Audi A6 2.0T Premium Plus</td>\n",
       "      <td>89,351</td>\n",
       "      <td>Brooklyn, NY 11207</td>\n",
       "      <td>2.2</td>\n",
       "      <td>Gasoline</td>\n",
       "      <td>20</td>\n",
       "      <td>29</td>\n",
       "      <td>AWD</td>\n",
       "      <td>2.0L I4 16V GDI DOHC Turbo</td>\n",
       "      <td>Gray</td>\n",
       "      <td>-1</td>\n",
       "      <td>8-Speed Automatic</td>\n",
       "      <td>['Bluetooth', 'Premium Sound System']</td>\n",
       "      <td>['Brake Assist', 'Stability Control']</td>\n",
       "      <td>$16,995</td>\n",
       "    </tr>\n",
       "    <tr>\n",
       "      <th>2</th>\n",
       "      <td>2018 Toyota RAV4 Limited</td>\n",
       "      <td>11,863</td>\n",
       "      <td>Brooklyn, NY 11210</td>\n",
       "      <td>3.5</td>\n",
       "      <td>Gasoline</td>\n",
       "      <td>22</td>\n",
       "      <td>28</td>\n",
       "      <td>AWD</td>\n",
       "      <td>2.5L I4 16V MPFI DOHC</td>\n",
       "      <td>Black</td>\n",
       "      <td>Black</td>\n",
       "      <td>6-Speed Automatic</td>\n",
       "      <td>['Bluetooth', 'Premium Sound System']</td>\n",
       "      <td>['Backup Camera', 'Brake Assist', 'Stability C...</td>\n",
       "      <td>$26,225</td>\n",
       "    </tr>\n",
       "    <tr>\n",
       "      <th>3</th>\n",
       "      <td>2018 Toyota RAV4 Limited</td>\n",
       "      <td>17,501</td>\n",
       "      <td>Brooklyn, NY 11210</td>\n",
       "      <td>3.5</td>\n",
       "      <td>Gasoline</td>\n",
       "      <td>22</td>\n",
       "      <td>28</td>\n",
       "      <td>AWD</td>\n",
       "      <td>2.5L I4 16V MPFI DOHC</td>\n",
       "      <td>Gray</td>\n",
       "      <td>-1</td>\n",
       "      <td>6-Speed Automatic</td>\n",
       "      <td>['Bluetooth', 'Premium Sound System']</td>\n",
       "      <td>['Backup Camera', 'Brake Assist', 'Stability C...</td>\n",
       "      <td>$25,903</td>\n",
       "    </tr>\n",
       "    <tr>\n",
       "      <th>4</th>\n",
       "      <td>2019 Honda CR-V EX-L</td>\n",
       "      <td>19,241</td>\n",
       "      <td>Brooklyn, NY 11210</td>\n",
       "      <td>3.5</td>\n",
       "      <td>Gasoline</td>\n",
       "      <td>27</td>\n",
       "      <td>33</td>\n",
       "      <td>AWD</td>\n",
       "      <td>1.5L I4 16V GDI DOHC Turbo</td>\n",
       "      <td>Gray</td>\n",
       "      <td>-1</td>\n",
       "      <td>Automatic CVT</td>\n",
       "      <td>['Bluetooth', 'Apple CarPlay/Android Auto']</td>\n",
       "      <td>['Backup Camera', 'Brake Assist', 'Stability C...</td>\n",
       "      <td>$28,145</td>\n",
       "    </tr>\n",
       "  </tbody>\n",
       "</table>\n",
       "</div>"
      ],
      "text/plain": [
       "                              Name Mileage             Address  Rating  \\\n",
       "0            2020 BMW 330 i xDrive  24,371  Brooklyn, NY 11203     3.5   \n",
       "1   2015 Audi A6 2.0T Premium Plus  89,351  Brooklyn, NY 11207     2.2   \n",
       "2         2018 Toyota RAV4 Limited  11,863  Brooklyn, NY 11210     3.5   \n",
       "3         2018 Toyota RAV4 Limited  17,501  Brooklyn, NY 11210     3.5   \n",
       "4             2019 Honda CR-V EX-L  19,241  Brooklyn, NY 11210     3.5   \n",
       "\n",
       "   Fuel Type  City MPG  Highway MPG Drivetrain                       Engine  \\\n",
       "0   Gasoline        25           34        AWD   2.0L I4 16V GDI DOHC Turbo   \n",
       "1   Gasoline        20           29        AWD   2.0L I4 16V GDI DOHC Turbo   \n",
       "2   Gasoline        22           28        AWD        2.5L I4 16V MPFI DOHC   \n",
       "3   Gasoline        22           28        AWD        2.5L I4 16V MPFI DOHC   \n",
       "4   Gasoline        27           33        AWD   1.5L I4 16V GDI DOHC Turbo   \n",
       "\n",
       "  Exterior Color Interior Color        Transmission  \\\n",
       "0      Jet Black          Black   8-Speed Automatic   \n",
       "1           Gray             -1   8-Speed Automatic   \n",
       "2          Black          Black   6-Speed Automatic   \n",
       "3           Gray             -1   6-Speed Automatic   \n",
       "4           Gray             -1       Automatic CVT   \n",
       "\n",
       "                                 Entertainment  \\\n",
       "0  ['Bluetooth', 'Apple CarPlay/Android Auto']   \n",
       "1        ['Bluetooth', 'Premium Sound System']   \n",
       "2        ['Bluetooth', 'Premium Sound System']   \n",
       "3        ['Bluetooth', 'Premium Sound System']   \n",
       "4  ['Bluetooth', 'Apple CarPlay/Android Auto']   \n",
       "\n",
       "                                              Safety    Price  \n",
       "0  ['Backup Camera', 'Brake Assist', 'Stability C...  $29,893  \n",
       "1              ['Brake Assist', 'Stability Control']  $16,995  \n",
       "2  ['Backup Camera', 'Brake Assist', 'Stability C...  $26,225  \n",
       "3  ['Backup Camera', 'Brake Assist', 'Stability C...  $25,903  \n",
       "4  ['Backup Camera', 'Brake Assist', 'Stability C...  $28,145  "
      ]
     },
     "execution_count": 2,
     "metadata": {},
     "output_type": "execute_result"
    }
   ],
   "source": [
    "path = r'C:/Metis_Bootcamp/Regression_project/data/joined-full-data//' # data path\n",
    "all_files = glob.glob(path + \"/*.csv\")\n",
    "\n",
    "li = []\n",
    "\n",
    "for filename in all_files:\n",
    "    data = pd.read_csv(filename, index_col=0, header=0)\n",
    "    li.append(data)\n",
    "\n",
    "df = pd.concat(li, axis=0, ignore_index=True)\n",
    "\n",
    "print(df.shape)\n",
    "\n",
    "df.head()"
   ]
  },
  {
   "cell_type": "code",
   "execution_count": 43,
   "id": "impossible-decision",
   "metadata": {},
   "outputs": [],
   "source": [
    "def model_year_extractor(name):\n",
    "    \n",
    "    name_year = name.replace('Certified ','').strip()\n",
    "    \n",
    "    year = int(name_year.split(' ')[0])\n",
    "    \n",
    "    return year"
   ]
  },
  {
   "cell_type": "code",
   "execution_count": 44,
   "id": "essential-proxy",
   "metadata": {},
   "outputs": [],
   "source": [
    "df['Model Year'] = df['Name'].apply(model_year_extractor)"
   ]
  },
  {
   "cell_type": "code",
   "execution_count": 45,
   "id": "acute-notebook",
   "metadata": {
    "scrolled": true
   },
   "outputs": [
    {
     "data": {
      "text/plain": [
       "2001      104\n",
       "2002      137\n",
       "2003      180\n",
       "2004      230\n",
       "2005      323\n",
       "2006      472\n",
       "2007      593\n",
       "2008      649\n",
       "2009      487\n",
       "2010      686\n",
       "2011     1010\n",
       "2012     1651\n",
       "2013     2746\n",
       "2014     3190\n",
       "2015     4404\n",
       "2016     5312\n",
       "2017    13857\n",
       "2018    31180\n",
       "2019    14327\n",
       "2020    13849\n",
       "2021     5623\n",
       "2022       20\n",
       "Name: Model Year, dtype: int64"
      ]
     },
     "execution_count": 45,
     "metadata": {},
     "output_type": "execute_result"
    }
   ],
   "source": [
    "df = df[df['Model Year'] > 2000]\n",
    "df['Model Year'].value_counts().sort_index()"
   ]
  },
  {
   "cell_type": "code",
   "execution_count": 46,
   "id": "representative-obligation",
   "metadata": {},
   "outputs": [
    {
     "data": {
      "text/plain": [
       "(101030, 16)"
      ]
     },
     "execution_count": 46,
     "metadata": {},
     "output_type": "execute_result"
    }
   ],
   "source": [
    "df.shape"
   ]
  },
  {
   "cell_type": "code",
   "execution_count": 47,
   "id": "statewide-subcommittee",
   "metadata": {},
   "outputs": [],
   "source": [
    "def make_extractor(name):\n",
    "    \n",
    "    if 'Land' in name:\n",
    "        return 'Land Rover'\n",
    "    \n",
    "    elif 'Alfa' in name:\n",
    "        return 'Alfa Romeo'\n",
    "    \n",
    "    elif 'MINI' in name:\n",
    "        return 'MINI Cooper'\n",
    "    \n",
    "    elif 'Aston' in name:\n",
    "        return 'Aston Martin'\n",
    "    \n",
    "    else:\n",
    "        return name.split(' ')[2]"
   ]
  },
  {
   "cell_type": "code",
   "execution_count": 48,
   "id": "center-wedding",
   "metadata": {},
   "outputs": [],
   "source": [
    "def car_model_extractor(name):\n",
    "    try:\n",
    "        return name.split(' ')[3]\n",
    "    except:\n",
    "        return name.split(' ')[2]"
   ]
  },
  {
   "cell_type": "code",
   "execution_count": 49,
   "id": "proper-flour",
   "metadata": {},
   "outputs": [],
   "source": [
    "df['Car Model'] = df['Name'].apply(car_model_extractor)"
   ]
  },
  {
   "cell_type": "code",
   "execution_count": 50,
   "id": "funded-seattle",
   "metadata": {},
   "outputs": [
    {
     "data": {
      "text/plain": [
       "F-150         2751\n",
       "Grand         2426\n",
       "Silverado     1865\n",
       "Camry         1678\n",
       "RAV4          1670\n",
       "1500          1605\n",
       "Rover         1565\n",
       "Wrangler      1490\n",
       "CR-V          1490\n",
       "Rogue         1430\n",
       "Highlander    1365\n",
       "Explorer      1308\n",
       "Accord        1300\n",
       "Escape        1268\n",
       "Civic         1099\n",
       "Equinox       1076\n",
       "E             1076\n",
       "C             1042\n",
       "Corolla       1041\n",
       "Sierra        1035\n",
       "Name: Car Model, dtype: int64"
      ]
     },
     "execution_count": 50,
     "metadata": {},
     "output_type": "execute_result"
    }
   ],
   "source": [
    "df['Car Model'].value_counts().head(20)"
   ]
  },
  {
   "cell_type": "code",
   "execution_count": 51,
   "id": "round-lighting",
   "metadata": {},
   "outputs": [
    {
     "data": {
      "text/plain": [
       "F-150        2751\n",
       "Grand        2426\n",
       "Silverado    1865\n",
       "Camry        1678\n",
       "RAV4         1670\n",
       "             ... \n",
       "570S            6\n",
       "Gallardo        6\n",
       "M37             6\n",
       "CT4             6\n",
       "SS              6\n",
       "Name: Car Model, Length: 430, dtype: int64"
      ]
     },
     "execution_count": 51,
     "metadata": {},
     "output_type": "execute_result"
    }
   ],
   "source": [
    "other_model = df['Car Model'].value_counts()[df['Car Model'].value_counts() <= 5].index\n",
    "df['Car Model'] = df['Car Model'].replace(other_model, 'Other')\n",
    "df['Car Model'].value_counts()"
   ]
  },
  {
   "cell_type": "code",
   "execution_count": 52,
   "id": "precise-shareware",
   "metadata": {},
   "outputs": [],
   "source": [
    "df['Make'] = df['Name'].apply(make_extractor)"
   ]
  },
  {
   "cell_type": "code",
   "execution_count": 53,
   "id": "healthy-profit",
   "metadata": {
    "scrolled": true
   },
   "outputs": [
    {
     "data": {
      "text/plain": [
       "Ford             10281\n",
       "Toyota            9258\n",
       "Chevrolet         7716\n",
       "Mercedes-Benz     6380\n",
       "BMW               6042\n",
       "Honda             5886\n",
       "Jeep              5869\n",
       "Nissan            4751\n",
       "Lexus             3833\n",
       "Audi              3771\n",
       "GMC               3273\n",
       "Hyundai           3118\n",
       "Volkswagen        2988\n",
       "Subaru            2550\n",
       "Dodge             2510\n",
       "Kia               2383\n",
       "Acura             2326\n",
       "RAM               2076\n",
       "INFINITI          1986\n",
       "Mazda             1944\n",
       "Cadillac          1922\n",
       "Land Rover        1594\n",
       "Lincoln           1206\n",
       "Volvo             1095\n",
       "Buick              973\n",
       "Porsche            907\n",
       "Chrysler           858\n",
       "Alfa Romeo         532\n",
       "Jaguar             526\n",
       "MINI Cooper        452\n",
       "Mitsubishi         446\n",
       "Tesla              392\n",
       "Maserati           309\n",
       "Genesis            271\n",
       "FIAT               146\n",
       "Bentley             73\n",
       "Scion               69\n",
       "Pontiac             51\n",
       "Ferrari             49\n",
       "Lamborghini         40\n",
       "Aston Martin        38\n",
       "Rolls-Royce         31\n",
       "Hummer              23\n",
       "Saturn              22\n",
       "McLaren             19\n",
       "smart               14\n",
       "Mercury             13\n",
       "Suzuki               9\n",
       "Saab                 7\n",
       "Isuzu                1\n",
       "Oldsmobile           1\n",
       "Name: Make, dtype: int64"
      ]
     },
     "execution_count": 53,
     "metadata": {},
     "output_type": "execute_result"
    }
   ],
   "source": [
    "df['Make'].value_counts()"
   ]
  },
  {
   "cell_type": "code",
   "execution_count": 54,
   "id": "arabic-hormone",
   "metadata": {
    "scrolled": true
   },
   "outputs": [
    {
     "data": {
      "text/plain": [
       "Ford             10281\n",
       "Toyota            9258\n",
       "Chevrolet         7716\n",
       "Mercedes-Benz     6380\n",
       "BMW               6042\n",
       "Honda             5886\n",
       "Jeep              5869\n",
       "Nissan            4751\n",
       "Lexus             3833\n",
       "Audi              3771\n",
       "GMC               3273\n",
       "Hyundai           3118\n",
       "Volkswagen        2988\n",
       "Subaru            2550\n",
       "Dodge             2510\n",
       "Kia               2383\n",
       "Acura             2326\n",
       "RAM               2076\n",
       "INFINITI          1986\n",
       "Mazda             1944\n",
       "Cadillac          1922\n",
       "Land Rover        1594\n",
       "Lincoln           1206\n",
       "Volvo             1095\n",
       "Buick              973\n",
       "Porsche            907\n",
       "Chrysler           858\n",
       "Alfa Romeo         532\n",
       "Jaguar             526\n",
       "MINI Cooper        452\n",
       "Mitsubishi         446\n",
       "Tesla              392\n",
       "Maserati           309\n",
       "Genesis            271\n",
       "FIAT               146\n",
       "Bentley             73\n",
       "Scion               69\n",
       "Other               64\n",
       "Pontiac             51\n",
       "Ferrari             49\n",
       "Lamborghini         40\n",
       "Aston Martin        38\n",
       "Rolls-Royce         31\n",
       "Hummer              23\n",
       "Saturn              22\n",
       "Name: Make, dtype: int64"
      ]
     },
     "execution_count": 54,
     "metadata": {},
     "output_type": "execute_result"
    }
   ],
   "source": [
    "other_make = df['Make'].value_counts()[df['Make'].value_counts() <= 20].index\n",
    "df['Make'] = df['Make'].replace(other_make, 'Other')\n",
    "df['Make'].value_counts()"
   ]
  },
  {
   "cell_type": "code",
   "execution_count": null,
   "id": "moral-albert",
   "metadata": {},
   "outputs": [],
   "source": [
    "\n",
    "    "
   ]
  },
  {
   "cell_type": "code",
   "execution_count": 55,
   "id": "trying-physiology",
   "metadata": {},
   "outputs": [],
   "source": [
    "def mileage_to_int(mileage):\n",
    "    \n",
    "    return int(mileage.replace(',',''))\n",
    "\n",
    "def price_to_int(price):\n",
    "    \n",
    "    return int(price.replace('$','').replace(',',''))"
   ]
  },
  {
   "cell_type": "code",
   "execution_count": 56,
   "id": "presidential-belief",
   "metadata": {
    "scrolled": true
   },
   "outputs": [
    {
     "name": "stdout",
     "output_type": "stream",
     "text": [
      "<class 'pandas.core.frame.DataFrame'>\n",
      "Int64Index: 101030 entries, 0 to 101421\n",
      "Data columns (total 18 columns):\n",
      " #   Column          Non-Null Count   Dtype  \n",
      "---  ------          --------------   -----  \n",
      " 0   Name            101030 non-null  object \n",
      " 1   Mileage         101030 non-null  int64  \n",
      " 2   Address         101030 non-null  object \n",
      " 3   Rating          101012 non-null  float64\n",
      " 4   Fuel Type       101030 non-null  object \n",
      " 5   City MPG        101030 non-null  int64  \n",
      " 6   Highway MPG     101030 non-null  int64  \n",
      " 7   Drivetrain      101030 non-null  object \n",
      " 8   Engine          101030 non-null  object \n",
      " 9   Exterior Color  101030 non-null  object \n",
      " 10  Interior Color  101030 non-null  object \n",
      " 11  Transmission    101030 non-null  object \n",
      " 12  Entertainment   101030 non-null  object \n",
      " 13  Safety          101030 non-null  object \n",
      " 14  Price           101030 non-null  int64  \n",
      " 15  Model Year      101030 non-null  int64  \n",
      " 16  Car Model       101030 non-null  object \n",
      " 17  Make            101030 non-null  object \n",
      "dtypes: float64(1), int64(5), object(12)\n",
      "memory usage: 14.6+ MB\n"
     ]
    }
   ],
   "source": [
    "#Converse mileage and price to int\n",
    "\n",
    "df['Mileage'] = df['Mileage'].apply(mileage_to_int)\n",
    "\n",
    "df['Price'] = df['Price'].apply(price_to_int)\n",
    "\n",
    "df.info()"
   ]
  },
  {
   "cell_type": "code",
   "execution_count": 57,
   "id": "focal-advertiser",
   "metadata": {},
   "outputs": [
    {
     "data": {
      "text/plain": [
       "0"
      ]
     },
     "execution_count": 57,
     "metadata": {},
     "output_type": "execute_result"
    }
   ],
   "source": [
    "df.Price.isna().sum()"
   ]
  },
  {
   "cell_type": "code",
   "execution_count": 59,
   "id": "brief-husband",
   "metadata": {},
   "outputs": [
    {
     "data": {
      "text/plain": [
       "count    1.010300e+05\n",
       "mean     2.986343e+04\n",
       "std      1.900575e+04\n",
       "min      1.000000e+03\n",
       "25%      1.959125e+04\n",
       "50%      2.699000e+04\n",
       "75%      3.607800e+04\n",
       "max      1.450000e+06\n",
       "Name: Price, dtype: float64"
      ]
     },
     "execution_count": 59,
     "metadata": {},
     "output_type": "execute_result"
    }
   ],
   "source": [
    "df.Price.describe()"
   ]
  },
  {
   "cell_type": "code",
   "execution_count": 60,
   "id": "lesser-porcelain",
   "metadata": {},
   "outputs": [],
   "source": [
    "def num_ent_fea(entertainment):\n",
    "    \n",
    "    if '-1' in entertainment.lower():\n",
    "        return None\n",
    "    else:\n",
    "        return len(entertainment.split(','))\n",
    "\n",
    "def num_safe_fea(safety):\n",
    "    \n",
    "    if '-1' in safety.lower():\n",
    "        return None\n",
    "    else:\n",
    "        return len(safety.split(','))"
   ]
  },
  {
   "cell_type": "code",
   "execution_count": 61,
   "id": "invalid-recognition",
   "metadata": {},
   "outputs": [],
   "source": [
    "df['Entertainment'] = df['Entertainment'].apply(num_ent_fea)\n",
    "df['Safety'] = df['Safety'].apply(num_safe_fea)"
   ]
  },
  {
   "cell_type": "code",
   "execution_count": 62,
   "id": "reverse-mongolia",
   "metadata": {},
   "outputs": [],
   "source": [
    "df.rename(columns={'Entertainment': 'Num_ent_features', 'Safety': 'Num_safe_features'}, inplace=True)"
   ]
  },
  {
   "cell_type": "code",
   "execution_count": 63,
   "id": "outer-vessel",
   "metadata": {},
   "outputs": [
    {
     "name": "stdout",
     "output_type": "stream",
     "text": [
      "<class 'pandas.core.frame.DataFrame'>\n",
      "Int64Index: 101030 entries, 0 to 101421\n",
      "Data columns (total 18 columns):\n",
      " #   Column             Non-Null Count   Dtype  \n",
      "---  ------             --------------   -----  \n",
      " 0   Name               101030 non-null  object \n",
      " 1   Mileage            101030 non-null  int64  \n",
      " 2   Address            101030 non-null  object \n",
      " 3   Rating             101012 non-null  float64\n",
      " 4   Fuel Type          101030 non-null  object \n",
      " 5   City MPG           101030 non-null  int64  \n",
      " 6   Highway MPG        101030 non-null  int64  \n",
      " 7   Drivetrain         101030 non-null  object \n",
      " 8   Engine             101030 non-null  object \n",
      " 9   Exterior Color     101030 non-null  object \n",
      " 10  Interior Color     101030 non-null  object \n",
      " 11  Transmission       101030 non-null  object \n",
      " 12  Num_ent_features   95868 non-null   float64\n",
      " 13  Num_safe_features  99274 non-null   float64\n",
      " 14  Price              101030 non-null  int64  \n",
      " 15  Model Year         101030 non-null  int64  \n",
      " 16  Car Model          101030 non-null  object \n",
      " 17  Make               101030 non-null  object \n",
      "dtypes: float64(3), int64(5), object(10)\n",
      "memory usage: 14.6+ MB\n"
     ]
    }
   ],
   "source": [
    "df.info()"
   ]
  },
  {
   "cell_type": "code",
   "execution_count": 64,
   "id": "internal-singapore",
   "metadata": {},
   "outputs": [
    {
     "data": {
      "text/html": [
       "<div>\n",
       "<style scoped>\n",
       "    .dataframe tbody tr th:only-of-type {\n",
       "        vertical-align: middle;\n",
       "    }\n",
       "\n",
       "    .dataframe tbody tr th {\n",
       "        vertical-align: top;\n",
       "    }\n",
       "\n",
       "    .dataframe thead th {\n",
       "        text-align: right;\n",
       "    }\n",
       "</style>\n",
       "<table border=\"1\" class=\"dataframe\">\n",
       "  <thead>\n",
       "    <tr style=\"text-align: right;\">\n",
       "      <th></th>\n",
       "      <th>Name</th>\n",
       "      <th>Mileage</th>\n",
       "      <th>Address</th>\n",
       "      <th>Rating</th>\n",
       "      <th>Fuel Type</th>\n",
       "      <th>City MPG</th>\n",
       "      <th>Highway MPG</th>\n",
       "      <th>Drivetrain</th>\n",
       "      <th>Engine</th>\n",
       "      <th>Exterior Color</th>\n",
       "      <th>Interior Color</th>\n",
       "      <th>Transmission</th>\n",
       "      <th>Num_ent_features</th>\n",
       "      <th>Num_safe_features</th>\n",
       "      <th>Price</th>\n",
       "      <th>Model Year</th>\n",
       "      <th>Car Model</th>\n",
       "      <th>Make</th>\n",
       "    </tr>\n",
       "  </thead>\n",
       "  <tbody>\n",
       "    <tr>\n",
       "      <th>0</th>\n",
       "      <td>2020 BMW 330 i xDrive</td>\n",
       "      <td>24371</td>\n",
       "      <td>Brooklyn, NY 11203</td>\n",
       "      <td>3.5</td>\n",
       "      <td>Gasoline</td>\n",
       "      <td>25</td>\n",
       "      <td>34</td>\n",
       "      <td>AWD</td>\n",
       "      <td>2.0L I4 16V GDI DOHC Turbo</td>\n",
       "      <td>Jet Black</td>\n",
       "      <td>Black</td>\n",
       "      <td>8-Speed Automatic</td>\n",
       "      <td>2.0</td>\n",
       "      <td>5.0</td>\n",
       "      <td>29893</td>\n",
       "      <td>2020</td>\n",
       "      <td>330</td>\n",
       "      <td>BMW</td>\n",
       "    </tr>\n",
       "    <tr>\n",
       "      <th>1</th>\n",
       "      <td>2015 Audi A6 2.0T Premium Plus</td>\n",
       "      <td>89351</td>\n",
       "      <td>Brooklyn, NY 11207</td>\n",
       "      <td>2.2</td>\n",
       "      <td>Gasoline</td>\n",
       "      <td>20</td>\n",
       "      <td>29</td>\n",
       "      <td>AWD</td>\n",
       "      <td>2.0L I4 16V GDI DOHC Turbo</td>\n",
       "      <td>Gray</td>\n",
       "      <td>-1</td>\n",
       "      <td>8-Speed Automatic</td>\n",
       "      <td>2.0</td>\n",
       "      <td>2.0</td>\n",
       "      <td>16995</td>\n",
       "      <td>2015</td>\n",
       "      <td>A6</td>\n",
       "      <td>Audi</td>\n",
       "    </tr>\n",
       "    <tr>\n",
       "      <th>2</th>\n",
       "      <td>2018 Toyota RAV4 Limited</td>\n",
       "      <td>11863</td>\n",
       "      <td>Brooklyn, NY 11210</td>\n",
       "      <td>3.5</td>\n",
       "      <td>Gasoline</td>\n",
       "      <td>22</td>\n",
       "      <td>28</td>\n",
       "      <td>AWD</td>\n",
       "      <td>2.5L I4 16V MPFI DOHC</td>\n",
       "      <td>Black</td>\n",
       "      <td>Black</td>\n",
       "      <td>6-Speed Automatic</td>\n",
       "      <td>2.0</td>\n",
       "      <td>6.0</td>\n",
       "      <td>26225</td>\n",
       "      <td>2018</td>\n",
       "      <td>RAV4</td>\n",
       "      <td>Toyota</td>\n",
       "    </tr>\n",
       "    <tr>\n",
       "      <th>3</th>\n",
       "      <td>2018 Toyota RAV4 Limited</td>\n",
       "      <td>17501</td>\n",
       "      <td>Brooklyn, NY 11210</td>\n",
       "      <td>3.5</td>\n",
       "      <td>Gasoline</td>\n",
       "      <td>22</td>\n",
       "      <td>28</td>\n",
       "      <td>AWD</td>\n",
       "      <td>2.5L I4 16V MPFI DOHC</td>\n",
       "      <td>Gray</td>\n",
       "      <td>-1</td>\n",
       "      <td>6-Speed Automatic</td>\n",
       "      <td>2.0</td>\n",
       "      <td>6.0</td>\n",
       "      <td>25903</td>\n",
       "      <td>2018</td>\n",
       "      <td>RAV4</td>\n",
       "      <td>Toyota</td>\n",
       "    </tr>\n",
       "    <tr>\n",
       "      <th>4</th>\n",
       "      <td>2019 Honda CR-V EX-L</td>\n",
       "      <td>19241</td>\n",
       "      <td>Brooklyn, NY 11210</td>\n",
       "      <td>3.5</td>\n",
       "      <td>Gasoline</td>\n",
       "      <td>27</td>\n",
       "      <td>33</td>\n",
       "      <td>AWD</td>\n",
       "      <td>1.5L I4 16V GDI DOHC Turbo</td>\n",
       "      <td>Gray</td>\n",
       "      <td>-1</td>\n",
       "      <td>Automatic CVT</td>\n",
       "      <td>2.0</td>\n",
       "      <td>6.0</td>\n",
       "      <td>28145</td>\n",
       "      <td>2019</td>\n",
       "      <td>CR-V</td>\n",
       "      <td>Honda</td>\n",
       "    </tr>\n",
       "  </tbody>\n",
       "</table>\n",
       "</div>"
      ],
      "text/plain": [
       "                              Name  Mileage             Address  Rating  \\\n",
       "0            2020 BMW 330 i xDrive    24371  Brooklyn, NY 11203     3.5   \n",
       "1   2015 Audi A6 2.0T Premium Plus    89351  Brooklyn, NY 11207     2.2   \n",
       "2         2018 Toyota RAV4 Limited    11863  Brooklyn, NY 11210     3.5   \n",
       "3         2018 Toyota RAV4 Limited    17501  Brooklyn, NY 11210     3.5   \n",
       "4             2019 Honda CR-V EX-L    19241  Brooklyn, NY 11210     3.5   \n",
       "\n",
       "   Fuel Type  City MPG  Highway MPG Drivetrain                       Engine  \\\n",
       "0   Gasoline        25           34        AWD   2.0L I4 16V GDI DOHC Turbo   \n",
       "1   Gasoline        20           29        AWD   2.0L I4 16V GDI DOHC Turbo   \n",
       "2   Gasoline        22           28        AWD        2.5L I4 16V MPFI DOHC   \n",
       "3   Gasoline        22           28        AWD        2.5L I4 16V MPFI DOHC   \n",
       "4   Gasoline        27           33        AWD   1.5L I4 16V GDI DOHC Turbo   \n",
       "\n",
       "  Exterior Color Interior Color        Transmission  Num_ent_features  \\\n",
       "0      Jet Black          Black   8-Speed Automatic               2.0   \n",
       "1           Gray             -1   8-Speed Automatic               2.0   \n",
       "2          Black          Black   6-Speed Automatic               2.0   \n",
       "3           Gray             -1   6-Speed Automatic               2.0   \n",
       "4           Gray             -1       Automatic CVT               2.0   \n",
       "\n",
       "   Num_safe_features  Price  Model Year Car Model    Make  \n",
       "0                5.0  29893        2020       330     BMW  \n",
       "1                2.0  16995        2015        A6    Audi  \n",
       "2                6.0  26225        2018      RAV4  Toyota  \n",
       "3                6.0  25903        2018      RAV4  Toyota  \n",
       "4                6.0  28145        2019      CR-V   Honda  "
      ]
     },
     "execution_count": 64,
     "metadata": {},
     "output_type": "execute_result"
    }
   ],
   "source": [
    "df.head()"
   ]
  },
  {
   "cell_type": "code",
   "execution_count": 65,
   "id": "confident-pound",
   "metadata": {},
   "outputs": [
    {
     "data": {
      "text/html": [
       "<div>\n",
       "<style scoped>\n",
       "    .dataframe tbody tr th:only-of-type {\n",
       "        vertical-align: middle;\n",
       "    }\n",
       "\n",
       "    .dataframe tbody tr th {\n",
       "        vertical-align: top;\n",
       "    }\n",
       "\n",
       "    .dataframe thead th {\n",
       "        text-align: right;\n",
       "    }\n",
       "</style>\n",
       "<table border=\"1\" class=\"dataframe\">\n",
       "  <thead>\n",
       "    <tr style=\"text-align: right;\">\n",
       "      <th></th>\n",
       "      <th>Mileage</th>\n",
       "      <th>Rating</th>\n",
       "      <th>City MPG</th>\n",
       "      <th>Highway MPG</th>\n",
       "      <th>Num_ent_features</th>\n",
       "      <th>Num_safe_features</th>\n",
       "      <th>Price</th>\n",
       "      <th>Model Year</th>\n",
       "    </tr>\n",
       "  </thead>\n",
       "  <tbody>\n",
       "    <tr>\n",
       "      <th>count</th>\n",
       "      <td>101030.000000</td>\n",
       "      <td>101012.00000</td>\n",
       "      <td>101030.000000</td>\n",
       "      <td>101030.000000</td>\n",
       "      <td>95868.000000</td>\n",
       "      <td>99274.000000</td>\n",
       "      <td>1.010300e+05</td>\n",
       "      <td>101030.000000</td>\n",
       "    </tr>\n",
       "    <tr>\n",
       "      <th>mean</th>\n",
       "      <td>40763.945125</td>\n",
       "      <td>4.26106</td>\n",
       "      <td>21.124894</td>\n",
       "      <td>29.420974</td>\n",
       "      <td>1.809279</td>\n",
       "      <td>3.628543</td>\n",
       "      <td>2.986343e+04</td>\n",
       "      <td>2017.358488</td>\n",
       "    </tr>\n",
       "    <tr>\n",
       "      <th>std</th>\n",
       "      <td>35601.424603</td>\n",
       "      <td>0.74488</td>\n",
       "      <td>12.194715</td>\n",
       "      <td>24.801680</td>\n",
       "      <td>0.714060</td>\n",
       "      <td>1.369554</td>\n",
       "      <td>1.900575e+04</td>\n",
       "      <td>2.944108</td>\n",
       "    </tr>\n",
       "    <tr>\n",
       "      <th>min</th>\n",
       "      <td>1.000000</td>\n",
       "      <td>1.00000</td>\n",
       "      <td>-1.000000</td>\n",
       "      <td>-1.000000</td>\n",
       "      <td>1.000000</td>\n",
       "      <td>1.000000</td>\n",
       "      <td>1.000000e+03</td>\n",
       "      <td>2001.000000</td>\n",
       "    </tr>\n",
       "    <tr>\n",
       "      <th>25%</th>\n",
       "      <td>18627.250000</td>\n",
       "      <td>4.10000</td>\n",
       "      <td>17.000000</td>\n",
       "      <td>24.000000</td>\n",
       "      <td>1.000000</td>\n",
       "      <td>3.000000</td>\n",
       "      <td>1.959125e+04</td>\n",
       "      <td>2017.000000</td>\n",
       "    </tr>\n",
       "    <tr>\n",
       "      <th>50%</th>\n",
       "      <td>31239.000000</td>\n",
       "      <td>4.50000</td>\n",
       "      <td>20.000000</td>\n",
       "      <td>28.000000</td>\n",
       "      <td>2.000000</td>\n",
       "      <td>3.000000</td>\n",
       "      <td>2.699000e+04</td>\n",
       "      <td>2018.000000</td>\n",
       "    </tr>\n",
       "    <tr>\n",
       "      <th>75%</th>\n",
       "      <td>50083.000000</td>\n",
       "      <td>4.80000</td>\n",
       "      <td>24.000000</td>\n",
       "      <td>32.000000</td>\n",
       "      <td>2.000000</td>\n",
       "      <td>5.000000</td>\n",
       "      <td>3.607800e+04</td>\n",
       "      <td>2019.000000</td>\n",
       "    </tr>\n",
       "    <tr>\n",
       "      <th>max</th>\n",
       "      <td>533752.000000</td>\n",
       "      <td>5.00000</td>\n",
       "      <td>224.000000</td>\n",
       "      <td>414.000000</td>\n",
       "      <td>4.000000</td>\n",
       "      <td>7.000000</td>\n",
       "      <td>1.450000e+06</td>\n",
       "      <td>2022.000000</td>\n",
       "    </tr>\n",
       "  </tbody>\n",
       "</table>\n",
       "</div>"
      ],
      "text/plain": [
       "             Mileage        Rating       City MPG    Highway MPG  \\\n",
       "count  101030.000000  101012.00000  101030.000000  101030.000000   \n",
       "mean    40763.945125       4.26106      21.124894      29.420974   \n",
       "std     35601.424603       0.74488      12.194715      24.801680   \n",
       "min         1.000000       1.00000      -1.000000      -1.000000   \n",
       "25%     18627.250000       4.10000      17.000000      24.000000   \n",
       "50%     31239.000000       4.50000      20.000000      28.000000   \n",
       "75%     50083.000000       4.80000      24.000000      32.000000   \n",
       "max    533752.000000       5.00000     224.000000     414.000000   \n",
       "\n",
       "       Num_ent_features  Num_safe_features         Price     Model Year  \n",
       "count      95868.000000       99274.000000  1.010300e+05  101030.000000  \n",
       "mean           1.809279           3.628543  2.986343e+04    2017.358488  \n",
       "std            0.714060           1.369554  1.900575e+04       2.944108  \n",
       "min            1.000000           1.000000  1.000000e+03    2001.000000  \n",
       "25%            1.000000           3.000000  1.959125e+04    2017.000000  \n",
       "50%            2.000000           3.000000  2.699000e+04    2018.000000  \n",
       "75%            2.000000           5.000000  3.607800e+04    2019.000000  \n",
       "max            4.000000           7.000000  1.450000e+06    2022.000000  "
      ]
     },
     "execution_count": 65,
     "metadata": {},
     "output_type": "execute_result"
    }
   ],
   "source": [
    "df.describe()"
   ]
  },
  {
   "cell_type": "code",
   "execution_count": 66,
   "id": "digital-prerequisite",
   "metadata": {},
   "outputs": [],
   "source": [
    "def define_transmission(transmission):\n",
    "    \n",
    "    if 'automatic' in transmission.lower():\n",
    "        return 'Automatic'\n",
    "    \n",
    "    elif 'manual' in transmission.lower():\n",
    "        return 'Manual'\n",
    "    \n",
    "    else:\n",
    "        return None"
   ]
  },
  {
   "cell_type": "code",
   "execution_count": 67,
   "id": "greek-mortality",
   "metadata": {},
   "outputs": [],
   "source": [
    "df['Transmission'] = df['Transmission'].apply(define_transmission)"
   ]
  },
  {
   "cell_type": "code",
   "execution_count": 68,
   "id": "revised-tower",
   "metadata": {},
   "outputs": [
    {
     "data": {
      "text/plain": [
       "Automatic    97639\n",
       "Manual        1963\n",
       "Name: Transmission, dtype: int64"
      ]
     },
     "execution_count": 68,
     "metadata": {},
     "output_type": "execute_result"
    }
   ],
   "source": [
    "df['Transmission'].value_counts()"
   ]
  },
  {
   "cell_type": "code",
   "execution_count": 69,
   "id": "specified-journalism",
   "metadata": {},
   "outputs": [
    {
     "data": {
      "text/plain": [
       "1428"
      ]
     },
     "execution_count": 69,
     "metadata": {},
     "output_type": "execute_result"
    }
   ],
   "source": [
    "df['Transmission'].isna().sum()"
   ]
  },
  {
   "cell_type": "code",
   "execution_count": 70,
   "id": "charming-tongue",
   "metadata": {},
   "outputs": [
    {
     "data": {
      "text/html": [
       "<div>\n",
       "<style scoped>\n",
       "    .dataframe tbody tr th:only-of-type {\n",
       "        vertical-align: middle;\n",
       "    }\n",
       "\n",
       "    .dataframe tbody tr th {\n",
       "        vertical-align: top;\n",
       "    }\n",
       "\n",
       "    .dataframe thead th {\n",
       "        text-align: right;\n",
       "    }\n",
       "</style>\n",
       "<table border=\"1\" class=\"dataframe\">\n",
       "  <thead>\n",
       "    <tr style=\"text-align: right;\">\n",
       "      <th></th>\n",
       "      <th>Name</th>\n",
       "      <th>Mileage</th>\n",
       "      <th>Address</th>\n",
       "      <th>Rating</th>\n",
       "      <th>Fuel Type</th>\n",
       "      <th>City MPG</th>\n",
       "      <th>Highway MPG</th>\n",
       "      <th>Drivetrain</th>\n",
       "      <th>Engine</th>\n",
       "      <th>Exterior Color</th>\n",
       "      <th>Interior Color</th>\n",
       "      <th>Transmission</th>\n",
       "      <th>Num_ent_features</th>\n",
       "      <th>Num_safe_features</th>\n",
       "      <th>Price</th>\n",
       "      <th>Model Year</th>\n",
       "      <th>Car Model</th>\n",
       "      <th>Make</th>\n",
       "    </tr>\n",
       "  </thead>\n",
       "  <tbody>\n",
       "    <tr>\n",
       "      <th>0</th>\n",
       "      <td>2020 BMW 330 i xDrive</td>\n",
       "      <td>24371</td>\n",
       "      <td>Brooklyn, NY 11203</td>\n",
       "      <td>3.5</td>\n",
       "      <td>Gasoline</td>\n",
       "      <td>25</td>\n",
       "      <td>34</td>\n",
       "      <td>AWD</td>\n",
       "      <td>2.0L I4 16V GDI DOHC Turbo</td>\n",
       "      <td>Jet Black</td>\n",
       "      <td>Black</td>\n",
       "      <td>Automatic</td>\n",
       "      <td>2.0</td>\n",
       "      <td>5.0</td>\n",
       "      <td>29893</td>\n",
       "      <td>2020</td>\n",
       "      <td>330</td>\n",
       "      <td>BMW</td>\n",
       "    </tr>\n",
       "    <tr>\n",
       "      <th>1</th>\n",
       "      <td>2015 Audi A6 2.0T Premium Plus</td>\n",
       "      <td>89351</td>\n",
       "      <td>Brooklyn, NY 11207</td>\n",
       "      <td>2.2</td>\n",
       "      <td>Gasoline</td>\n",
       "      <td>20</td>\n",
       "      <td>29</td>\n",
       "      <td>AWD</td>\n",
       "      <td>2.0L I4 16V GDI DOHC Turbo</td>\n",
       "      <td>Gray</td>\n",
       "      <td>-1</td>\n",
       "      <td>Automatic</td>\n",
       "      <td>2.0</td>\n",
       "      <td>2.0</td>\n",
       "      <td>16995</td>\n",
       "      <td>2015</td>\n",
       "      <td>A6</td>\n",
       "      <td>Audi</td>\n",
       "    </tr>\n",
       "    <tr>\n",
       "      <th>2</th>\n",
       "      <td>2018 Toyota RAV4 Limited</td>\n",
       "      <td>11863</td>\n",
       "      <td>Brooklyn, NY 11210</td>\n",
       "      <td>3.5</td>\n",
       "      <td>Gasoline</td>\n",
       "      <td>22</td>\n",
       "      <td>28</td>\n",
       "      <td>AWD</td>\n",
       "      <td>2.5L I4 16V MPFI DOHC</td>\n",
       "      <td>Black</td>\n",
       "      <td>Black</td>\n",
       "      <td>Automatic</td>\n",
       "      <td>2.0</td>\n",
       "      <td>6.0</td>\n",
       "      <td>26225</td>\n",
       "      <td>2018</td>\n",
       "      <td>RAV4</td>\n",
       "      <td>Toyota</td>\n",
       "    </tr>\n",
       "    <tr>\n",
       "      <th>3</th>\n",
       "      <td>2018 Toyota RAV4 Limited</td>\n",
       "      <td>17501</td>\n",
       "      <td>Brooklyn, NY 11210</td>\n",
       "      <td>3.5</td>\n",
       "      <td>Gasoline</td>\n",
       "      <td>22</td>\n",
       "      <td>28</td>\n",
       "      <td>AWD</td>\n",
       "      <td>2.5L I4 16V MPFI DOHC</td>\n",
       "      <td>Gray</td>\n",
       "      <td>-1</td>\n",
       "      <td>Automatic</td>\n",
       "      <td>2.0</td>\n",
       "      <td>6.0</td>\n",
       "      <td>25903</td>\n",
       "      <td>2018</td>\n",
       "      <td>RAV4</td>\n",
       "      <td>Toyota</td>\n",
       "    </tr>\n",
       "    <tr>\n",
       "      <th>4</th>\n",
       "      <td>2019 Honda CR-V EX-L</td>\n",
       "      <td>19241</td>\n",
       "      <td>Brooklyn, NY 11210</td>\n",
       "      <td>3.5</td>\n",
       "      <td>Gasoline</td>\n",
       "      <td>27</td>\n",
       "      <td>33</td>\n",
       "      <td>AWD</td>\n",
       "      <td>1.5L I4 16V GDI DOHC Turbo</td>\n",
       "      <td>Gray</td>\n",
       "      <td>-1</td>\n",
       "      <td>Automatic</td>\n",
       "      <td>2.0</td>\n",
       "      <td>6.0</td>\n",
       "      <td>28145</td>\n",
       "      <td>2019</td>\n",
       "      <td>CR-V</td>\n",
       "      <td>Honda</td>\n",
       "    </tr>\n",
       "  </tbody>\n",
       "</table>\n",
       "</div>"
      ],
      "text/plain": [
       "                              Name  Mileage             Address  Rating  \\\n",
       "0            2020 BMW 330 i xDrive    24371  Brooklyn, NY 11203     3.5   \n",
       "1   2015 Audi A6 2.0T Premium Plus    89351  Brooklyn, NY 11207     2.2   \n",
       "2         2018 Toyota RAV4 Limited    11863  Brooklyn, NY 11210     3.5   \n",
       "3         2018 Toyota RAV4 Limited    17501  Brooklyn, NY 11210     3.5   \n",
       "4             2019 Honda CR-V EX-L    19241  Brooklyn, NY 11210     3.5   \n",
       "\n",
       "   Fuel Type  City MPG  Highway MPG Drivetrain                       Engine  \\\n",
       "0   Gasoline        25           34        AWD   2.0L I4 16V GDI DOHC Turbo   \n",
       "1   Gasoline        20           29        AWD   2.0L I4 16V GDI DOHC Turbo   \n",
       "2   Gasoline        22           28        AWD        2.5L I4 16V MPFI DOHC   \n",
       "3   Gasoline        22           28        AWD        2.5L I4 16V MPFI DOHC   \n",
       "4   Gasoline        27           33        AWD   1.5L I4 16V GDI DOHC Turbo   \n",
       "\n",
       "  Exterior Color Interior Color Transmission  Num_ent_features  \\\n",
       "0      Jet Black          Black    Automatic               2.0   \n",
       "1           Gray             -1    Automatic               2.0   \n",
       "2          Black          Black    Automatic               2.0   \n",
       "3           Gray             -1    Automatic               2.0   \n",
       "4           Gray             -1    Automatic               2.0   \n",
       "\n",
       "   Num_safe_features  Price  Model Year Car Model    Make  \n",
       "0                5.0  29893        2020       330     BMW  \n",
       "1                2.0  16995        2015        A6    Audi  \n",
       "2                6.0  26225        2018      RAV4  Toyota  \n",
       "3                6.0  25903        2018      RAV4  Toyota  \n",
       "4                6.0  28145        2019      CR-V   Honda  "
      ]
     },
     "execution_count": 70,
     "metadata": {},
     "output_type": "execute_result"
    }
   ],
   "source": [
    "df.head()"
   ]
  },
  {
   "cell_type": "code",
   "execution_count": 71,
   "id": "orange-height",
   "metadata": {},
   "outputs": [
    {
     "data": {
      "text/plain": [
       " 2.0L I4 16V GDI DOHC Turbo                          12504\n",
       " 1.5L I4 16V GDI DOHC Turbo                           4259\n",
       " 3.6L V6 24V MPFI DOHC                                4237\n",
       " 3.6L V6 24V GDI DOHC                                 3215\n",
       " 3.5L V6 24V MPFI DOHC                                2910\n",
       " 5.3L V8 16V GDI OHV                                  2863\n",
       " 2.4L I4 16V GDI DOHC                                 2753\n",
       " 2.5L I4 16V MPFI DOHC                                2732\n",
       " 2.0L I4 16V MPFI DOHC                                2051\n",
       " 3.5L V6 24V PDI DOHC                                 2015\n",
       " 3.5L V6 24V GDI SOHC                                 1900\n",
       " 3.5L V6 24V GDI DOHC                                 1893\n",
       " 3.0L V6 24V GDI DOHC Twin Turbo                      1847\n",
       " 2.5L I4 16V GDI DOHC                                 1681\n",
       " 5.7L V8 16V MPFI OHV                                 1584\n",
       " 2.5L I4 16V PDI DOHC                                 1501\n",
       " 1.8L I4 16V MPFI DOHC                                1457\n",
       " 2.0L I4 16V GDI DOHC                                 1432\n",
       " 2.4L I4 16V MPFI SOHC                                1402\n",
       " 3.0L I6 24V GDI DOHC Turbo                           1374\n",
       " Electric                                             1123\n",
       " Intercooled Turbo Premium Unleaded I-4 2.0 L/122     1060\n",
       " 6.2L V8 16V GDI OHV                                  1041\n",
       " Intercooled Turbo Premium Unleaded I-4 2.0 L/121     1006\n",
       " 3.5L V6 24V GDI DOHC Twin Turbo                       954\n",
       " 3.0L V6 24V GDI DOHC Supercharged                     883\n",
       " 2.0L I4 16V PDI DOHC Turbo                            882\n",
       " 1.4L I4 16V GDI DOHC Turbo                            828\n",
       " 3.5L V6 24V MPFI SOHC                                 810\n",
       " 2.5L H4 16V MPFI DOHC                                 790\n",
       " 4.0L V6 24V MPFI DOHC                                 760\n",
       " 3.7L V6 24V MPFI DOHC                                 716\n",
       " 2.4L I4 16V MPFI DOHC                                 693\n",
       " 1.4L I4 16V MPFI DOHC Turbo                           666\n",
       " 5.6L V8 32V GDI DOHC                                  661\n",
       " 3.5L V6 24V PDI DOHC Twin Turbo                       657\n",
       " 2.3L I4 16V GDI DOHC Turbo                            627\n",
       " Regular Unleaded V-6 3.6 L/220                        623\n",
       " 3.0L V6 24V GDI DOHC Turbo                            572\n",
       " 2.0L H4 16V GDI DOHC                                  572\n",
       " 3.6L V6 24V MPFI DOHC Flexible Fuel                   555\n",
       " 1.6L I4 16V GDI DOHC Turbo                            528\n",
       " 5.0L V8 32V PDI DOHC                                  511\n",
       " 2.7L V6 24V PDI DOHC Twin Turbo                       502\n",
       " 5.7L V8 32V MPFI DOHC                                 500\n",
       " 1.6L I4 16V MPFI DOHC                                 475\n",
       " 1.8L I4 16V MPFI DOHC Hybrid                          450\n",
       " Regular Unleaded I-4 2.5 L/152                        445\n",
       " 3.2L V6 24V MPFI DOHC                                 443\n",
       " 1.8L I4 16V MPFI SOHC                                 431\n",
       "Name: Engine, dtype: int64"
      ]
     },
     "execution_count": 71,
     "metadata": {},
     "output_type": "execute_result"
    }
   ],
   "source": [
    "df.Engine.value_counts().head(50)"
   ]
  },
  {
   "cell_type": "code",
   "execution_count": 72,
   "id": "finite-least",
   "metadata": {},
   "outputs": [],
   "source": [
    "def define_engine(engine):\n",
    "    \n",
    "    if '-1' in engine.lower():\n",
    "        return None\n",
    "    \n",
    "    elif 'intercooled' in engine.lower() or 'regular' in engine.lower() or 'electric' in engine.lower():\n",
    "        return engine.strip()\n",
    "    \n",
    "    else:\n",
    "        return engine.strip().split(' ')[0]"
   ]
  },
  {
   "cell_type": "code",
   "execution_count": 73,
   "id": "black-sugar",
   "metadata": {},
   "outputs": [],
   "source": [
    "df['Engine'] = df['Engine'].apply(define_engine)"
   ]
  },
  {
   "cell_type": "code",
   "execution_count": 74,
   "id": "interior-kitty",
   "metadata": {
    "scrolled": true
   },
   "outputs": [
    {
     "data": {
      "text/plain": [
       "2.0L                                                       20223\n",
       "3.5L                                                       11778\n",
       "2.5L                                                        8682\n",
       "3.6L                                                        8412\n",
       "3.0L                                                        5573\n",
       "2.4L                                                        5134\n",
       "1.5L                                                        5007\n",
       "Other                                                       3213\n",
       "5.3L                                                        3179\n",
       "1.8L                                                        2614\n",
       "5.7L                                                        2134\n",
       "1.4L                                                        1685\n",
       "6.2L                                                        1501\n",
       "1.6L                                                        1383\n",
       "4.0L                                                        1240\n",
       "5.0L                                                        1165\n",
       "Electric                                                    1123\n",
       "Intercooled Turbo Premium Unleaded I-4 2.0 L/122            1060\n",
       "Intercooled Turbo Premium Unleaded I-4 2.0 L/121            1006\n",
       "2.7L                                                         993\n",
       "3.7L                                                         916\n",
       "Gas                                                          883\n",
       "6.7L                                                         700\n",
       "2.3L                                                         699\n",
       "5.6L                                                         696\n",
       "Regular Unleaded V-6 3.6 L/220                               623\n",
       "4.6L                                                         584\n",
       "Premium                                                      582\n",
       "3.8L                                                         581\n",
       "3.3L                                                         562\n",
       "3.2L                                                         522\n",
       "4.7L                                                         505\n",
       "Twin                                                         473\n",
       "4.4L                                                         453\n",
       "Regular Unleaded I-4 2.5 L/152                               445\n",
       "Regular Unleaded V-6 3.5 L/211                               399\n",
       "6.6L                                                         362\n",
       "6.4L                                                         353\n",
       "Intercooled Supercharger Premium Unleaded V-6 3.0 L/183      304\n",
       "6.0L                                                         277\n",
       "I4                                                           265\n",
       "4.3L                                                         249\n",
       "Intercooled Turbo Premium Unleaded I-6 3.0 L/183             239\n",
       "Regular Unleaded V-8 5.7 L/345                               237\n",
       "Turbocharged                                                 227\n",
       "Regular Unleaded I-4 2.4 L/144                               223\n",
       "Regular Unleaded V-6 3.5 L/212                               190\n",
       "V6                                                           184\n",
       "Intercooled Turbo Regular Unleaded I-4 1.5 L/91              173\n",
       "5.5L                                                         168\n",
       "5.4L                                                         164\n",
       "Gas/Ethanol                                                  156\n",
       "5.2L                                                         136\n",
       "Regular Unleaded V-6 4.0 L/241                               118\n",
       "Regular Unleaded H-4 2.5 L/152                               110\n",
       "Intercooled Turbo Regular Unleaded I-4 2.0 L/121             109\n",
       "Name: Engine, dtype: int64"
      ]
     },
     "execution_count": 74,
     "metadata": {},
     "output_type": "execute_result"
    }
   ],
   "source": [
    "other_engine = df['Engine'].value_counts()[df['Engine'].value_counts() <= df.shape[0]*0.001].index\n",
    "df['Engine'] = df['Engine'].replace(other_engine, 'Other')\n",
    "df['Engine'].value_counts()"
   ]
  },
  {
   "cell_type": "code",
   "execution_count": 75,
   "id": "split-round",
   "metadata": {},
   "outputs": [
    {
     "data": {
      "text/plain": [
       "58"
      ]
     },
     "execution_count": 75,
     "metadata": {},
     "output_type": "execute_result"
    }
   ],
   "source": [
    "df.Engine.isna().sum()"
   ]
  },
  {
   "cell_type": "code",
   "execution_count": 76,
   "id": "double-radiation",
   "metadata": {
    "scrolled": false
   },
   "outputs": [
    {
     "data": {
      "text/plain": [
       " Black                                 8915\n",
       " White                                 6540\n",
       " Gray                                  4056\n",
       " Silver                                2985\n",
       " Blue                                  2014\n",
       " Summit White                          1964\n",
       " Bright White Clearcoat                1416\n",
       " Red                                   1346\n",
       " Granite Crystal Clearcoat Metallic    1117\n",
       " Oxford White                          1075\n",
       "-1                                     1020\n",
       " Crystal Black Pearl                   1017\n",
       " Gun Metallic                           971\n",
       " Polar White                            928\n",
       " Super White                            887\n",
       " Alpine White                           882\n",
       " Diamond Black                          852\n",
       " Silver Ice Metallic                    841\n",
       " Shadow Black                           836\n",
       " Modern Steel Metallic                  776\n",
       " Billet Silver Metallic Clearcoat       698\n",
       " Black Sapphire Metallic                671\n",
       " Midnight Black Metallic                625\n",
       " Magnetic Metallic                      610\n",
       " Pure White                             595\n",
       " Magnetic Gray Metallic                 575\n",
       " Jet Black                              566\n",
       " Lunar Silver Metallic                  532\n",
       " Black Clearcoat                        476\n",
       " Deep Black Pearl Effect                466\n",
       "Name: Exterior Color, dtype: int64"
      ]
     },
     "execution_count": 76,
     "metadata": {},
     "output_type": "execute_result"
    }
   ],
   "source": [
    "df['Exterior Color'].value_counts().head(30)"
   ]
  },
  {
   "cell_type": "code",
   "execution_count": 77,
   "id": "lesser-nutrition",
   "metadata": {},
   "outputs": [],
   "source": [
    "def define_exterior_color(exterior_color):\n",
    "    \n",
    "    if 'black' in exterior_color.lower():\n",
    "        return 'Black'\n",
    "    \n",
    "    elif 'white' in exterior_color.lower():\n",
    "        return 'White'\n",
    "    \n",
    "    elif 'gray' in exterior_color.lower():\n",
    "        return 'Gray'\n",
    "    \n",
    "    elif 'silver' in exterior_color.lower():\n",
    "        return 'Silver'\n",
    "    \n",
    "    elif 'blue' in exterior_color.lower():\n",
    "        return 'Blue'\n",
    "    \n",
    "    elif 'red' in exterior_color.lower():\n",
    "        return 'Red'\n",
    "    \n",
    "    elif 'metallic' in exterior_color.lower():\n",
    "        return 'Metallic'\n",
    "    \n",
    "    elif '-1' in exterior_color.lower():\n",
    "        return np.nan\n",
    "    \n",
    "    else:\n",
    "        return 'Other'"
   ]
  },
  {
   "cell_type": "code",
   "execution_count": 78,
   "id": "reliable-hayes",
   "metadata": {},
   "outputs": [],
   "source": [
    "df['Exterior Color'] = df['Exterior Color'].apply(define_exterior_color)"
   ]
  },
  {
   "cell_type": "code",
   "execution_count": 79,
   "id": "moving-spice",
   "metadata": {},
   "outputs": [
    {
     "data": {
      "text/plain": [
       "Black       23581\n",
       "White       22873\n",
       "Silver      12432\n",
       "Gray        10525\n",
       "Blue         8672\n",
       "Other        8145\n",
       "Metallic     7650\n",
       "Red          6132\n",
       "Name: Exterior Color, dtype: int64"
      ]
     },
     "execution_count": 79,
     "metadata": {},
     "output_type": "execute_result"
    }
   ],
   "source": [
    "df['Exterior Color'].value_counts()"
   ]
  },
  {
   "cell_type": "code",
   "execution_count": 80,
   "id": "accurate-cassette",
   "metadata": {},
   "outputs": [
    {
     "data": {
      "text/plain": [
       "1020"
      ]
     },
     "execution_count": 80,
     "metadata": {},
     "output_type": "execute_result"
    }
   ],
   "source": [
    "df['Exterior Color'].isna().sum()"
   ]
  },
  {
   "cell_type": "code",
   "execution_count": 81,
   "id": "japanese-flavor",
   "metadata": {},
   "outputs": [
    {
     "data": {
      "text/plain": [
       " Black                  37241\n",
       "-1                      12750\n",
       " Gray                    6000\n",
       " Jet Black               5803\n",
       " Ebony                   4281\n",
       " Charcoal                3082\n",
       " Beige                   2134\n",
       " Graphite                1930\n",
       " Charcoal Black          1302\n",
       " Titan Black             1259\n",
       " Ash                      968\n",
       " Ivory                    691\n",
       " Tan                      688\n",
       " Parchment                675\n",
       " Brown                    621\n",
       " Ebony Black              588\n",
       " Medium Earth Gray        567\n",
       " Red                      528\n",
       " Light Gray               357\n",
       " Sport                    351\n",
       " Diesel Gray / Black      347\n",
       " Mocha                    326\n",
       " Medium Ash Gray          289\n",
       " Ebony / Ebony            277\n",
       " Carbon Black             272\n",
       " Almond                   272\n",
       " Medium Light Stone       263\n",
       " Cocoa / Dune             255\n",
       " Black / Red              251\n",
       " Silk Beige / Black       244\n",
       "Name: Interior Color, dtype: int64"
      ]
     },
     "execution_count": 81,
     "metadata": {},
     "output_type": "execute_result"
    }
   ],
   "source": [
    "df['Interior Color'].value_counts().head(30)"
   ]
  },
  {
   "cell_type": "code",
   "execution_count": 82,
   "id": "stuck-conference",
   "metadata": {},
   "outputs": [],
   "source": [
    "def define_interior_color(interior_color):\n",
    "\n",
    "    if 'ebony' in interior_color.lower() or 'ebony black' in interior_color.lower():\n",
    "        return 'Ebony'\n",
    "    \n",
    "    elif 'black' in interior_color.lower():\n",
    "        return 'Black'\n",
    "    \n",
    "    elif 'gray' in interior_color.lower():\n",
    "        return 'Gray'\n",
    "    \n",
    "    elif 'charcoal' in interior_color.lower():\n",
    "        return 'Charcoal'\n",
    "    \n",
    "    elif 'graphite' in interior_color.lower():\n",
    "        return 'Graphite'\n",
    "    \n",
    "    elif '-1' in interior_color.lower():\n",
    "        return np.nan\n",
    "    \n",
    "    else:\n",
    "        return 'Other'"
   ]
  },
  {
   "cell_type": "code",
   "execution_count": 83,
   "id": "touched-argument",
   "metadata": {},
   "outputs": [],
   "source": [
    "df['Interior Color'] = df['Interior Color'].apply(define_interior_color)"
   ]
  },
  {
   "cell_type": "code",
   "execution_count": 84,
   "id": "static-ranking",
   "metadata": {},
   "outputs": [
    {
     "data": {
      "text/plain": [
       "Black       50276\n",
       "Other       17819\n",
       "Gray         9254\n",
       "Ebony        5713\n",
       "Charcoal     3175\n",
       "Graphite     2043\n",
       "Name: Interior Color, dtype: int64"
      ]
     },
     "execution_count": 84,
     "metadata": {},
     "output_type": "execute_result"
    }
   ],
   "source": [
    "df['Interior Color'].value_counts()"
   ]
  },
  {
   "cell_type": "code",
   "execution_count": 85,
   "id": "prescription-proceeding",
   "metadata": {},
   "outputs": [],
   "source": [
    "def define_drivetrain(drivetrain):\n",
    "    \n",
    "    if 'fwd' in drivetrain.lower() or 'front wheel drive' in drivetrain.lower() or 'front-wheel drive' in drivetrain.lower():\n",
    "        return 'FWD'\n",
    "    \n",
    "    elif 'awd' in drivetrain.lower() or 'all wheel drive' in drivetrain.lower() or 'all-wheel drive' in drivetrain.lower():\n",
    "        return 'AWD'\n",
    "    \n",
    "    elif '4wd' in drivetrain.lower() or 'four wheel drive' in drivetrain.lower() or 'four-wheel drive' in drivetrain.lower():\n",
    "        return '4WD'\n",
    "    \n",
    "    elif 'rwd' in drivetrain.lower() or 'rear wheel drive' in drivetrain.lower() or 'rear-wheel drive' in drivetrain.lower():\n",
    "        return 'RWD'\n",
    "    \n",
    "    else:\n",
    "        return np.nan"
   ]
  },
  {
   "cell_type": "code",
   "execution_count": 86,
   "id": "closed-architecture",
   "metadata": {},
   "outputs": [],
   "source": [
    "df['Drivetrain'] = df['Drivetrain'].apply(define_drivetrain)"
   ]
  },
  {
   "cell_type": "code",
   "execution_count": 87,
   "id": "bizarre-projector",
   "metadata": {},
   "outputs": [
    {
     "data": {
      "text/plain": [
       "AWD    36426\n",
       "FWD    32272\n",
       "4WD    20079\n",
       "RWD    11980\n",
       "Name: Drivetrain, dtype: int64"
      ]
     },
     "execution_count": 87,
     "metadata": {},
     "output_type": "execute_result"
    }
   ],
   "source": [
    "df['Drivetrain'].value_counts()"
   ]
  },
  {
   "cell_type": "code",
   "execution_count": 88,
   "id": "experimental-integral",
   "metadata": {},
   "outputs": [],
   "source": [
    "      \n",
    "df['City MPG'] = df['City MPG'].apply(lambda x: np.nan if x == -1 else x)\n",
    "\n",
    "df['City MPG'].fillna(df['City MPG'].median(), inplace=True)\n",
    "\n",
    "df['Highway MPG'] = df['Highway MPG'].apply(lambda x: np.nan if x == -1 else x)\n",
    "\n",
    "df['Highway MPG'].fillna(df['Highway MPG'].median(), inplace=True)"
   ]
  },
  {
   "cell_type": "code",
   "execution_count": 89,
   "id": "aquatic-terry",
   "metadata": {},
   "outputs": [
    {
     "data": {
      "text/plain": [
       "Name                     0\n",
       "Mileage                  0\n",
       "Address                  0\n",
       "Rating                  18\n",
       "Fuel Type                0\n",
       "City MPG                 0\n",
       "Highway MPG              0\n",
       "Drivetrain             273\n",
       "Engine                  58\n",
       "Exterior Color        1020\n",
       "Interior Color       12750\n",
       "Transmission          1428\n",
       "Num_ent_features      5162\n",
       "Num_safe_features     1756\n",
       "Price                    0\n",
       "Model Year               0\n",
       "Car Model                0\n",
       "Make                     0\n",
       "dtype: int64"
      ]
     },
     "execution_count": 89,
     "metadata": {},
     "output_type": "execute_result"
    }
   ],
   "source": [
    "df.isna().sum()"
   ]
  },
  {
   "cell_type": "code",
   "execution_count": 90,
   "id": "retired-hudson",
   "metadata": {},
   "outputs": [
    {
     "name": "stdout",
     "output_type": "stream",
     "text": [
      "Shape of dataframe before dropping rows that contain null values: 101030\n",
      "Shape of dataframe after dropping rows that contain null values: 82457\n"
     ]
    }
   ],
   "source": [
    "print('Shape of dataframe before dropping rows that contain null values: {}'.format(df.shape[0]))\n",
    "df.dropna(inplace=True)\n",
    "print('Shape of dataframe after dropping rows that contain null values: {}'.format(df.shape[0]))"
   ]
  },
  {
   "cell_type": "code",
   "execution_count": 91,
   "id": "professional-pharmacology",
   "metadata": {},
   "outputs": [
    {
     "data": {
      "text/html": [
       "<div>\n",
       "<style scoped>\n",
       "    .dataframe tbody tr th:only-of-type {\n",
       "        vertical-align: middle;\n",
       "    }\n",
       "\n",
       "    .dataframe tbody tr th {\n",
       "        vertical-align: top;\n",
       "    }\n",
       "\n",
       "    .dataframe thead th {\n",
       "        text-align: right;\n",
       "    }\n",
       "</style>\n",
       "<table border=\"1\" class=\"dataframe\">\n",
       "  <thead>\n",
       "    <tr style=\"text-align: right;\">\n",
       "      <th></th>\n",
       "      <th>Mileage</th>\n",
       "      <th>Rating</th>\n",
       "      <th>City MPG</th>\n",
       "      <th>Highway MPG</th>\n",
       "      <th>Num_ent_features</th>\n",
       "      <th>Num_safe_features</th>\n",
       "      <th>Price</th>\n",
       "      <th>Model Year</th>\n",
       "    </tr>\n",
       "  </thead>\n",
       "  <tbody>\n",
       "    <tr>\n",
       "      <th>count</th>\n",
       "      <td>82457.000000</td>\n",
       "      <td>82457.000000</td>\n",
       "      <td>82457.000000</td>\n",
       "      <td>82457.000000</td>\n",
       "      <td>82457.000000</td>\n",
       "      <td>82457.000000</td>\n",
       "      <td>8.245700e+04</td>\n",
       "      <td>82457.000000</td>\n",
       "    </tr>\n",
       "    <tr>\n",
       "      <th>mean</th>\n",
       "      <td>37270.822792</td>\n",
       "      <td>4.297086</td>\n",
       "      <td>22.246941</td>\n",
       "      <td>30.522054</td>\n",
       "      <td>1.834204</td>\n",
       "      <td>3.711207</td>\n",
       "      <td>3.070076e+04</td>\n",
       "      <td>2017.724802</td>\n",
       "    </tr>\n",
       "    <tr>\n",
       "      <th>std</th>\n",
       "      <td>30657.380207</td>\n",
       "      <td>0.719660</td>\n",
       "      <td>10.816386</td>\n",
       "      <td>21.825078</td>\n",
       "      <td>0.716735</td>\n",
       "      <td>1.339647</td>\n",
       "      <td>1.958638e+04</td>\n",
       "      <td>2.339692</td>\n",
       "    </tr>\n",
       "    <tr>\n",
       "      <th>min</th>\n",
       "      <td>1.000000</td>\n",
       "      <td>1.000000</td>\n",
       "      <td>0.000000</td>\n",
       "      <td>0.000000</td>\n",
       "      <td>1.000000</td>\n",
       "      <td>1.000000</td>\n",
       "      <td>1.500000e+03</td>\n",
       "      <td>2001.000000</td>\n",
       "    </tr>\n",
       "    <tr>\n",
       "      <th>25%</th>\n",
       "      <td>17610.000000</td>\n",
       "      <td>4.100000</td>\n",
       "      <td>18.000000</td>\n",
       "      <td>25.000000</td>\n",
       "      <td>1.000000</td>\n",
       "      <td>3.000000</td>\n",
       "      <td>1.999500e+04</td>\n",
       "      <td>2017.000000</td>\n",
       "    </tr>\n",
       "    <tr>\n",
       "      <th>50%</th>\n",
       "      <td>30219.000000</td>\n",
       "      <td>4.500000</td>\n",
       "      <td>21.000000</td>\n",
       "      <td>28.000000</td>\n",
       "      <td>2.000000</td>\n",
       "      <td>3.000000</td>\n",
       "      <td>2.742400e+04</td>\n",
       "      <td>2018.000000</td>\n",
       "    </tr>\n",
       "    <tr>\n",
       "      <th>75%</th>\n",
       "      <td>46820.000000</td>\n",
       "      <td>4.800000</td>\n",
       "      <td>24.000000</td>\n",
       "      <td>32.000000</td>\n",
       "      <td>2.000000</td>\n",
       "      <td>5.000000</td>\n",
       "      <td>3.698800e+04</td>\n",
       "      <td>2019.000000</td>\n",
       "    </tr>\n",
       "    <tr>\n",
       "      <th>max</th>\n",
       "      <td>492592.000000</td>\n",
       "      <td>5.000000</td>\n",
       "      <td>204.000000</td>\n",
       "      <td>414.000000</td>\n",
       "      <td>4.000000</td>\n",
       "      <td>7.000000</td>\n",
       "      <td>1.450000e+06</td>\n",
       "      <td>2022.000000</td>\n",
       "    </tr>\n",
       "  </tbody>\n",
       "</table>\n",
       "</div>"
      ],
      "text/plain": [
       "             Mileage        Rating      City MPG   Highway MPG  \\\n",
       "count   82457.000000  82457.000000  82457.000000  82457.000000   \n",
       "mean    37270.822792      4.297086     22.246941     30.522054   \n",
       "std     30657.380207      0.719660     10.816386     21.825078   \n",
       "min         1.000000      1.000000      0.000000      0.000000   \n",
       "25%     17610.000000      4.100000     18.000000     25.000000   \n",
       "50%     30219.000000      4.500000     21.000000     28.000000   \n",
       "75%     46820.000000      4.800000     24.000000     32.000000   \n",
       "max    492592.000000      5.000000    204.000000    414.000000   \n",
       "\n",
       "       Num_ent_features  Num_safe_features         Price    Model Year  \n",
       "count      82457.000000       82457.000000  8.245700e+04  82457.000000  \n",
       "mean           1.834204           3.711207  3.070076e+04   2017.724802  \n",
       "std            0.716735           1.339647  1.958638e+04      2.339692  \n",
       "min            1.000000           1.000000  1.500000e+03   2001.000000  \n",
       "25%            1.000000           3.000000  1.999500e+04   2017.000000  \n",
       "50%            2.000000           3.000000  2.742400e+04   2018.000000  \n",
       "75%            2.000000           5.000000  3.698800e+04   2019.000000  \n",
       "max            4.000000           7.000000  1.450000e+06   2022.000000  "
      ]
     },
     "execution_count": 91,
     "metadata": {},
     "output_type": "execute_result"
    }
   ],
   "source": [
    "df.describe()"
   ]
  },
  {
   "cell_type": "code",
   "execution_count": 92,
   "id": "according-sheriff",
   "metadata": {},
   "outputs": [
    {
     "name": "stdout",
     "output_type": "stream",
     "text": [
      "<class 'pandas.core.frame.DataFrame'>\n",
      "Int64Index: 82457 entries, 0 to 101421\n",
      "Data columns (total 18 columns):\n",
      " #   Column             Non-Null Count  Dtype  \n",
      "---  ------             --------------  -----  \n",
      " 0   Name               82457 non-null  object \n",
      " 1   Mileage            82457 non-null  int64  \n",
      " 2   Address            82457 non-null  object \n",
      " 3   Rating             82457 non-null  float64\n",
      " 4   Fuel Type          82457 non-null  object \n",
      " 5   City MPG           82457 non-null  float64\n",
      " 6   Highway MPG        82457 non-null  float64\n",
      " 7   Drivetrain         82457 non-null  object \n",
      " 8   Engine             82457 non-null  object \n",
      " 9   Exterior Color     82457 non-null  object \n",
      " 10  Interior Color     82457 non-null  object \n",
      " 11  Transmission       82457 non-null  object \n",
      " 12  Num_ent_features   82457 non-null  float64\n",
      " 13  Num_safe_features  82457 non-null  float64\n",
      " 14  Price              82457 non-null  int64  \n",
      " 15  Model Year         82457 non-null  int64  \n",
      " 16  Car Model          82457 non-null  object \n",
      " 17  Make               82457 non-null  object \n",
      "dtypes: float64(5), int64(3), object(10)\n",
      "memory usage: 12.0+ MB\n"
     ]
    }
   ],
   "source": [
    "df.info()"
   ]
  },
  {
   "cell_type": "code",
   "execution_count": 102,
   "id": "union-seeking",
   "metadata": {},
   "outputs": [
    {
     "data": {
      "text/plain": [
       "<AxesSubplot:xlabel='Price', ylabel='Density'>"
      ]
     },
     "execution_count": 102,
     "metadata": {},
     "output_type": "execute_result"
    },
    {
     "data": {
      "image/png": "[encoded data removed]",
      "text/plain": [
       "<Figure size 432x288 with 1 Axes>"
      ]
     },
     "metadata": {
      "needs_background": "light"
     },
     "output_type": "display_data"
    }
   ],
   "source": [
    "#Check price distribution\n",
    "sns.distplot(df.Price)"
   ]
  },
  {
   "cell_type": "code",
   "execution_count": 103,
   "id": "announced-elevation",
   "metadata": {},
   "outputs": [],
   "source": [
    "df = df[df.Price <= (df.Price.mean() + 3 * df.Price.std())]"
   ]
  },
  {
   "cell_type": "code",
   "execution_count": 104,
   "id": "governing-covering",
   "metadata": {},
   "outputs": [
    {
     "data": {
      "text/plain": [
       "<AxesSubplot:xlabel='Price', ylabel='Density'>"
      ]
     },
     "execution_count": 104,
     "metadata": {},
     "output_type": "execute_result"
    },
    {
     "data": {
      "image/png": "[encoded data removed]",
      "text/plain": [
       "<Figure size 432x288 with 1 Axes>"
      ]
     },
     "metadata": {
      "needs_background": "light"
     },
     "output_type": "display_data"
    }
   ],
   "source": [
    "sns.distplot(df.Price)"
   ]
  },
  {
   "cell_type": "code",
   "execution_count": 107,
   "id": "unavailable-correspondence",
   "metadata": {},
   "outputs": [
    {
     "data": {
      "text/html": [
       "<div>\n",
       "<style scoped>\n",
       "    .dataframe tbody tr th:only-of-type {\n",
       "        vertical-align: middle;\n",
       "    }\n",
       "\n",
       "    .dataframe tbody tr th {\n",
       "        vertical-align: top;\n",
       "    }\n",
       "\n",
       "    .dataframe thead th {\n",
       "        text-align: right;\n",
       "    }\n",
       "</style>\n",
       "<table border=\"1\" class=\"dataframe\">\n",
       "  <thead>\n",
       "    <tr style=\"text-align: right;\">\n",
       "      <th></th>\n",
       "      <th>Mileage</th>\n",
       "      <th>Rating</th>\n",
       "      <th>City MPG</th>\n",
       "      <th>Highway MPG</th>\n",
       "      <th>Num_ent_features</th>\n",
       "      <th>Num_safe_features</th>\n",
       "      <th>Price</th>\n",
       "      <th>Model Year</th>\n",
       "    </tr>\n",
       "  </thead>\n",
       "  <tbody>\n",
       "    <tr>\n",
       "      <th>count</th>\n",
       "      <td>81752.000000</td>\n",
       "      <td>81752.000000</td>\n",
       "      <td>81752.000000</td>\n",
       "      <td>81752.000000</td>\n",
       "      <td>81752.000000</td>\n",
       "      <td>81752.000000</td>\n",
       "      <td>81752.000000</td>\n",
       "      <td>81752.000000</td>\n",
       "    </tr>\n",
       "    <tr>\n",
       "      <th>mean</th>\n",
       "      <td>37498.559106</td>\n",
       "      <td>4.295914</td>\n",
       "      <td>22.297595</td>\n",
       "      <td>30.398449</td>\n",
       "      <td>1.829912</td>\n",
       "      <td>3.715885</td>\n",
       "      <td>29640.320029</td>\n",
       "      <td>2017.718869</td>\n",
       "    </tr>\n",
       "    <tr>\n",
       "      <th>std</th>\n",
       "      <td>30670.831325</td>\n",
       "      <td>0.720447</td>\n",
       "      <td>10.814289</td>\n",
       "      <td>21.166948</td>\n",
       "      <td>0.715178</td>\n",
       "      <td>1.340327</td>\n",
       "      <td>13319.046213</td>\n",
       "      <td>2.338714</td>\n",
       "    </tr>\n",
       "    <tr>\n",
       "      <th>min</th>\n",
       "      <td>1.000000</td>\n",
       "      <td>1.000000</td>\n",
       "      <td>0.000000</td>\n",
       "      <td>0.000000</td>\n",
       "      <td>1.000000</td>\n",
       "      <td>1.000000</td>\n",
       "      <td>1500.000000</td>\n",
       "      <td>2001.000000</td>\n",
       "    </tr>\n",
       "    <tr>\n",
       "      <th>25%</th>\n",
       "      <td>17850.000000</td>\n",
       "      <td>4.100000</td>\n",
       "      <td>18.000000</td>\n",
       "      <td>25.000000</td>\n",
       "      <td>1.000000</td>\n",
       "      <td>3.000000</td>\n",
       "      <td>19995.000000</td>\n",
       "      <td>2017.000000</td>\n",
       "    </tr>\n",
       "    <tr>\n",
       "      <th>50%</th>\n",
       "      <td>30351.000000</td>\n",
       "      <td>4.500000</td>\n",
       "      <td>21.000000</td>\n",
       "      <td>28.000000</td>\n",
       "      <td>2.000000</td>\n",
       "      <td>3.000000</td>\n",
       "      <td>27177.000000</td>\n",
       "      <td>2018.000000</td>\n",
       "    </tr>\n",
       "    <tr>\n",
       "      <th>75%</th>\n",
       "      <td>47013.250000</td>\n",
       "      <td>4.800000</td>\n",
       "      <td>24.000000</td>\n",
       "      <td>32.000000</td>\n",
       "      <td>2.000000</td>\n",
       "      <td>5.000000</td>\n",
       "      <td>36590.000000</td>\n",
       "      <td>2019.000000</td>\n",
       "    </tr>\n",
       "    <tr>\n",
       "      <th>max</th>\n",
       "      <td>492592.000000</td>\n",
       "      <td>5.000000</td>\n",
       "      <td>204.000000</td>\n",
       "      <td>414.000000</td>\n",
       "      <td>4.000000</td>\n",
       "      <td>7.000000</td>\n",
       "      <td>89337.000000</td>\n",
       "      <td>2022.000000</td>\n",
       "    </tr>\n",
       "  </tbody>\n",
       "</table>\n",
       "</div>"
      ],
      "text/plain": [
       "             Mileage        Rating      City MPG   Highway MPG  \\\n",
       "count   81752.000000  81752.000000  81752.000000  81752.000000   \n",
       "mean    37498.559106      4.295914     22.297595     30.398449   \n",
       "std     30670.831325      0.720447     10.814289     21.166948   \n",
       "min         1.000000      1.000000      0.000000      0.000000   \n",
       "25%     17850.000000      4.100000     18.000000     25.000000   \n",
       "50%     30351.000000      4.500000     21.000000     28.000000   \n",
       "75%     47013.250000      4.800000     24.000000     32.000000   \n",
       "max    492592.000000      5.000000    204.000000    414.000000   \n",
       "\n",
       "       Num_ent_features  Num_safe_features         Price    Model Year  \n",
       "count      81752.000000       81752.000000  81752.000000  81752.000000  \n",
       "mean           1.829912           3.715885  29640.320029   2017.718869  \n",
       "std            0.715178           1.340327  13319.046213      2.338714  \n",
       "min            1.000000           1.000000   1500.000000   2001.000000  \n",
       "25%            1.000000           3.000000  19995.000000   2017.000000  \n",
       "50%            2.000000           3.000000  27177.000000   2018.000000  \n",
       "75%            2.000000           5.000000  36590.000000   2019.000000  \n",
       "max            4.000000           7.000000  89337.000000   2022.000000  "
      ]
     },
     "execution_count": 107,
     "metadata": {},
     "output_type": "execute_result"
    }
   ],
   "source": [
    "df.describe()"
   ]
  },
  {
   "cell_type": "code",
   "execution_count": 110,
   "id": "communist-gossip",
   "metadata": {},
   "outputs": [
    {
     "data": {
      "text/plain": [
       "15956"
      ]
     },
     "execution_count": 110,
     "metadata": {},
     "output_type": "execute_result"
    }
   ],
   "source": [
    "df.duplicated().sum()"
   ]
  },
  {
   "cell_type": "code",
   "execution_count": 112,
   "id": "spread-decrease",
   "metadata": {},
   "outputs": [],
   "source": [
    "df.drop_duplicates(inplace=True)"
   ]
  },
  {
   "cell_type": "code",
   "execution_count": 113,
   "id": "disturbed-klein",
   "metadata": {},
   "outputs": [],
   "source": [
    "df.to_csv('cleaned_data.csv')"
   ]
  },
  {
   "cell_type": "code",
   "execution_count": null,
   "id": "mysterious-disney",
   "metadata": {},
   "outputs": [],
   "source": []
  }
 ],
 "metadata": {
  "kernelspec": {
   "display_name": "Python [conda env:metis] *",
   "language": "python",
   "name": "conda-env-metis-py"
  },
  "language_info": {
   "codemirror_mode": {
    "name": "ipython",
    "version": 3
   },
   "file_extension": ".py",
   "mimetype": "text/x-python",
   "name": "python",
   "nbconvert_exporter": "python",
   "pygments_lexer": "ipython3",
   "version": "3.8.8"
  }
 },
 "nbformat": 4,
 "nbformat_minor": 5
}

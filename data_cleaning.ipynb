{
 "cells": [
  {
   "cell_type": "code",
   "execution_count": 1,
   "id": "coordinated-firewall",
   "metadata": {},
   "outputs": [
    {
     "name": "stdout",
     "output_type": "stream",
     "text": [
      "Libraries imported\n"
     ]
    }
   ],
   "source": [
    "# Necessary imports\n",
    "import warnings\n",
    "warnings.filterwarnings(\"ignore\")\n",
    "import pandas as pd\n",
    "import numpy as np\n",
    "import statsmodels.api as sm\n",
    "import statsmodels.formula.api as smf\n",
    "import patsy\n",
    "import glob\n",
    "import re\n",
    "\n",
    "import seaborn as sns\n",
    "import matplotlib.pyplot as plt\n",
    "\n",
    "%matplotlib inline\n",
    "\n",
    "print('Libraries imported')"
   ]
  },
  {
   "cell_type": "code",
   "execution_count": 2,
   "id": "ancient-climb",
   "metadata": {},
   "outputs": [
    {
     "name": "stdout",
     "output_type": "stream",
     "text": [
      "(164784, 15)\n"
     ]
    },
    {
     "data": {
      "text/html": [
       "<div>\n",
       "<style scoped>\n",
       "    .dataframe tbody tr th:only-of-type {\n",
       "        vertical-align: middle;\n",
       "    }\n",
       "\n",
       "    .dataframe tbody tr th {\n",
       "        vertical-align: top;\n",
       "    }\n",
       "\n",
       "    .dataframe thead th {\n",
       "        text-align: right;\n",
       "    }\n",
       "</style>\n",
       "<table border=\"1\" class=\"dataframe\">\n",
       "  <thead>\n",
       "    <tr style=\"text-align: right;\">\n",
       "      <th></th>\n",
       "      <th>Name</th>\n",
       "      <th>Mileage</th>\n",
       "      <th>Address</th>\n",
       "      <th>Rating</th>\n",
       "      <th>Fuel Type</th>\n",
       "      <th>City MPG</th>\n",
       "      <th>Highway MPG</th>\n",
       "      <th>Drivetrain</th>\n",
       "      <th>Engine</th>\n",
       "      <th>Exterior Color</th>\n",
       "      <th>Interior Color</th>\n",
       "      <th>Transmission</th>\n",
       "      <th>Entertainment</th>\n",
       "      <th>Safety</th>\n",
       "      <th>Price</th>\n",
       "    </tr>\n",
       "  </thead>\n",
       "  <tbody>\n",
       "    <tr>\n",
       "      <th>0</th>\n",
       "      <td>2020 BMW 330 i xDrive</td>\n",
       "      <td>24,371</td>\n",
       "      <td>Brooklyn, NY 11203</td>\n",
       "      <td>3.5</td>\n",
       "      <td>Gasoline</td>\n",
       "      <td>25</td>\n",
       "      <td>34</td>\n",
       "      <td>AWD</td>\n",
       "      <td>2.0L I4 16V GDI DOHC Turbo</td>\n",
       "      <td>Jet Black</td>\n",
       "      <td>Black</td>\n",
       "      <td>8-Speed Automatic</td>\n",
       "      <td>['Bluetooth', 'Apple CarPlay/Android Auto']</td>\n",
       "      <td>['Backup Camera', 'Brake Assist', 'Stability C...</td>\n",
       "      <td>$29,893</td>\n",
       "    </tr>\n",
       "    <tr>\n",
       "      <th>1</th>\n",
       "      <td>2015 Audi A6 2.0T Premium Plus</td>\n",
       "      <td>89,351</td>\n",
       "      <td>Brooklyn, NY 11207</td>\n",
       "      <td>2.2</td>\n",
       "      <td>Gasoline</td>\n",
       "      <td>20</td>\n",
       "      <td>29</td>\n",
       "      <td>AWD</td>\n",
       "      <td>2.0L I4 16V GDI DOHC Turbo</td>\n",
       "      <td>Gray</td>\n",
       "      <td>-1</td>\n",
       "      <td>8-Speed Automatic</td>\n",
       "      <td>['Bluetooth', 'Premium Sound System']</td>\n",
       "      <td>['Brake Assist', 'Stability Control']</td>\n",
       "      <td>$16,995</td>\n",
       "    </tr>\n",
       "    <tr>\n",
       "      <th>2</th>\n",
       "      <td>2018 Toyota RAV4 Limited</td>\n",
       "      <td>11,863</td>\n",
       "      <td>Brooklyn, NY 11210</td>\n",
       "      <td>3.5</td>\n",
       "      <td>Gasoline</td>\n",
       "      <td>22</td>\n",
       "      <td>28</td>\n",
       "      <td>AWD</td>\n",
       "      <td>2.5L I4 16V MPFI DOHC</td>\n",
       "      <td>Black</td>\n",
       "      <td>Black</td>\n",
       "      <td>6-Speed Automatic</td>\n",
       "      <td>['Bluetooth', 'Premium Sound System']</td>\n",
       "      <td>['Backup Camera', 'Brake Assist', 'Stability C...</td>\n",
       "      <td>$26,225</td>\n",
       "    </tr>\n",
       "    <tr>\n",
       "      <th>3</th>\n",
       "      <td>2018 Toyota RAV4 Limited</td>\n",
       "      <td>17,501</td>\n",
       "      <td>Brooklyn, NY 11210</td>\n",
       "      <td>3.5</td>\n",
       "      <td>Gasoline</td>\n",
       "      <td>22</td>\n",
       "      <td>28</td>\n",
       "      <td>AWD</td>\n",
       "      <td>2.5L I4 16V MPFI DOHC</td>\n",
       "      <td>Gray</td>\n",
       "      <td>-1</td>\n",
       "      <td>6-Speed Automatic</td>\n",
       "      <td>['Bluetooth', 'Premium Sound System']</td>\n",
       "      <td>['Backup Camera', 'Brake Assist', 'Stability C...</td>\n",
       "      <td>$25,903</td>\n",
       "    </tr>\n",
       "    <tr>\n",
       "      <th>4</th>\n",
       "      <td>2019 Honda CR-V EX-L</td>\n",
       "      <td>19,241</td>\n",
       "      <td>Brooklyn, NY 11210</td>\n",
       "      <td>3.5</td>\n",
       "      <td>Gasoline</td>\n",
       "      <td>27</td>\n",
       "      <td>33</td>\n",
       "      <td>AWD</td>\n",
       "      <td>1.5L I4 16V GDI DOHC Turbo</td>\n",
       "      <td>Gray</td>\n",
       "      <td>-1</td>\n",
       "      <td>Automatic CVT</td>\n",
       "      <td>['Bluetooth', 'Apple CarPlay/Android Auto']</td>\n",
       "      <td>['Backup Camera', 'Brake Assist', 'Stability C...</td>\n",
       "      <td>$28,145</td>\n",
       "    </tr>\n",
       "  </tbody>\n",
       "</table>\n",
       "</div>"
      ],
      "text/plain": [
       "                              Name Mileage             Address  Rating  \\\n",
       "0            2020 BMW 330 i xDrive  24,371  Brooklyn, NY 11203     3.5   \n",
       "1   2015 Audi A6 2.0T Premium Plus  89,351  Brooklyn, NY 11207     2.2   \n",
       "2         2018 Toyota RAV4 Limited  11,863  Brooklyn, NY 11210     3.5   \n",
       "3         2018 Toyota RAV4 Limited  17,501  Brooklyn, NY 11210     3.5   \n",
       "4             2019 Honda CR-V EX-L  19,241  Brooklyn, NY 11210     3.5   \n",
       "\n",
       "   Fuel Type  City MPG  Highway MPG Drivetrain                       Engine  \\\n",
       "0   Gasoline        25           34        AWD   2.0L I4 16V GDI DOHC Turbo   \n",
       "1   Gasoline        20           29        AWD   2.0L I4 16V GDI DOHC Turbo   \n",
       "2   Gasoline        22           28        AWD        2.5L I4 16V MPFI DOHC   \n",
       "3   Gasoline        22           28        AWD        2.5L I4 16V MPFI DOHC   \n",
       "4   Gasoline        27           33        AWD   1.5L I4 16V GDI DOHC Turbo   \n",
       "\n",
       "  Exterior Color Interior Color        Transmission  \\\n",
       "0      Jet Black          Black   8-Speed Automatic   \n",
       "1           Gray             -1   8-Speed Automatic   \n",
       "2          Black          Black   6-Speed Automatic   \n",
       "3           Gray             -1   6-Speed Automatic   \n",
       "4           Gray             -1       Automatic CVT   \n",
       "\n",
       "                                 Entertainment  \\\n",
       "0  ['Bluetooth', 'Apple CarPlay/Android Auto']   \n",
       "1        ['Bluetooth', 'Premium Sound System']   \n",
       "2        ['Bluetooth', 'Premium Sound System']   \n",
       "3        ['Bluetooth', 'Premium Sound System']   \n",
       "4  ['Bluetooth', 'Apple CarPlay/Android Auto']   \n",
       "\n",
       "                                              Safety    Price  \n",
       "0  ['Backup Camera', 'Brake Assist', 'Stability C...  $29,893  \n",
       "1              ['Brake Assist', 'Stability Control']  $16,995  \n",
       "2  ['Backup Camera', 'Brake Assist', 'Stability C...  $26,225  \n",
       "3  ['Backup Camera', 'Brake Assist', 'Stability C...  $25,903  \n",
       "4  ['Backup Camera', 'Brake Assist', 'Stability C...  $28,145  "
      ]
     },
     "execution_count": 2,
     "metadata": {},
     "output_type": "execute_result"
    }
   ],
   "source": [
    "path = r'C:/Metis_Bootcamp/Regression_project/data/joined-full-data//' # data path\n",
    "all_files = glob.glob(path + \"/*.csv\")\n",
    "\n",
    "li = []\n",
    "\n",
    "for filename in all_files:\n",
    "    data = pd.read_csv(filename, index_col=0, header=0)\n",
    "    li.append(data)\n",
    "\n",
    "df = pd.concat(li, axis=0, ignore_index=True)\n",
    "\n",
    "print(df.shape)\n",
    "\n",
    "df.head()"
   ]
  },
  {
   "cell_type": "code",
   "execution_count": 3,
   "id": "impossible-decision",
   "metadata": {},
   "outputs": [],
   "source": [
    "def model_year_extractor(name):\n",
    "    \n",
    "    name_year = name.replace('Certified ','').strip()\n",
    "    \n",
    "    year = int(name_year.split(' ')[0])\n",
    "    \n",
    "    return year"
   ]
  },
  {
   "cell_type": "code",
   "execution_count": 4,
   "id": "essential-proxy",
   "metadata": {},
   "outputs": [],
   "source": [
    "df['Model Year'] = df['Name'].apply(model_year_extractor)"
   ]
  },
  {
   "cell_type": "code",
   "execution_count": 5,
   "id": "acute-notebook",
   "metadata": {
    "scrolled": true
   },
   "outputs": [
    {
     "data": {
      "text/plain": [
       "2001      144\n",
       "2002      216\n",
       "2003      275\n",
       "2004      364\n",
       "2005      470\n",
       "2006      668\n",
       "2007      925\n",
       "2008     1039\n",
       "2009      826\n",
       "2010     1183\n",
       "2011     1809\n",
       "2012     2618\n",
       "2013     4407\n",
       "2014     5264\n",
       "2015     7166\n",
       "2016     8606\n",
       "2017    20740\n",
       "2018    45245\n",
       "2019    21661\n",
       "2020    22470\n",
       "2021    18044\n",
       "2022       52\n",
       "Name: Model Year, dtype: int64"
      ]
     },
     "execution_count": 5,
     "metadata": {},
     "output_type": "execute_result"
    }
   ],
   "source": [
    "df = df[df['Model Year'] > 2000]\n",
    "df['Model Year'].value_counts().sort_index()"
   ]
  },
  {
   "cell_type": "code",
   "execution_count": 6,
   "id": "representative-obligation",
   "metadata": {},
   "outputs": [
    {
     "data": {
      "text/plain": [
       "(164192, 16)"
      ]
     },
     "execution_count": 6,
     "metadata": {},
     "output_type": "execute_result"
    }
   ],
   "source": [
    "df.shape"
   ]
  },
  {
   "cell_type": "code",
   "execution_count": 7,
   "id": "statewide-subcommittee",
   "metadata": {},
   "outputs": [],
   "source": [
    "def make_extractor(name):\n",
    "    \n",
    "    if 'Land' in name:\n",
    "        return 'Land Rover'\n",
    "    \n",
    "    elif 'Alfa' in name:\n",
    "        return 'Alfa Romeo'\n",
    "    \n",
    "    elif 'MINI' in name:\n",
    "        return 'MINI Cooper'\n",
    "    \n",
    "    elif 'Aston' in name:\n",
    "        return 'Aston Martin'\n",
    "    \n",
    "    else:\n",
    "        return name.split(' ')[2]"
   ]
  },
  {
   "cell_type": "code",
   "execution_count": 8,
   "id": "center-wedding",
   "metadata": {},
   "outputs": [],
   "source": [
    "def car_model_extractor(name):\n",
    "    try:\n",
    "        return name.split(' ')[3]\n",
    "    except:\n",
    "        return name.split(' ')[2]"
   ]
  },
  {
   "cell_type": "code",
   "execution_count": 9,
   "id": "proper-flour",
   "metadata": {},
   "outputs": [],
   "source": [
    "df['Car Model'] = df['Name'].apply(car_model_extractor)"
   ]
  },
  {
   "cell_type": "code",
   "execution_count": 10,
   "id": "funded-seattle",
   "metadata": {},
   "outputs": [
    {
     "data": {
      "text/plain": [
       "F-150         4618\n",
       "Grand         3932\n",
       "Silverado     3548\n",
       "1500          3003\n",
       "RAV4          2479\n",
       "Rogue         2452\n",
       "Camry         2409\n",
       "Wrangler      2408\n",
       "Explorer      2352\n",
       "Escape        2261\n",
       "CR-V          2149\n",
       "Rover         2145\n",
       "Equinox       2070\n",
       "Highlander    1972\n",
       "Cherokee      1969\n",
       "Accord        1959\n",
       "Civic         1784\n",
       "Sierra        1744\n",
       "Corolla       1605\n",
       "Edge          1533\n",
       "Name: Car Model, dtype: int64"
      ]
     },
     "execution_count": 10,
     "metadata": {},
     "output_type": "execute_result"
    }
   ],
   "source": [
    "df['Car Model'].value_counts().head(20)"
   ]
  },
  {
   "cell_type": "code",
   "execution_count": 11,
   "id": "round-lighting",
   "metadata": {},
   "outputs": [
    {
     "data": {
      "text/plain": [
       "F-150        4618\n",
       "Grand        3932\n",
       "Silverado    3548\n",
       "1500         3003\n",
       "RAV4         2479\n",
       "             ... \n",
       "SC              6\n",
       "CL              6\n",
       "535d            6\n",
       "Gallardo        6\n",
       "S500            6\n",
       "Name: Car Model, Length: 483, dtype: int64"
      ]
     },
     "execution_count": 11,
     "metadata": {},
     "output_type": "execute_result"
    }
   ],
   "source": [
    "other_model = df['Car Model'].value_counts()[df['Car Model'].value_counts() <= 5].index\n",
    "df['Car Model'] = df['Car Model'].replace(other_model, 'Other')\n",
    "df['Car Model'].value_counts()"
   ]
  },
  {
   "cell_type": "code",
   "execution_count": 12,
   "id": "precise-shareware",
   "metadata": {},
   "outputs": [],
   "source": [
    "df['Make'] = df['Name'].apply(make_extractor)"
   ]
  },
  {
   "cell_type": "code",
   "execution_count": 13,
   "id": "healthy-profit",
   "metadata": {
    "scrolled": true
   },
   "outputs": [
    {
     "data": {
      "text/plain": [
       "Ford             17818\n",
       "Chevrolet        14241\n",
       "Toyota           14167\n",
       "Jeep             10753\n",
       "BMW               9044\n",
       "Honda             8939\n",
       "Nissan            8897\n",
       "Mercedes-Benz     8616\n",
       "Hyundai           6191\n",
       "Lexus             5915\n",
       "GMC               5315\n",
       "Audi              5288\n",
       "Volkswagen        4845\n",
       "Dodge             4227\n",
       "Kia               4123\n",
       "RAM               3837\n",
       "Subaru            3733\n",
       "Acura             3209\n",
       "INFINITI          3067\n",
       "Mazda             3014\n",
       "Cadillac          2973\n",
       "Land Rover        2182\n",
       "Buick             1938\n",
       "Lincoln           1867\n",
       "Volvo             1769\n",
       "Chrysler          1526\n",
       "Porsche           1334\n",
       "Alfa Romeo         819\n",
       "MINI Cooper        803\n",
       "Jaguar             750\n",
       "Mitsubishi         642\n",
       "Tesla              588\n",
       "Genesis            462\n",
       "Maserati           386\n",
       "FIAT               212\n",
       "Scion              127\n",
       "Bentley             92\n",
       "Pontiac             81\n",
       "Ferrari             79\n",
       "Saturn              48\n",
       "Lamborghini         47\n",
       "Aston Martin        46\n",
       "Rolls-Royce         45\n",
       "Hummer              37\n",
       "McLaren             27\n",
       "smart               25\n",
       "Mercury             18\n",
       "Suzuki              12\n",
       "Saab                10\n",
       "Lotus                3\n",
       "Oldsmobile           2\n",
       "Isuzu                2\n",
       "Karma                1\n",
       "Name: Make, dtype: int64"
      ]
     },
     "execution_count": 13,
     "metadata": {},
     "output_type": "execute_result"
    }
   ],
   "source": [
    "df['Make'].value_counts()"
   ]
  },
  {
   "cell_type": "code",
   "execution_count": 14,
   "id": "arabic-hormone",
   "metadata": {
    "scrolled": true
   },
   "outputs": [
    {
     "data": {
      "text/plain": [
       "Ford             17818\n",
       "Chevrolet        14241\n",
       "Toyota           14167\n",
       "Jeep             10753\n",
       "BMW               9044\n",
       "Honda             8939\n",
       "Nissan            8897\n",
       "Mercedes-Benz     8616\n",
       "Hyundai           6191\n",
       "Lexus             5915\n",
       "GMC               5315\n",
       "Audi              5288\n",
       "Volkswagen        4845\n",
       "Dodge             4227\n",
       "Kia               4123\n",
       "RAM               3837\n",
       "Subaru            3733\n",
       "Acura             3209\n",
       "INFINITI          3067\n",
       "Mazda             3014\n",
       "Cadillac          2973\n",
       "Land Rover        2182\n",
       "Buick             1938\n",
       "Lincoln           1867\n",
       "Volvo             1769\n",
       "Chrysler          1526\n",
       "Porsche           1334\n",
       "Alfa Romeo         819\n",
       "MINI Cooper        803\n",
       "Jaguar             750\n",
       "Mitsubishi         642\n",
       "Tesla              588\n",
       "Genesis            462\n",
       "Maserati           386\n",
       "FIAT               212\n",
       "Scion              127\n",
       "Bentley             92\n",
       "Pontiac             81\n",
       "Ferrari             79\n",
       "Other               48\n",
       "Saturn              48\n",
       "Lamborghini         47\n",
       "Aston Martin        46\n",
       "Rolls-Royce         45\n",
       "Hummer              37\n",
       "McLaren             27\n",
       "smart               25\n",
       "Name: Make, dtype: int64"
      ]
     },
     "execution_count": 14,
     "metadata": {},
     "output_type": "execute_result"
    }
   ],
   "source": [
    "other_make = df['Make'].value_counts()[df['Make'].value_counts() <= 20].index\n",
    "df['Make'] = df['Make'].replace(other_make, 'Other')\n",
    "df['Make'].value_counts()"
   ]
  },
  {
   "cell_type": "code",
   "execution_count": null,
   "id": "moral-albert",
   "metadata": {},
   "outputs": [],
   "source": [
    "\n",
    "    "
   ]
  },
  {
   "cell_type": "code",
   "execution_count": 15,
   "id": "trying-physiology",
   "metadata": {},
   "outputs": [],
   "source": [
    "def mileage_to_int(mileage):\n",
    "    \n",
    "    return int(mileage.replace(',',''))\n",
    "\n",
    "def price_to_int(price):\n",
    "    \n",
    "    return int(price.replace('$','').replace(',',''))"
   ]
  },
  {
   "cell_type": "code",
   "execution_count": 16,
   "id": "presidential-belief",
   "metadata": {
    "scrolled": true
   },
   "outputs": [
    {
     "name": "stdout",
     "output_type": "stream",
     "text": [
      "<class 'pandas.core.frame.DataFrame'>\n",
      "Int64Index: 164192 entries, 0 to 164783\n",
      "Data columns (total 18 columns):\n",
      " #   Column          Non-Null Count   Dtype  \n",
      "---  ------          --------------   -----  \n",
      " 0   Name            164192 non-null  object \n",
      " 1   Mileage         164192 non-null  int64  \n",
      " 2   Address         164192 non-null  object \n",
      " 3   Rating          164107 non-null  float64\n",
      " 4   Fuel Type       164192 non-null  object \n",
      " 5   City MPG        164192 non-null  int64  \n",
      " 6   Highway MPG     164192 non-null  int64  \n",
      " 7   Drivetrain      164192 non-null  object \n",
      " 8   Engine          164192 non-null  object \n",
      " 9   Exterior Color  164192 non-null  object \n",
      " 10  Interior Color  164192 non-null  object \n",
      " 11  Transmission    164192 non-null  object \n",
      " 12  Entertainment   164192 non-null  object \n",
      " 13  Safety          164192 non-null  object \n",
      " 14  Price           164192 non-null  int64  \n",
      " 15  Model Year      164192 non-null  int64  \n",
      " 16  Car Model       164192 non-null  object \n",
      " 17  Make            164192 non-null  object \n",
      "dtypes: float64(1), int64(5), object(12)\n",
      "memory usage: 23.8+ MB\n"
     ]
    }
   ],
   "source": [
    "#Converse mileage and price to int\n",
    "\n",
    "df['Mileage'] = df['Mileage'].apply(mileage_to_int)\n",
    "\n",
    "df['Price'] = df['Price'].apply(price_to_int)\n",
    "\n",
    "df.info()"
   ]
  },
  {
   "cell_type": "code",
   "execution_count": 17,
   "id": "focal-advertiser",
   "metadata": {},
   "outputs": [
    {
     "data": {
      "text/plain": [
       "0"
      ]
     },
     "execution_count": 17,
     "metadata": {},
     "output_type": "execute_result"
    }
   ],
   "source": [
    "df.Price.isna().sum()"
   ]
  },
  {
   "cell_type": "code",
   "execution_count": 18,
   "id": "brief-husband",
   "metadata": {},
   "outputs": [
    {
     "data": {
      "text/plain": [
       "count    1.641920e+05\n",
       "mean     2.994776e+04\n",
       "std      1.835665e+04\n",
       "min      1.000000e+03\n",
       "25%      1.979100e+04\n",
       "50%      2.699500e+04\n",
       "75%      3.659900e+04\n",
       "max      1.450000e+06\n",
       "Name: Price, dtype: float64"
      ]
     },
     "execution_count": 18,
     "metadata": {},
     "output_type": "execute_result"
    }
   ],
   "source": [
    "df.Price.describe()"
   ]
  },
  {
   "cell_type": "code",
   "execution_count": 19,
   "id": "lesser-porcelain",
   "metadata": {},
   "outputs": [],
   "source": [
    "def num_ent_fea(entertainment):\n",
    "    \n",
    "    if '-1' in entertainment.lower():\n",
    "        return None\n",
    "    else:\n",
    "        return len(entertainment.split(','))\n",
    "\n",
    "def num_safe_fea(safety):\n",
    "    \n",
    "    if '-1' in safety.lower():\n",
    "        return None\n",
    "    else:\n",
    "        return len(safety.split(','))"
   ]
  },
  {
   "cell_type": "code",
   "execution_count": 20,
   "id": "invalid-recognition",
   "metadata": {},
   "outputs": [],
   "source": [
    "df['Entertainment'] = df['Entertainment'].apply(num_ent_fea)\n",
    "df['Safety'] = df['Safety'].apply(num_safe_fea)"
   ]
  },
  {
   "cell_type": "code",
   "execution_count": 21,
   "id": "reverse-mongolia",
   "metadata": {},
   "outputs": [],
   "source": [
    "df.rename(columns={'Entertainment': 'Num_ent_features', 'Safety': 'Num_safe_features'}, inplace=True)"
   ]
  },
  {
   "cell_type": "code",
   "execution_count": 22,
   "id": "outer-vessel",
   "metadata": {},
   "outputs": [
    {
     "name": "stdout",
     "output_type": "stream",
     "text": [
      "<class 'pandas.core.frame.DataFrame'>\n",
      "Int64Index: 164192 entries, 0 to 164783\n",
      "Data columns (total 18 columns):\n",
      " #   Column             Non-Null Count   Dtype  \n",
      "---  ------             --------------   -----  \n",
      " 0   Name               164192 non-null  object \n",
      " 1   Mileage            164192 non-null  int64  \n",
      " 2   Address            164192 non-null  object \n",
      " 3   Rating             164107 non-null  float64\n",
      " 4   Fuel Type          164192 non-null  object \n",
      " 5   City MPG           164192 non-null  int64  \n",
      " 6   Highway MPG        164192 non-null  int64  \n",
      " 7   Drivetrain         164192 non-null  object \n",
      " 8   Engine             164192 non-null  object \n",
      " 9   Exterior Color     164192 non-null  object \n",
      " 10  Interior Color     164192 non-null  object \n",
      " 11  Transmission       164192 non-null  object \n",
      " 12  Num_ent_features   154511 non-null  float64\n",
      " 13  Num_safe_features  160436 non-null  float64\n",
      " 14  Price              164192 non-null  int64  \n",
      " 15  Model Year         164192 non-null  int64  \n",
      " 16  Car Model          164192 non-null  object \n",
      " 17  Make               164192 non-null  object \n",
      "dtypes: float64(3), int64(5), object(10)\n",
      "memory usage: 23.8+ MB\n"
     ]
    }
   ],
   "source": [
    "df.info()"
   ]
  },
  {
   "cell_type": "code",
   "execution_count": 23,
   "id": "internal-singapore",
   "metadata": {},
   "outputs": [
    {
     "data": {
      "text/html": [
       "<div>\n",
       "<style scoped>\n",
       "    .dataframe tbody tr th:only-of-type {\n",
       "        vertical-align: middle;\n",
       "    }\n",
       "\n",
       "    .dataframe tbody tr th {\n",
       "        vertical-align: top;\n",
       "    }\n",
       "\n",
       "    .dataframe thead th {\n",
       "        text-align: right;\n",
       "    }\n",
       "</style>\n",
       "<table border=\"1\" class=\"dataframe\">\n",
       "  <thead>\n",
       "    <tr style=\"text-align: right;\">\n",
       "      <th></th>\n",
       "      <th>Name</th>\n",
       "      <th>Mileage</th>\n",
       "      <th>Address</th>\n",
       "      <th>Rating</th>\n",
       "      <th>Fuel Type</th>\n",
       "      <th>City MPG</th>\n",
       "      <th>Highway MPG</th>\n",
       "      <th>Drivetrain</th>\n",
       "      <th>Engine</th>\n",
       "      <th>Exterior Color</th>\n",
       "      <th>Interior Color</th>\n",
       "      <th>Transmission</th>\n",
       "      <th>Num_ent_features</th>\n",
       "      <th>Num_safe_features</th>\n",
       "      <th>Price</th>\n",
       "      <th>Model Year</th>\n",
       "      <th>Car Model</th>\n",
       "      <th>Make</th>\n",
       "    </tr>\n",
       "  </thead>\n",
       "  <tbody>\n",
       "    <tr>\n",
       "      <th>0</th>\n",
       "      <td>2020 BMW 330 i xDrive</td>\n",
       "      <td>24371</td>\n",
       "      <td>Brooklyn, NY 11203</td>\n",
       "      <td>3.5</td>\n",
       "      <td>Gasoline</td>\n",
       "      <td>25</td>\n",
       "      <td>34</td>\n",
       "      <td>AWD</td>\n",
       "      <td>2.0L I4 16V GDI DOHC Turbo</td>\n",
       "      <td>Jet Black</td>\n",
       "      <td>Black</td>\n",
       "      <td>8-Speed Automatic</td>\n",
       "      <td>2.0</td>\n",
       "      <td>5.0</td>\n",
       "      <td>29893</td>\n",
       "      <td>2020</td>\n",
       "      <td>330</td>\n",
       "      <td>BMW</td>\n",
       "    </tr>\n",
       "    <tr>\n",
       "      <th>1</th>\n",
       "      <td>2015 Audi A6 2.0T Premium Plus</td>\n",
       "      <td>89351</td>\n",
       "      <td>Brooklyn, NY 11207</td>\n",
       "      <td>2.2</td>\n",
       "      <td>Gasoline</td>\n",
       "      <td>20</td>\n",
       "      <td>29</td>\n",
       "      <td>AWD</td>\n",
       "      <td>2.0L I4 16V GDI DOHC Turbo</td>\n",
       "      <td>Gray</td>\n",
       "      <td>-1</td>\n",
       "      <td>8-Speed Automatic</td>\n",
       "      <td>2.0</td>\n",
       "      <td>2.0</td>\n",
       "      <td>16995</td>\n",
       "      <td>2015</td>\n",
       "      <td>A6</td>\n",
       "      <td>Audi</td>\n",
       "    </tr>\n",
       "    <tr>\n",
       "      <th>2</th>\n",
       "      <td>2018 Toyota RAV4 Limited</td>\n",
       "      <td>11863</td>\n",
       "      <td>Brooklyn, NY 11210</td>\n",
       "      <td>3.5</td>\n",
       "      <td>Gasoline</td>\n",
       "      <td>22</td>\n",
       "      <td>28</td>\n",
       "      <td>AWD</td>\n",
       "      <td>2.5L I4 16V MPFI DOHC</td>\n",
       "      <td>Black</td>\n",
       "      <td>Black</td>\n",
       "      <td>6-Speed Automatic</td>\n",
       "      <td>2.0</td>\n",
       "      <td>6.0</td>\n",
       "      <td>26225</td>\n",
       "      <td>2018</td>\n",
       "      <td>RAV4</td>\n",
       "      <td>Toyota</td>\n",
       "    </tr>\n",
       "    <tr>\n",
       "      <th>3</th>\n",
       "      <td>2018 Toyota RAV4 Limited</td>\n",
       "      <td>17501</td>\n",
       "      <td>Brooklyn, NY 11210</td>\n",
       "      <td>3.5</td>\n",
       "      <td>Gasoline</td>\n",
       "      <td>22</td>\n",
       "      <td>28</td>\n",
       "      <td>AWD</td>\n",
       "      <td>2.5L I4 16V MPFI DOHC</td>\n",
       "      <td>Gray</td>\n",
       "      <td>-1</td>\n",
       "      <td>6-Speed Automatic</td>\n",
       "      <td>2.0</td>\n",
       "      <td>6.0</td>\n",
       "      <td>25903</td>\n",
       "      <td>2018</td>\n",
       "      <td>RAV4</td>\n",
       "      <td>Toyota</td>\n",
       "    </tr>\n",
       "    <tr>\n",
       "      <th>4</th>\n",
       "      <td>2019 Honda CR-V EX-L</td>\n",
       "      <td>19241</td>\n",
       "      <td>Brooklyn, NY 11210</td>\n",
       "      <td>3.5</td>\n",
       "      <td>Gasoline</td>\n",
       "      <td>27</td>\n",
       "      <td>33</td>\n",
       "      <td>AWD</td>\n",
       "      <td>1.5L I4 16V GDI DOHC Turbo</td>\n",
       "      <td>Gray</td>\n",
       "      <td>-1</td>\n",
       "      <td>Automatic CVT</td>\n",
       "      <td>2.0</td>\n",
       "      <td>6.0</td>\n",
       "      <td>28145</td>\n",
       "      <td>2019</td>\n",
       "      <td>CR-V</td>\n",
       "      <td>Honda</td>\n",
       "    </tr>\n",
       "  </tbody>\n",
       "</table>\n",
       "</div>"
      ],
      "text/plain": [
       "                              Name  Mileage             Address  Rating  \\\n",
       "0            2020 BMW 330 i xDrive    24371  Brooklyn, NY 11203     3.5   \n",
       "1   2015 Audi A6 2.0T Premium Plus    89351  Brooklyn, NY 11207     2.2   \n",
       "2         2018 Toyota RAV4 Limited    11863  Brooklyn, NY 11210     3.5   \n",
       "3         2018 Toyota RAV4 Limited    17501  Brooklyn, NY 11210     3.5   \n",
       "4             2019 Honda CR-V EX-L    19241  Brooklyn, NY 11210     3.5   \n",
       "\n",
       "   Fuel Type  City MPG  Highway MPG Drivetrain                       Engine  \\\n",
       "0   Gasoline        25           34        AWD   2.0L I4 16V GDI DOHC Turbo   \n",
       "1   Gasoline        20           29        AWD   2.0L I4 16V GDI DOHC Turbo   \n",
       "2   Gasoline        22           28        AWD        2.5L I4 16V MPFI DOHC   \n",
       "3   Gasoline        22           28        AWD        2.5L I4 16V MPFI DOHC   \n",
       "4   Gasoline        27           33        AWD   1.5L I4 16V GDI DOHC Turbo   \n",
       "\n",
       "  Exterior Color Interior Color        Transmission  Num_ent_features  \\\n",
       "0      Jet Black          Black   8-Speed Automatic               2.0   \n",
       "1           Gray             -1   8-Speed Automatic               2.0   \n",
       "2          Black          Black   6-Speed Automatic               2.0   \n",
       "3           Gray             -1   6-Speed Automatic               2.0   \n",
       "4           Gray             -1       Automatic CVT               2.0   \n",
       "\n",
       "   Num_safe_features  Price  Model Year Car Model    Make  \n",
       "0                5.0  29893        2020       330     BMW  \n",
       "1                2.0  16995        2015        A6    Audi  \n",
       "2                6.0  26225        2018      RAV4  Toyota  \n",
       "3                6.0  25903        2018      RAV4  Toyota  \n",
       "4                6.0  28145        2019      CR-V   Honda  "
      ]
     },
     "execution_count": 23,
     "metadata": {},
     "output_type": "execute_result"
    }
   ],
   "source": [
    "df.head()"
   ]
  },
  {
   "cell_type": "code",
   "execution_count": 24,
   "id": "confident-pound",
   "metadata": {},
   "outputs": [
    {
     "data": {
      "text/html": [
       "<div>\n",
       "<style scoped>\n",
       "    .dataframe tbody tr th:only-of-type {\n",
       "        vertical-align: middle;\n",
       "    }\n",
       "\n",
       "    .dataframe tbody tr th {\n",
       "        vertical-align: top;\n",
       "    }\n",
       "\n",
       "    .dataframe thead th {\n",
       "        text-align: right;\n",
       "    }\n",
       "</style>\n",
       "<table border=\"1\" class=\"dataframe\">\n",
       "  <thead>\n",
       "    <tr style=\"text-align: right;\">\n",
       "      <th></th>\n",
       "      <th>Mileage</th>\n",
       "      <th>Rating</th>\n",
       "      <th>City MPG</th>\n",
       "      <th>Highway MPG</th>\n",
       "      <th>Num_ent_features</th>\n",
       "      <th>Num_safe_features</th>\n",
       "      <th>Price</th>\n",
       "      <th>Model Year</th>\n",
       "    </tr>\n",
       "  </thead>\n",
       "  <tbody>\n",
       "    <tr>\n",
       "      <th>count</th>\n",
       "      <td>164192.000000</td>\n",
       "      <td>164107.000000</td>\n",
       "      <td>164192.000000</td>\n",
       "      <td>164192.000000</td>\n",
       "      <td>154511.000000</td>\n",
       "      <td>160436.000000</td>\n",
       "      <td>1.641920e+05</td>\n",
       "      <td>164192.000000</td>\n",
       "    </tr>\n",
       "    <tr>\n",
       "      <th>mean</th>\n",
       "      <td>39345.505256</td>\n",
       "      <td>4.293644</td>\n",
       "      <td>21.253051</td>\n",
       "      <td>29.498161</td>\n",
       "      <td>1.835235</td>\n",
       "      <td>3.670841</td>\n",
       "      <td>2.994776e+04</td>\n",
       "      <td>2017.532955</td>\n",
       "    </tr>\n",
       "    <tr>\n",
       "      <th>std</th>\n",
       "      <td>37424.614714</td>\n",
       "      <td>0.706953</td>\n",
       "      <td>12.536565</td>\n",
       "      <td>24.961548</td>\n",
       "      <td>0.713623</td>\n",
       "      <td>1.394186</td>\n",
       "      <td>1.835665e+04</td>\n",
       "      <td>3.022629</td>\n",
       "    </tr>\n",
       "    <tr>\n",
       "      <th>min</th>\n",
       "      <td>1.000000</td>\n",
       "      <td>1.000000</td>\n",
       "      <td>-1.000000</td>\n",
       "      <td>-1.000000</td>\n",
       "      <td>1.000000</td>\n",
       "      <td>1.000000</td>\n",
       "      <td>1.000000e+03</td>\n",
       "      <td>2001.000000</td>\n",
       "    </tr>\n",
       "    <tr>\n",
       "      <th>25%</th>\n",
       "      <td>14886.000000</td>\n",
       "      <td>4.100000</td>\n",
       "      <td>17.000000</td>\n",
       "      <td>24.000000</td>\n",
       "      <td>1.000000</td>\n",
       "      <td>3.000000</td>\n",
       "      <td>1.979100e+04</td>\n",
       "      <td>2017.000000</td>\n",
       "    </tr>\n",
       "    <tr>\n",
       "      <th>50%</th>\n",
       "      <td>30071.500000</td>\n",
       "      <td>4.500000</td>\n",
       "      <td>20.000000</td>\n",
       "      <td>28.000000</td>\n",
       "      <td>2.000000</td>\n",
       "      <td>3.000000</td>\n",
       "      <td>2.699500e+04</td>\n",
       "      <td>2018.000000</td>\n",
       "    </tr>\n",
       "    <tr>\n",
       "      <th>75%</th>\n",
       "      <td>50143.500000</td>\n",
       "      <td>4.800000</td>\n",
       "      <td>24.000000</td>\n",
       "      <td>32.000000</td>\n",
       "      <td>2.000000</td>\n",
       "      <td>5.000000</td>\n",
       "      <td>3.659900e+04</td>\n",
       "      <td>2019.000000</td>\n",
       "    </tr>\n",
       "    <tr>\n",
       "      <th>max</th>\n",
       "      <td>999999.000000</td>\n",
       "      <td>5.000000</td>\n",
       "      <td>264.000000</td>\n",
       "      <td>684.000000</td>\n",
       "      <td>4.000000</td>\n",
       "      <td>7.000000</td>\n",
       "      <td>1.450000e+06</td>\n",
       "      <td>2022.000000</td>\n",
       "    </tr>\n",
       "  </tbody>\n",
       "</table>\n",
       "</div>"
      ],
      "text/plain": [
       "             Mileage         Rating       City MPG    Highway MPG  \\\n",
       "count  164192.000000  164107.000000  164192.000000  164192.000000   \n",
       "mean    39345.505256       4.293644      21.253051      29.498161   \n",
       "std     37424.614714       0.706953      12.536565      24.961548   \n",
       "min         1.000000       1.000000      -1.000000      -1.000000   \n",
       "25%     14886.000000       4.100000      17.000000      24.000000   \n",
       "50%     30071.500000       4.500000      20.000000      28.000000   \n",
       "75%     50143.500000       4.800000      24.000000      32.000000   \n",
       "max    999999.000000       5.000000     264.000000     684.000000   \n",
       "\n",
       "       Num_ent_features  Num_safe_features         Price     Model Year  \n",
       "count     154511.000000      160436.000000  1.641920e+05  164192.000000  \n",
       "mean           1.835235           3.670841  2.994776e+04    2017.532955  \n",
       "std            0.713623           1.394186  1.835665e+04       3.022629  \n",
       "min            1.000000           1.000000  1.000000e+03    2001.000000  \n",
       "25%            1.000000           3.000000  1.979100e+04    2017.000000  \n",
       "50%            2.000000           3.000000  2.699500e+04    2018.000000  \n",
       "75%            2.000000           5.000000  3.659900e+04    2019.000000  \n",
       "max            4.000000           7.000000  1.450000e+06    2022.000000  "
      ]
     },
     "execution_count": 24,
     "metadata": {},
     "output_type": "execute_result"
    }
   ],
   "source": [
    "df.describe()"
   ]
  },
  {
   "cell_type": "code",
   "execution_count": 25,
   "id": "digital-prerequisite",
   "metadata": {},
   "outputs": [],
   "source": [
    "def define_transmission(transmission):\n",
    "    \n",
    "    if 'automatic' in transmission.lower():\n",
    "        return 'Automatic'\n",
    "    \n",
    "    elif 'manual' in transmission.lower():\n",
    "        return 'Manual'\n",
    "    \n",
    "    else:\n",
    "        return None"
   ]
  },
  {
   "cell_type": "code",
   "execution_count": 26,
   "id": "greek-mortality",
   "metadata": {},
   "outputs": [],
   "source": [
    "df['Transmission'] = df['Transmission'].apply(define_transmission)"
   ]
  },
  {
   "cell_type": "code",
   "execution_count": 27,
   "id": "revised-tower",
   "metadata": {},
   "outputs": [
    {
     "data": {
      "text/plain": [
       "Automatic    158600\n",
       "Manual         3164\n",
       "Name: Transmission, dtype: int64"
      ]
     },
     "execution_count": 27,
     "metadata": {},
     "output_type": "execute_result"
    }
   ],
   "source": [
    "df['Transmission'].value_counts()"
   ]
  },
  {
   "cell_type": "code",
   "execution_count": 28,
   "id": "specified-journalism",
   "metadata": {},
   "outputs": [
    {
     "data": {
      "text/plain": [
       "2428"
      ]
     },
     "execution_count": 28,
     "metadata": {},
     "output_type": "execute_result"
    }
   ],
   "source": [
    "df['Transmission'].isna().sum()"
   ]
  },
  {
   "cell_type": "code",
   "execution_count": 29,
   "id": "charming-tongue",
   "metadata": {},
   "outputs": [
    {
     "data": {
      "text/html": [
       "<div>\n",
       "<style scoped>\n",
       "    .dataframe tbody tr th:only-of-type {\n",
       "        vertical-align: middle;\n",
       "    }\n",
       "\n",
       "    .dataframe tbody tr th {\n",
       "        vertical-align: top;\n",
       "    }\n",
       "\n",
       "    .dataframe thead th {\n",
       "        text-align: right;\n",
       "    }\n",
       "</style>\n",
       "<table border=\"1\" class=\"dataframe\">\n",
       "  <thead>\n",
       "    <tr style=\"text-align: right;\">\n",
       "      <th></th>\n",
       "      <th>Name</th>\n",
       "      <th>Mileage</th>\n",
       "      <th>Address</th>\n",
       "      <th>Rating</th>\n",
       "      <th>Fuel Type</th>\n",
       "      <th>City MPG</th>\n",
       "      <th>Highway MPG</th>\n",
       "      <th>Drivetrain</th>\n",
       "      <th>Engine</th>\n",
       "      <th>Exterior Color</th>\n",
       "      <th>Interior Color</th>\n",
       "      <th>Transmission</th>\n",
       "      <th>Num_ent_features</th>\n",
       "      <th>Num_safe_features</th>\n",
       "      <th>Price</th>\n",
       "      <th>Model Year</th>\n",
       "      <th>Car Model</th>\n",
       "      <th>Make</th>\n",
       "    </tr>\n",
       "  </thead>\n",
       "  <tbody>\n",
       "    <tr>\n",
       "      <th>0</th>\n",
       "      <td>2020 BMW 330 i xDrive</td>\n",
       "      <td>24371</td>\n",
       "      <td>Brooklyn, NY 11203</td>\n",
       "      <td>3.5</td>\n",
       "      <td>Gasoline</td>\n",
       "      <td>25</td>\n",
       "      <td>34</td>\n",
       "      <td>AWD</td>\n",
       "      <td>2.0L I4 16V GDI DOHC Turbo</td>\n",
       "      <td>Jet Black</td>\n",
       "      <td>Black</td>\n",
       "      <td>Automatic</td>\n",
       "      <td>2.0</td>\n",
       "      <td>5.0</td>\n",
       "      <td>29893</td>\n",
       "      <td>2020</td>\n",
       "      <td>330</td>\n",
       "      <td>BMW</td>\n",
       "    </tr>\n",
       "    <tr>\n",
       "      <th>1</th>\n",
       "      <td>2015 Audi A6 2.0T Premium Plus</td>\n",
       "      <td>89351</td>\n",
       "      <td>Brooklyn, NY 11207</td>\n",
       "      <td>2.2</td>\n",
       "      <td>Gasoline</td>\n",
       "      <td>20</td>\n",
       "      <td>29</td>\n",
       "      <td>AWD</td>\n",
       "      <td>2.0L I4 16V GDI DOHC Turbo</td>\n",
       "      <td>Gray</td>\n",
       "      <td>-1</td>\n",
       "      <td>Automatic</td>\n",
       "      <td>2.0</td>\n",
       "      <td>2.0</td>\n",
       "      <td>16995</td>\n",
       "      <td>2015</td>\n",
       "      <td>A6</td>\n",
       "      <td>Audi</td>\n",
       "    </tr>\n",
       "    <tr>\n",
       "      <th>2</th>\n",
       "      <td>2018 Toyota RAV4 Limited</td>\n",
       "      <td>11863</td>\n",
       "      <td>Brooklyn, NY 11210</td>\n",
       "      <td>3.5</td>\n",
       "      <td>Gasoline</td>\n",
       "      <td>22</td>\n",
       "      <td>28</td>\n",
       "      <td>AWD</td>\n",
       "      <td>2.5L I4 16V MPFI DOHC</td>\n",
       "      <td>Black</td>\n",
       "      <td>Black</td>\n",
       "      <td>Automatic</td>\n",
       "      <td>2.0</td>\n",
       "      <td>6.0</td>\n",
       "      <td>26225</td>\n",
       "      <td>2018</td>\n",
       "      <td>RAV4</td>\n",
       "      <td>Toyota</td>\n",
       "    </tr>\n",
       "    <tr>\n",
       "      <th>3</th>\n",
       "      <td>2018 Toyota RAV4 Limited</td>\n",
       "      <td>17501</td>\n",
       "      <td>Brooklyn, NY 11210</td>\n",
       "      <td>3.5</td>\n",
       "      <td>Gasoline</td>\n",
       "      <td>22</td>\n",
       "      <td>28</td>\n",
       "      <td>AWD</td>\n",
       "      <td>2.5L I4 16V MPFI DOHC</td>\n",
       "      <td>Gray</td>\n",
       "      <td>-1</td>\n",
       "      <td>Automatic</td>\n",
       "      <td>2.0</td>\n",
       "      <td>6.0</td>\n",
       "      <td>25903</td>\n",
       "      <td>2018</td>\n",
       "      <td>RAV4</td>\n",
       "      <td>Toyota</td>\n",
       "    </tr>\n",
       "    <tr>\n",
       "      <th>4</th>\n",
       "      <td>2019 Honda CR-V EX-L</td>\n",
       "      <td>19241</td>\n",
       "      <td>Brooklyn, NY 11210</td>\n",
       "      <td>3.5</td>\n",
       "      <td>Gasoline</td>\n",
       "      <td>27</td>\n",
       "      <td>33</td>\n",
       "      <td>AWD</td>\n",
       "      <td>1.5L I4 16V GDI DOHC Turbo</td>\n",
       "      <td>Gray</td>\n",
       "      <td>-1</td>\n",
       "      <td>Automatic</td>\n",
       "      <td>2.0</td>\n",
       "      <td>6.0</td>\n",
       "      <td>28145</td>\n",
       "      <td>2019</td>\n",
       "      <td>CR-V</td>\n",
       "      <td>Honda</td>\n",
       "    </tr>\n",
       "  </tbody>\n",
       "</table>\n",
       "</div>"
      ],
      "text/plain": [
       "                              Name  Mileage             Address  Rating  \\\n",
       "0            2020 BMW 330 i xDrive    24371  Brooklyn, NY 11203     3.5   \n",
       "1   2015 Audi A6 2.0T Premium Plus    89351  Brooklyn, NY 11207     2.2   \n",
       "2         2018 Toyota RAV4 Limited    11863  Brooklyn, NY 11210     3.5   \n",
       "3         2018 Toyota RAV4 Limited    17501  Brooklyn, NY 11210     3.5   \n",
       "4             2019 Honda CR-V EX-L    19241  Brooklyn, NY 11210     3.5   \n",
       "\n",
       "   Fuel Type  City MPG  Highway MPG Drivetrain                       Engine  \\\n",
       "0   Gasoline        25           34        AWD   2.0L I4 16V GDI DOHC Turbo   \n",
       "1   Gasoline        20           29        AWD   2.0L I4 16V GDI DOHC Turbo   \n",
       "2   Gasoline        22           28        AWD        2.5L I4 16V MPFI DOHC   \n",
       "3   Gasoline        22           28        AWD        2.5L I4 16V MPFI DOHC   \n",
       "4   Gasoline        27           33        AWD   1.5L I4 16V GDI DOHC Turbo   \n",
       "\n",
       "  Exterior Color Interior Color Transmission  Num_ent_features  \\\n",
       "0      Jet Black          Black    Automatic               2.0   \n",
       "1           Gray             -1    Automatic               2.0   \n",
       "2          Black          Black    Automatic               2.0   \n",
       "3           Gray             -1    Automatic               2.0   \n",
       "4           Gray             -1    Automatic               2.0   \n",
       "\n",
       "   Num_safe_features  Price  Model Year Car Model    Make  \n",
       "0                5.0  29893        2020       330     BMW  \n",
       "1                2.0  16995        2015        A6    Audi  \n",
       "2                6.0  26225        2018      RAV4  Toyota  \n",
       "3                6.0  25903        2018      RAV4  Toyota  \n",
       "4                6.0  28145        2019      CR-V   Honda  "
      ]
     },
     "execution_count": 29,
     "metadata": {},
     "output_type": "execute_result"
    }
   ],
   "source": [
    "df.head()"
   ]
  },
  {
   "cell_type": "code",
   "execution_count": 30,
   "id": "orange-height",
   "metadata": {},
   "outputs": [
    {
     "data": {
      "text/plain": [
       " 2.0L I4 16V GDI DOHC Turbo                          19350\n",
       " 3.6L V6 24V MPFI DOHC                                7164\n",
       " 1.5L I4 16V GDI DOHC Turbo                           6668\n",
       " 3.6L V6 24V GDI DOHC                                 5531\n",
       " 3.5L V6 24V MPFI DOHC                                4743\n",
       " 5.3L V8 16V GDI OHV                                  4671\n",
       " 2.4L I4 16V GDI DOHC                                 4565\n",
       " 2.5L I4 16V MPFI DOHC                                4243\n",
       " 2.0L I4 16V MPFI DOHC                                3866\n",
       " 3.5L V6 24V PDI DOHC                                 3015\n",
       " 2.5L I4 16V GDI DOHC                                 3007\n",
       " 2.4L I4 16V MPFI SOHC                                2868\n",
       " 5.7L V8 16V MPFI OHV                                 2863\n",
       " 3.5L V6 24V GDI DOHC                                 2796\n",
       " 3.5L V6 24V GDI SOHC                                 2736\n",
       " 3.0L V6 24V GDI DOHC Twin Turbo                      2589\n",
       " 2.0L I4 16V GDI DOHC                                 2457\n",
       " 2.5L I4 16V PDI DOHC                                 2446\n",
       " 1.8L I4 16V MPFI DOHC                                2238\n",
       " 3.0L I6 24V GDI DOHC Turbo                           2011\n",
       " Electric                                             1929\n",
       " Intercooled Turbo Premium Unleaded I-4 2.0 L/122     1701\n",
       " 3.5L V6 24V GDI DOHC Twin Turbo                      1630\n",
       " 6.2L V8 16V GDI OHV                                  1587\n",
       " Intercooled Turbo Premium Unleaded I-4 2.0 L/121     1419\n",
       " 2.0L I4 16V PDI DOHC Turbo                           1417\n",
       " 1.4L I4 16V MPFI DOHC Turbo                          1345\n",
       " 1.4L I4 16V GDI DOHC Turbo                           1326\n",
       " 2.3L I4 16V GDI DOHC Turbo                           1295\n",
       " 3.0L V6 24V GDI DOHC Supercharged                    1263\n",
       " 1.6L I4 16V GDI DOHC Turbo                           1254\n",
       " 2.4L I4 16V MPFI DOHC                                1248\n",
       " 5.6L V8 32V GDI DOHC                                 1228\n",
       " 3.5L V6 24V MPFI SOHC                                1185\n",
       " 2.5L H4 16V MPFI DOHC                                1176\n",
       " 4.0L V6 24V MPFI DOHC                                1143\n",
       " 3.5L V6 24V PDI DOHC Twin Turbo                      1107\n",
       " Regular Unleaded V-6 3.6 L/220                       1065\n",
       " 3.7L V6 24V MPFI DOHC                                1026\n",
       " 1.6L I4 16V MPFI DOHC                                1012\n",
       " 3.6L V6 24V MPFI DOHC Flexible Fuel                   936\n",
       " 5.0L V8 32V PDI DOHC                                  875\n",
       " 2.7L V6 24V PDI DOHC Twin Turbo                       849\n",
       " 3.2L V6 24V MPFI DOHC                                 844\n",
       " 5.7L V8 32V MPFI DOHC                                 821\n",
       " 1.8L I4 16V MPFI DOHC Hybrid                          790\n",
       " 3.0L V6 24V GDI DOHC Turbo                            770\n",
       " 2.0L H4 16V GDI DOHC                                  768\n",
       " 6.7L V8 32V DDI OHV Turbo Diesel                      721\n",
       " 1.8L I4 16V MPFI SOHC                                 677\n",
       "Name: Engine, dtype: int64"
      ]
     },
     "execution_count": 30,
     "metadata": {},
     "output_type": "execute_result"
    }
   ],
   "source": [
    "df.Engine.value_counts().head(50)"
   ]
  },
  {
   "cell_type": "code",
   "execution_count": 31,
   "id": "finite-least",
   "metadata": {},
   "outputs": [],
   "source": [
    "def define_engine(engine):\n",
    "    \n",
    "    if '-1' in engine.lower():\n",
    "        return None\n",
    "    \n",
    "    elif 'intercooled' in engine.lower() or 'regular' in engine.lower() or 'electric' in engine.lower():\n",
    "        return engine.strip()\n",
    "    \n",
    "    else:\n",
    "        return engine.strip().split(' ')[0]"
   ]
  },
  {
   "cell_type": "code",
   "execution_count": 32,
   "id": "black-sugar",
   "metadata": {},
   "outputs": [],
   "source": [
    "df['Engine'] = df['Engine'].apply(define_engine)"
   ]
  },
  {
   "cell_type": "code",
   "execution_count": 33,
   "id": "interior-kitty",
   "metadata": {
    "scrolled": true
   },
   "outputs": [
    {
     "data": {
      "text/plain": [
       "2.0L                                                       32020\n",
       "3.5L                                                       18248\n",
       "3.6L                                                       14372\n",
       "2.5L                                                       14242\n",
       "2.4L                                                        9210\n",
       "1.5L                                                        8211\n",
       "3.0L                                                        8206\n",
       "5.3L                                                        5281\n",
       "Other                                                       5016\n",
       "1.8L                                                        4201\n",
       "5.7L                                                        3748\n",
       "1.6L                                                        3044\n",
       "1.4L                                                        3039\n",
       "6.2L                                                        2308\n",
       "Electric                                                    1929\n",
       "5.0L                                                        1906\n",
       "4.0L                                                        1855\n",
       "2.7L                                                        1764\n",
       "Intercooled Turbo Premium Unleaded I-4 2.0 L/122            1701\n",
       "Intercooled Turbo Premium Unleaded I-4 2.0 L/121            1419\n",
       "2.3L                                                        1403\n",
       "3.7L                                                        1353\n",
       "5.6L                                                        1289\n",
       "Gas                                                         1286\n",
       "6.7L                                                        1220\n",
       "Regular Unleaded V-6 3.6 L/220                              1065\n",
       "3.2L                                                         981\n",
       "3.3L                                                         924\n",
       "3.8L                                                         917\n",
       "Premium                                                      912\n",
       "4.6L                                                         860\n",
       "6.6L                                                         729\n",
       "Twin                                                         715\n",
       "4.7L                                                         665\n",
       "Regular Unleaded I-4 2.5 L/152                               645\n",
       "4.4L                                                         641\n",
       "6.4L                                                         605\n",
       "Regular Unleaded V-6 3.5 L/211                               593\n",
       "6.0L                                                         488\n",
       "I4                                                           437\n",
       "Intercooled Supercharger Premium Unleaded V-6 3.0 L/183      436\n",
       "Intercooled Turbo Premium Unleaded I-6 3.0 L/183             392\n",
       "Regular Unleaded V-8 5.7 L/345                               386\n",
       "Turbocharged                                                 370\n",
       "4.3L                                                         361\n",
       "Regular Unleaded I-4 2.4 L/144                               350\n",
       "1.3L                                                         334\n",
       "V6                                                           279\n",
       "Gas/Ethanol                                                  261\n",
       "5.4L                                                         258\n",
       "Regular Unleaded V-6 3.5 L/212                               250\n",
       "5.5L                                                         221\n",
       "Intercooled Turbo Regular Unleaded I-4 1.5 L/91              199\n",
       "1.2L                                                         198\n",
       "1.0L                                                         171\n",
       "Regular Unleaded H-4 2.5 L/152                               171\n",
       "Name: Engine, dtype: int64"
      ]
     },
     "execution_count": 33,
     "metadata": {},
     "output_type": "execute_result"
    }
   ],
   "source": [
    "other_engine = df['Engine'].value_counts()[df['Engine'].value_counts() <= df.shape[0]*0.001].index\n",
    "df['Engine'] = df['Engine'].replace(other_engine, 'Other')\n",
    "df['Engine'].value_counts()"
   ]
  },
  {
   "cell_type": "code",
   "execution_count": 34,
   "id": "split-round",
   "metadata": {},
   "outputs": [
    {
     "data": {
      "text/plain": [
       "107"
      ]
     },
     "execution_count": 34,
     "metadata": {},
     "output_type": "execute_result"
    }
   ],
   "source": [
    "df.Engine.isna().sum()"
   ]
  },
  {
   "cell_type": "code",
   "execution_count": 35,
   "id": "double-radiation",
   "metadata": {
    "scrolled": false
   },
   "outputs": [
    {
     "data": {
      "text/plain": [
       " Black                                 14244\n",
       " White                                 10507\n",
       " Gray                                   6568\n",
       " Silver                                 5042\n",
       " Summit White                           3456\n",
       " Blue                                   3408\n",
       " Red                                    2516\n",
       " Bright White Clearcoat                 2433\n",
       " Granite Crystal Clearcoat Metallic     1879\n",
       " Oxford White                           1810\n",
       " Gun Metallic                           1784\n",
       " Silver Ice Metallic                    1537\n",
       "-1                                      1479\n",
       " Diamond Black                          1463\n",
       " Crystal Black Pearl                    1413\n",
       " Shadow Black                           1310\n",
       " Alpine White                           1303\n",
       " Super White                            1229\n",
       " Billet Silver Metallic Clearcoat       1201\n",
       " Polar White                            1170\n",
       " Modern Steel Metallic                  1114\n",
       " Pure White                             1022\n",
       " Black Sapphire Metallic                 979\n",
       " Magnetic Metallic                       961\n",
       " Black Clearcoat                         902\n",
       " Midnight Black Metallic                 896\n",
       " Mosaic Black Metallic                   852\n",
       " Magnetic Gray Metallic                  845\n",
       " Jet Black                               812\n",
       " Deep Black Pearl Effect                 794\n",
       "Name: Exterior Color, dtype: int64"
      ]
     },
     "execution_count": 35,
     "metadata": {},
     "output_type": "execute_result"
    }
   ],
   "source": [
    "df['Exterior Color'].value_counts().head(30)"
   ]
  },
  {
   "cell_type": "code",
   "execution_count": 36,
   "id": "lesser-nutrition",
   "metadata": {},
   "outputs": [],
   "source": [
    "def define_exterior_color(exterior_color):\n",
    "    \n",
    "    if 'black' in exterior_color.lower():\n",
    "        return 'Black'\n",
    "    \n",
    "    elif 'white' in exterior_color.lower():\n",
    "        return 'White'\n",
    "    \n",
    "    elif 'gray' in exterior_color.lower():\n",
    "        return 'Gray'\n",
    "    \n",
    "    elif 'silver' in exterior_color.lower():\n",
    "        return 'Silver'\n",
    "    \n",
    "    elif 'blue' in exterior_color.lower():\n",
    "        return 'Blue'\n",
    "    \n",
    "    elif 'red' in exterior_color.lower():\n",
    "        return 'Red'\n",
    "    \n",
    "    elif 'metallic' in exterior_color.lower():\n",
    "        return 'Metallic'\n",
    "    \n",
    "    elif '-1' in exterior_color.lower():\n",
    "        return np.nan\n",
    "    \n",
    "    else:\n",
    "        return 'Other'"
   ]
  },
  {
   "cell_type": "code",
   "execution_count": 37,
   "id": "reliable-hayes",
   "metadata": {},
   "outputs": [],
   "source": [
    "df['Exterior Color'] = df['Exterior Color'].apply(define_exterior_color)"
   ]
  },
  {
   "cell_type": "code",
   "execution_count": 38,
   "id": "moving-spice",
   "metadata": {},
   "outputs": [
    {
     "data": {
      "text/plain": [
       "Black       37686\n",
       "White       36543\n",
       "Silver      20287\n",
       "Gray        16819\n",
       "Blue        14217\n",
       "Other       13368\n",
       "Metallic    12843\n",
       "Red         10950\n",
       "Name: Exterior Color, dtype: int64"
      ]
     },
     "execution_count": 38,
     "metadata": {},
     "output_type": "execute_result"
    }
   ],
   "source": [
    "df['Exterior Color'].value_counts()"
   ]
  },
  {
   "cell_type": "code",
   "execution_count": 39,
   "id": "accurate-cassette",
   "metadata": {},
   "outputs": [
    {
     "data": {
      "text/plain": [
       "1479"
      ]
     },
     "execution_count": 39,
     "metadata": {},
     "output_type": "execute_result"
    }
   ],
   "source": [
    "df['Exterior Color'].isna().sum()"
   ]
  },
  {
   "cell_type": "code",
   "execution_count": 40,
   "id": "japanese-flavor",
   "metadata": {},
   "outputs": [
    {
     "data": {
      "text/plain": [
       " Black                  60765\n",
       "-1                      20402\n",
       " Jet Black               9899\n",
       " Gray                    9600\n",
       " Ebony                   7649\n",
       " Charcoal                5625\n",
       " Beige                   3559\n",
       " Graphite                3112\n",
       " Titan Black             2106\n",
       " Charcoal Black          2016\n",
       " Ash                     1388\n",
       " Ivory                   1051\n",
       " Tan                     1026\n",
       " Parchment                989\n",
       " Ebony Black              947\n",
       " Medium Earth Gray        936\n",
       " Brown                    848\n",
       " Red                      771\n",
       " Sport                    638\n",
       " Diesel Gray / Black      637\n",
       " Light Gray               580\n",
       " Medium Ash Gray          501\n",
       " Medium Light Stone       473\n",
       " Dark Gray                444\n",
       " Carbon Black             441\n",
       " Mocha                    431\n",
       " Wheat                    428\n",
       " Almond                   411\n",
       " Cocoa / Dune             411\n",
       " Ebony / Ebony            398\n",
       "Name: Interior Color, dtype: int64"
      ]
     },
     "execution_count": 40,
     "metadata": {},
     "output_type": "execute_result"
    }
   ],
   "source": [
    "df['Interior Color'].value_counts().head(30)"
   ]
  },
  {
   "cell_type": "code",
   "execution_count": 41,
   "id": "stuck-conference",
   "metadata": {},
   "outputs": [],
   "source": [
    "def define_interior_color(interior_color):\n",
    "\n",
    "    if 'ebony' in interior_color.lower() or 'ebony black' in interior_color.lower():\n",
    "        return 'Ebony'\n",
    "    \n",
    "    elif 'black' in interior_color.lower():\n",
    "        return 'Black'\n",
    "    \n",
    "    elif 'gray' in interior_color.lower():\n",
    "        return 'Gray'\n",
    "    \n",
    "    elif 'charcoal' in interior_color.lower():\n",
    "        return 'Charcoal'\n",
    "    \n",
    "    elif 'graphite' in interior_color.lower():\n",
    "        return 'Graphite'\n",
    "    \n",
    "    elif '-1' in interior_color.lower():\n",
    "        return np.nan\n",
    "    \n",
    "    else:\n",
    "        return 'Other'"
   ]
  },
  {
   "cell_type": "code",
   "execution_count": 42,
   "id": "touched-argument",
   "metadata": {},
   "outputs": [],
   "source": [
    "df['Interior Color'] = df['Interior Color'].apply(define_interior_color)"
   ]
  },
  {
   "cell_type": "code",
   "execution_count": 43,
   "id": "static-ranking",
   "metadata": {},
   "outputs": [
    {
     "data": {
      "text/plain": [
       "Black       82046\n",
       "Other       27853\n",
       "Gray        15091\n",
       "Ebony        9746\n",
       "Charcoal     5794\n",
       "Graphite     3260\n",
       "Name: Interior Color, dtype: int64"
      ]
     },
     "execution_count": 43,
     "metadata": {},
     "output_type": "execute_result"
    }
   ],
   "source": [
    "df['Interior Color'].value_counts()"
   ]
  },
  {
   "cell_type": "code",
   "execution_count": 44,
   "id": "prescription-proceeding",
   "metadata": {},
   "outputs": [],
   "source": [
    "def define_drivetrain(drivetrain):\n",
    "    \n",
    "    if 'fwd' in drivetrain.lower() or 'front wheel drive' in drivetrain.lower() or 'front-wheel drive' in drivetrain.lower():\n",
    "        return 'FWD'\n",
    "    \n",
    "    elif 'awd' in drivetrain.lower() or 'all wheel drive' in drivetrain.lower() or 'all-wheel drive' in drivetrain.lower():\n",
    "        return 'AWD'\n",
    "    \n",
    "    elif '4wd' in drivetrain.lower() or 'four wheel drive' in drivetrain.lower() or 'four-wheel drive' in drivetrain.lower():\n",
    "        return '4WD'\n",
    "    \n",
    "    elif 'rwd' in drivetrain.lower() or 'rear wheel drive' in drivetrain.lower() or 'rear-wheel drive' in drivetrain.lower():\n",
    "        return 'RWD'\n",
    "    \n",
    "    else:\n",
    "        return np.nan"
   ]
  },
  {
   "cell_type": "code",
   "execution_count": 45,
   "id": "closed-architecture",
   "metadata": {},
   "outputs": [],
   "source": [
    "df['Drivetrain'] = df['Drivetrain'].apply(define_drivetrain)"
   ]
  },
  {
   "cell_type": "code",
   "execution_count": 46,
   "id": "bizarre-projector",
   "metadata": {},
   "outputs": [
    {
     "data": {
      "text/plain": [
       "FWD    54973\n",
       "AWD    54741\n",
       "4WD    34574\n",
       "RWD    19327\n",
       "Name: Drivetrain, dtype: int64"
      ]
     },
     "execution_count": 46,
     "metadata": {},
     "output_type": "execute_result"
    }
   ],
   "source": [
    "df['Drivetrain'].value_counts()"
   ]
  },
  {
   "cell_type": "code",
   "execution_count": 47,
   "id": "experimental-integral",
   "metadata": {},
   "outputs": [],
   "source": [
    "      \n",
    "df['City MPG'] = df['City MPG'].apply(lambda x: np.nan if x == -1 else x)\n",
    "\n",
    "df['City MPG'].fillna(df['City MPG'].median(), inplace=True)\n",
    "\n",
    "df['Highway MPG'] = df['Highway MPG'].apply(lambda x: np.nan if x == -1 else x)\n",
    "\n",
    "df['Highway MPG'].fillna(df['Highway MPG'].median(), inplace=True)"
   ]
  },
  {
   "cell_type": "code",
   "execution_count": 48,
   "id": "aquatic-terry",
   "metadata": {},
   "outputs": [
    {
     "data": {
      "text/plain": [
       "Name                     0\n",
       "Mileage                  0\n",
       "Address                  0\n",
       "Rating                  85\n",
       "Fuel Type                0\n",
       "City MPG                 0\n",
       "Highway MPG              0\n",
       "Drivetrain             577\n",
       "Engine                 107\n",
       "Exterior Color        1479\n",
       "Interior Color       20402\n",
       "Transmission          2428\n",
       "Num_ent_features      9681\n",
       "Num_safe_features     3756\n",
       "Price                    0\n",
       "Model Year               0\n",
       "Car Model                0\n",
       "Make                     0\n",
       "dtype: int64"
      ]
     },
     "execution_count": 48,
     "metadata": {},
     "output_type": "execute_result"
    }
   ],
   "source": [
    "df.isna().sum()"
   ]
  },
  {
   "cell_type": "code",
   "execution_count": 49,
   "id": "retired-hudson",
   "metadata": {},
   "outputs": [
    {
     "name": "stdout",
     "output_type": "stream",
     "text": [
      "Shape of dataframe before dropping rows that contain null values: 164192\n",
      "Shape of dataframe after dropping rows that contain null values: 133214\n"
     ]
    }
   ],
   "source": [
    "print('Shape of dataframe before dropping rows that contain null values: {}'.format(df.shape[0]))\n",
    "df.dropna(inplace=True)\n",
    "print('Shape of dataframe after dropping rows that contain null values: {}'.format(df.shape[0]))"
   ]
  },
  {
   "cell_type": "code",
   "execution_count": 50,
   "id": "professional-pharmacology",
   "metadata": {},
   "outputs": [
    {
     "data": {
      "text/html": [
       "<div>\n",
       "<style scoped>\n",
       "    .dataframe tbody tr th:only-of-type {\n",
       "        vertical-align: middle;\n",
       "    }\n",
       "\n",
       "    .dataframe tbody tr th {\n",
       "        vertical-align: top;\n",
       "    }\n",
       "\n",
       "    .dataframe thead th {\n",
       "        text-align: right;\n",
       "    }\n",
       "</style>\n",
       "<table border=\"1\" class=\"dataframe\">\n",
       "  <thead>\n",
       "    <tr style=\"text-align: right;\">\n",
       "      <th></th>\n",
       "      <th>Mileage</th>\n",
       "      <th>Rating</th>\n",
       "      <th>City MPG</th>\n",
       "      <th>Highway MPG</th>\n",
       "      <th>Num_ent_features</th>\n",
       "      <th>Num_safe_features</th>\n",
       "      <th>Price</th>\n",
       "      <th>Model Year</th>\n",
       "    </tr>\n",
       "  </thead>\n",
       "  <tbody>\n",
       "    <tr>\n",
       "      <th>count</th>\n",
       "      <td>133214.000000</td>\n",
       "      <td>133214.000000</td>\n",
       "      <td>133214.000000</td>\n",
       "      <td>133214.000000</td>\n",
       "      <td>133214.000000</td>\n",
       "      <td>133214.000000</td>\n",
       "      <td>1.332140e+05</td>\n",
       "      <td>133214.000000</td>\n",
       "    </tr>\n",
       "    <tr>\n",
       "      <th>mean</th>\n",
       "      <td>35433.224458</td>\n",
       "      <td>4.333235</td>\n",
       "      <td>22.486946</td>\n",
       "      <td>30.619905</td>\n",
       "      <td>1.861816</td>\n",
       "      <td>3.763974</td>\n",
       "      <td>3.076880e+04</td>\n",
       "      <td>2017.932695</td>\n",
       "    </tr>\n",
       "    <tr>\n",
       "      <th>std</th>\n",
       "      <td>32453.706306</td>\n",
       "      <td>0.675965</td>\n",
       "      <td>11.175377</td>\n",
       "      <td>21.655690</td>\n",
       "      <td>0.715276</td>\n",
       "      <td>1.364227</td>\n",
       "      <td>1.884246e+04</td>\n",
       "      <td>2.433478</td>\n",
       "    </tr>\n",
       "    <tr>\n",
       "      <th>min</th>\n",
       "      <td>1.000000</td>\n",
       "      <td>1.000000</td>\n",
       "      <td>0.000000</td>\n",
       "      <td>0.000000</td>\n",
       "      <td>1.000000</td>\n",
       "      <td>1.000000</td>\n",
       "      <td>1.500000e+03</td>\n",
       "      <td>2001.000000</td>\n",
       "    </tr>\n",
       "    <tr>\n",
       "      <th>25%</th>\n",
       "      <td>13324.000000</td>\n",
       "      <td>4.200000</td>\n",
       "      <td>18.000000</td>\n",
       "      <td>25.000000</td>\n",
       "      <td>1.000000</td>\n",
       "      <td>3.000000</td>\n",
       "      <td>2.000000e+04</td>\n",
       "      <td>2017.000000</td>\n",
       "    </tr>\n",
       "    <tr>\n",
       "      <th>50%</th>\n",
       "      <td>28779.000000</td>\n",
       "      <td>4.500000</td>\n",
       "      <td>21.000000</td>\n",
       "      <td>28.000000</td>\n",
       "      <td>2.000000</td>\n",
       "      <td>3.000000</td>\n",
       "      <td>2.750000e+04</td>\n",
       "      <td>2018.000000</td>\n",
       "    </tr>\n",
       "    <tr>\n",
       "      <th>75%</th>\n",
       "      <td>46110.000000</td>\n",
       "      <td>4.800000</td>\n",
       "      <td>24.000000</td>\n",
       "      <td>32.000000</td>\n",
       "      <td>2.000000</td>\n",
       "      <td>5.000000</td>\n",
       "      <td>3.709500e+04</td>\n",
       "      <td>2020.000000</td>\n",
       "    </tr>\n",
       "    <tr>\n",
       "      <th>max</th>\n",
       "      <td>492592.000000</td>\n",
       "      <td>5.000000</td>\n",
       "      <td>204.000000</td>\n",
       "      <td>684.000000</td>\n",
       "      <td>4.000000</td>\n",
       "      <td>7.000000</td>\n",
       "      <td>1.450000e+06</td>\n",
       "      <td>2022.000000</td>\n",
       "    </tr>\n",
       "  </tbody>\n",
       "</table>\n",
       "</div>"
      ],
      "text/plain": [
       "             Mileage         Rating       City MPG    Highway MPG  \\\n",
       "count  133214.000000  133214.000000  133214.000000  133214.000000   \n",
       "mean    35433.224458       4.333235      22.486946      30.619905   \n",
       "std     32453.706306       0.675965      11.175377      21.655690   \n",
       "min         1.000000       1.000000       0.000000       0.000000   \n",
       "25%     13324.000000       4.200000      18.000000      25.000000   \n",
       "50%     28779.000000       4.500000      21.000000      28.000000   \n",
       "75%     46110.000000       4.800000      24.000000      32.000000   \n",
       "max    492592.000000       5.000000     204.000000     684.000000   \n",
       "\n",
       "       Num_ent_features  Num_safe_features         Price     Model Year  \n",
       "count     133214.000000      133214.000000  1.332140e+05  133214.000000  \n",
       "mean           1.861816           3.763974  3.076880e+04    2017.932695  \n",
       "std            0.715276           1.364227  1.884246e+04       2.433478  \n",
       "min            1.000000           1.000000  1.500000e+03    2001.000000  \n",
       "25%            1.000000           3.000000  2.000000e+04    2017.000000  \n",
       "50%            2.000000           3.000000  2.750000e+04    2018.000000  \n",
       "75%            2.000000           5.000000  3.709500e+04    2020.000000  \n",
       "max            4.000000           7.000000  1.450000e+06    2022.000000  "
      ]
     },
     "execution_count": 50,
     "metadata": {},
     "output_type": "execute_result"
    }
   ],
   "source": [
    "df.describe()"
   ]
  },
  {
   "cell_type": "code",
   "execution_count": 51,
   "id": "according-sheriff",
   "metadata": {},
   "outputs": [
    {
     "name": "stdout",
     "output_type": "stream",
     "text": [
      "<class 'pandas.core.frame.DataFrame'>\n",
      "Int64Index: 133214 entries, 0 to 164783\n",
      "Data columns (total 18 columns):\n",
      " #   Column             Non-Null Count   Dtype  \n",
      "---  ------             --------------   -----  \n",
      " 0   Name               133214 non-null  object \n",
      " 1   Mileage            133214 non-null  int64  \n",
      " 2   Address            133214 non-null  object \n",
      " 3   Rating             133214 non-null  float64\n",
      " 4   Fuel Type          133214 non-null  object \n",
      " 5   City MPG           133214 non-null  float64\n",
      " 6   Highway MPG        133214 non-null  float64\n",
      " 7   Drivetrain         133214 non-null  object \n",
      " 8   Engine             133214 non-null  object \n",
      " 9   Exterior Color     133214 non-null  object \n",
      " 10  Interior Color     133214 non-null  object \n",
      " 11  Transmission       133214 non-null  object \n",
      " 12  Num_ent_features   133214 non-null  float64\n",
      " 13  Num_safe_features  133214 non-null  float64\n",
      " 14  Price              133214 non-null  int64  \n",
      " 15  Model Year         133214 non-null  int64  \n",
      " 16  Car Model          133214 non-null  object \n",
      " 17  Make               133214 non-null  object \n",
      "dtypes: float64(5), int64(3), object(10)\n",
      "memory usage: 19.3+ MB\n"
     ]
    }
   ],
   "source": [
    "df.info()"
   ]
  },
  {
   "cell_type": "code",
   "execution_count": 52,
   "id": "union-seeking",
   "metadata": {},
   "outputs": [
    {
     "data": {
      "text/plain": [
       "<AxesSubplot:xlabel='Price', ylabel='Density'>"
      ]
     },
     "execution_count": 52,
     "metadata": {},
     "output_type": "execute_result"
    },
    {
     "data": {
      "image/png": "[encoded data removed]",
      "text/plain": [
       "<Figure size 432x288 with 1 Axes>"
      ]
     },
     "metadata": {
      "needs_background": "light"
     },
     "output_type": "display_data"
    }
   ],
   "source": [
    "#Check price distribution\n",
    "sns.distplot(df.Price)"
   ]
  },
  {
   "cell_type": "code",
   "execution_count": 53,
   "id": "announced-elevation",
   "metadata": {},
   "outputs": [],
   "source": [
    "df = df[df.Price <= (df.Price.mean() + 3 * df.Price.std())]"
   ]
  },
  {
   "cell_type": "code",
   "execution_count": 54,
   "id": "powerful-hughes",
   "metadata": {},
   "outputs": [
    {
     "data": {
      "text/plain": [
       "(132109, 18)"
      ]
     },
     "execution_count": 54,
     "metadata": {},
     "output_type": "execute_result"
    }
   ],
   "source": [
    "df.shape"
   ]
  },
  {
   "cell_type": "code",
   "execution_count": 55,
   "id": "governing-covering",
   "metadata": {},
   "outputs": [
    {
     "data": {
      "text/plain": [
       "<AxesSubplot:xlabel='Price', ylabel='Density'>"
      ]
     },
     "execution_count": 55,
     "metadata": {},
     "output_type": "execute_result"
    },
    {
     "data": {
      "image/png": "[encoded data removed]",
      "text/plain": [
       "<Figure size 432x288 with 1 Axes>"
      ]
     },
     "metadata": {
      "needs_background": "light"
     },
     "output_type": "display_data"
    }
   ],
   "source": [
    "sns.distplot(df.Price)"
   ]
  },
  {
   "cell_type": "code",
   "execution_count": 56,
   "id": "unavailable-correspondence",
   "metadata": {},
   "outputs": [
    {
     "data": {
      "text/html": [
       "<div>\n",
       "<style scoped>\n",
       "    .dataframe tbody tr th:only-of-type {\n",
       "        vertical-align: middle;\n",
       "    }\n",
       "\n",
       "    .dataframe tbody tr th {\n",
       "        vertical-align: top;\n",
       "    }\n",
       "\n",
       "    .dataframe thead th {\n",
       "        text-align: right;\n",
       "    }\n",
       "</style>\n",
       "<table border=\"1\" class=\"dataframe\">\n",
       "  <thead>\n",
       "    <tr style=\"text-align: right;\">\n",
       "      <th></th>\n",
       "      <th>Mileage</th>\n",
       "      <th>Rating</th>\n",
       "      <th>City MPG</th>\n",
       "      <th>Highway MPG</th>\n",
       "      <th>Num_ent_features</th>\n",
       "      <th>Num_safe_features</th>\n",
       "      <th>Price</th>\n",
       "      <th>Model Year</th>\n",
       "    </tr>\n",
       "  </thead>\n",
       "  <tbody>\n",
       "    <tr>\n",
       "      <th>count</th>\n",
       "      <td>132109.000000</td>\n",
       "      <td>132109.000000</td>\n",
       "      <td>132109.000000</td>\n",
       "      <td>132109.000000</td>\n",
       "      <td>132109.000000</td>\n",
       "      <td>132109.000000</td>\n",
       "      <td>132109.000000</td>\n",
       "      <td>132109.000000</td>\n",
       "    </tr>\n",
       "    <tr>\n",
       "      <th>mean</th>\n",
       "      <td>35648.342846</td>\n",
       "      <td>4.332357</td>\n",
       "      <td>22.533400</td>\n",
       "      <td>30.504795</td>\n",
       "      <td>1.857822</td>\n",
       "      <td>3.768199</td>\n",
       "      <td>29795.749321</td>\n",
       "      <td>2017.926228</td>\n",
       "    </tr>\n",
       "    <tr>\n",
       "      <th>std</th>\n",
       "      <td>32486.955760</td>\n",
       "      <td>0.676222</td>\n",
       "      <td>11.169369</td>\n",
       "      <td>20.958948</td>\n",
       "      <td>0.713981</td>\n",
       "      <td>1.364672</td>\n",
       "      <td>13315.527604</td>\n",
       "      <td>2.433730</td>\n",
       "    </tr>\n",
       "    <tr>\n",
       "      <th>min</th>\n",
       "      <td>1.000000</td>\n",
       "      <td>1.000000</td>\n",
       "      <td>0.000000</td>\n",
       "      <td>0.000000</td>\n",
       "      <td>1.000000</td>\n",
       "      <td>1.000000</td>\n",
       "      <td>1500.000000</td>\n",
       "      <td>2001.000000</td>\n",
       "    </tr>\n",
       "    <tr>\n",
       "      <th>25%</th>\n",
       "      <td>13604.000000</td>\n",
       "      <td>4.200000</td>\n",
       "      <td>18.000000</td>\n",
       "      <td>25.000000</td>\n",
       "      <td>1.000000</td>\n",
       "      <td>3.000000</td>\n",
       "      <td>19999.000000</td>\n",
       "      <td>2017.000000</td>\n",
       "    </tr>\n",
       "    <tr>\n",
       "      <th>50%</th>\n",
       "      <td>28961.000000</td>\n",
       "      <td>4.500000</td>\n",
       "      <td>21.000000</td>\n",
       "      <td>28.000000</td>\n",
       "      <td>2.000000</td>\n",
       "      <td>3.000000</td>\n",
       "      <td>27389.000000</td>\n",
       "      <td>2018.000000</td>\n",
       "    </tr>\n",
       "    <tr>\n",
       "      <th>75%</th>\n",
       "      <td>46354.000000</td>\n",
       "      <td>4.800000</td>\n",
       "      <td>24.000000</td>\n",
       "      <td>32.000000</td>\n",
       "      <td>2.000000</td>\n",
       "      <td>5.000000</td>\n",
       "      <td>36989.000000</td>\n",
       "      <td>2020.000000</td>\n",
       "    </tr>\n",
       "    <tr>\n",
       "      <th>max</th>\n",
       "      <td>492592.000000</td>\n",
       "      <td>5.000000</td>\n",
       "      <td>204.000000</td>\n",
       "      <td>414.000000</td>\n",
       "      <td>4.000000</td>\n",
       "      <td>7.000000</td>\n",
       "      <td>87240.000000</td>\n",
       "      <td>2022.000000</td>\n",
       "    </tr>\n",
       "  </tbody>\n",
       "</table>\n",
       "</div>"
      ],
      "text/plain": [
       "             Mileage         Rating       City MPG    Highway MPG  \\\n",
       "count  132109.000000  132109.000000  132109.000000  132109.000000   \n",
       "mean    35648.342846       4.332357      22.533400      30.504795   \n",
       "std     32486.955760       0.676222      11.169369      20.958948   \n",
       "min         1.000000       1.000000       0.000000       0.000000   \n",
       "25%     13604.000000       4.200000      18.000000      25.000000   \n",
       "50%     28961.000000       4.500000      21.000000      28.000000   \n",
       "75%     46354.000000       4.800000      24.000000      32.000000   \n",
       "max    492592.000000       5.000000     204.000000     414.000000   \n",
       "\n",
       "       Num_ent_features  Num_safe_features          Price     Model Year  \n",
       "count     132109.000000      132109.000000  132109.000000  132109.000000  \n",
       "mean           1.857822           3.768199   29795.749321    2017.926228  \n",
       "std            0.713981           1.364672   13315.527604       2.433730  \n",
       "min            1.000000           1.000000    1500.000000    2001.000000  \n",
       "25%            1.000000           3.000000   19999.000000    2017.000000  \n",
       "50%            2.000000           3.000000   27389.000000    2018.000000  \n",
       "75%            2.000000           5.000000   36989.000000    2020.000000  \n",
       "max            4.000000           7.000000   87240.000000    2022.000000  "
      ]
     },
     "execution_count": 56,
     "metadata": {},
     "output_type": "execute_result"
    }
   ],
   "source": [
    "df.describe()"
   ]
  },
  {
   "cell_type": "code",
   "execution_count": 57,
   "id": "communist-gossip",
   "metadata": {},
   "outputs": [
    {
     "data": {
      "text/plain": [
       "25419"
      ]
     },
     "execution_count": 57,
     "metadata": {},
     "output_type": "execute_result"
    }
   ],
   "source": [
    "df.duplicated().sum()"
   ]
  },
  {
   "cell_type": "code",
   "execution_count": 58,
   "id": "spread-decrease",
   "metadata": {},
   "outputs": [],
   "source": [
    "df.drop_duplicates(inplace=True)"
   ]
  },
  {
   "cell_type": "code",
   "execution_count": null,
   "id": "disturbed-klein",
   "metadata": {},
   "outputs": [],
   "source": []
  },
  {
   "cell_type": "code",
   "execution_count": 59,
   "id": "mysterious-disney",
   "metadata": {},
   "outputs": [
    {
     "name": "stdout",
     "output_type": "stream",
     "text": [
      "<class 'pandas.core.frame.DataFrame'>\n",
      "Int64Index: 106690 entries, 0 to 164783\n",
      "Data columns (total 18 columns):\n",
      " #   Column             Non-Null Count   Dtype  \n",
      "---  ------             --------------   -----  \n",
      " 0   Name               106690 non-null  object \n",
      " 1   Mileage            106690 non-null  int64  \n",
      " 2   Address            106690 non-null  object \n",
      " 3   Rating             106690 non-null  float64\n",
      " 4   Fuel Type          106690 non-null  object \n",
      " 5   City MPG           106690 non-null  float64\n",
      " 6   Highway MPG        106690 non-null  float64\n",
      " 7   Drivetrain         106690 non-null  object \n",
      " 8   Engine             106690 non-null  object \n",
      " 9   Exterior Color     106690 non-null  object \n",
      " 10  Interior Color     106690 non-null  object \n",
      " 11  Transmission       106690 non-null  object \n",
      " 12  Num_ent_features   106690 non-null  float64\n",
      " 13  Num_safe_features  106690 non-null  float64\n",
      " 14  Price              106690 non-null  int64  \n",
      " 15  Model Year         106690 non-null  int64  \n",
      " 16  Car Model          106690 non-null  object \n",
      " 17  Make               106690 non-null  object \n",
      "dtypes: float64(5), int64(3), object(10)\n",
      "memory usage: 15.5+ MB\n"
     ]
    }
   ],
   "source": [
    "df.info()"
   ]
  },
  {
   "cell_type": "code",
   "execution_count": 60,
   "id": "embedded-robin",
   "metadata": {},
   "outputs": [
    {
     "data": {
      "text/plain": [
       "(106690, 18)"
      ]
     },
     "execution_count": 60,
     "metadata": {},
     "output_type": "execute_result"
    }
   ],
   "source": [
    "df.shape"
   ]
  },
  {
   "cell_type": "code",
   "execution_count": 61,
   "id": "bearing-customs",
   "metadata": {},
   "outputs": [
    {
     "data": {
      "text/plain": [
       "<AxesSubplot:xlabel='Mileage', ylabel='Density'>"
      ]
     },
     "execution_count": 61,
     "metadata": {},
     "output_type": "execute_result"
    },
    {
     "data": {
      "image/png": "[encoded data removed]",
      "text/plain": [
       "<Figure size 432x288 with 1 Axes>"
      ]
     },
     "metadata": {
      "needs_background": "light"
     },
     "output_type": "display_data"
    }
   ],
   "source": [
    "sns.distplot(df.Mileage)"
   ]
  },
  {
   "cell_type": "code",
   "execution_count": 62,
   "id": "senior-olympus",
   "metadata": {},
   "outputs": [
    {
     "data": {
      "text/plain": [
       "(106690, 18)"
      ]
     },
     "execution_count": 62,
     "metadata": {},
     "output_type": "execute_result"
    }
   ],
   "source": [
    "df.shape"
   ]
  },
  {
   "cell_type": "code",
   "execution_count": 63,
   "id": "eleven-divide",
   "metadata": {},
   "outputs": [
    {
     "data": {
      "text/plain": [
       "(106524, 18)"
      ]
     },
     "execution_count": 63,
     "metadata": {},
     "output_type": "execute_result"
    }
   ],
   "source": [
    "df = df[df.Mileage <= 200000]\n",
    "df.shape"
   ]
  },
  {
   "cell_type": "code",
   "execution_count": 64,
   "id": "color-seating",
   "metadata": {},
   "outputs": [],
   "source": [
    "df.to_csv('cleaned_full_data.csv')"
   ]
  }
 ],
 "metadata": {
  "kernelspec": {
   "display_name": "Python [conda env:metis] *",
   "language": "python",
   "name": "conda-env-metis-py"
  },
  "language_info": {
   "codemirror_mode": {
    "name": "ipython",
    "version": 3
   },
   "file_extension": ".py",
   "mimetype": "text/x-python",
   "name": "python",
   "nbconvert_exporter": "python",
   "pygments_lexer": "ipython3",
   "version": "3.8.8"
  }
 },
 "nbformat": 4,
 "nbformat_minor": 5
}
